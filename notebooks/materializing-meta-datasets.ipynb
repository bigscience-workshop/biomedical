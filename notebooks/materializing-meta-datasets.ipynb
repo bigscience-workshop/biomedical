{
 "cells": [
  {
   "cell_type": "code",
   "execution_count": 1,
   "id": "5f6904e2",
   "metadata": {},
   "outputs": [],
   "source": [
    "from pprint import pprint\n",
    "from bigbio.dataloader import BigBioConfigHelpers\n",
    "from bigbio.utils.constants import Tasks"
   ]
  },
  {
   "cell_type": "markdown",
   "id": "be90c109",
   "metadata": {},
   "source": [
    "# BigBioConfigHelpers\n",
    "\n",
    "Start by creating an instance of BigBioConfigHelpers. This will help locate and filter datasets available in the BigBIO package. "
   ]
  },
  {
   "cell_type": "code",
   "execution_count": 2,
   "id": "d250c451",
   "metadata": {
    "scrolled": false
   },
   "outputs": [
    {
     "name": "stdout",
     "output_type": "stream",
     "text": [
      "found 453 dataset configs from 127 datasets\n"
     ]
    }
   ],
   "source": [
    "conhelps = BigBioConfigHelpers()\n",
    "print(\"found {} dataset configs from {} datasets\".format(\n",
    "    len(conhelps),\n",
    "    len(conhelps.available_dataset_names)\n",
    "))"
   ]
  },
  {
   "cell_type": "markdown",
   "id": "c51b1c5d",
   "metadata": {},
   "source": [
    "Each dataset has at least one source config and at least one bigbio config. Source configs attempt to preserve the original structure of the dataset while bigbio configs are normalized into one of several bigbio [task schemas](https://github.com/bigscience-workshop/biomedical/blob/master/task_schemas.md). Some datasets have several source configs and/or bigbio configs (e.g. multi-lingual datasets or datasets supporting multiple cross-validation folds). This is why the number of configs is greater than twice the number of datasets."
   ]
  },
  {
   "cell_type": "markdown",
   "id": "918fc969",
   "metadata": {},
   "source": [
    "### Examine One Helper\n",
    "\n",
    "conhelps is list-like and elements can be accesed with integer indices. Lets examine one."
   ]
  },
  {
   "cell_type": "code",
   "execution_count": 3,
   "id": "950deb8d",
   "metadata": {},
   "outputs": [
    {
     "name": "stdout",
     "output_type": "stream",
     "text": [
      "BigBioConfigHelper(script='/home/galtay/repos/biomedical/bigbio/biodatasets/an_em/an_em.py', dataset_name='an_em', tasks=[<Tasks.NAMED_ENTITY_RECOGNITION: 'NER'>, <Tasks.COREFERENCE_RESOLUTION: 'COREF'>, <Tasks.RELATION_EXTRACTION: 'RE'>], languages=[<Lang.EN: 'English'>], config=BigBioConfig(name='an_em_source', version=1.0.4, data_dir=None, data_files=None, description='AnEM source schema', schema='source', subset_id='an_em'), is_local=False, is_pubmed=True, is_bigbio_schema=False, bigbio_schema_caps=None, is_large=False, is_resource=False, is_default=True, is_broken=False, bigbio_version='1.0.0', source_version='1.0.4', citation=\"@inproceedings{ohta-etal-2012-open,\\n  author    = {Ohta, Tomoko and Pyysalo, Sampo and Tsujii, Jun{'}ichi and Ananiadou, Sophia},\\n  title     = {Open-domain Anatomical Entity Mention Detection},\\n  journal   = {},\\n  volume    = {W12-43},\\n  year      = {2012},\\n  url       = {https://aclanthology.org/W12-4304},\\n  doi       = {},\\n  biburl    = {},\\n  bibsource = {},\\n  publisher = {Association for Computational Linguistics}\\n}\\n\", description='AnEM corpus is a domain- and species-independent resource manually annotated for anatomical\\nentity mentions using a fine-grained classification system. The corpus consists of 500 documents\\n(over 90,000 words) selected randomly from citation abstracts and full-text papers with\\nthe aim of making the corpus representative of the entire available biomedical scientific\\nliterature. The corpus annotation covers mentions of both healthy and pathological anatomical\\nentities and contains over 3,000 annotated mentions.\\n', homepage='http://www.nactem.ac.uk/anatomy/', display_name='AnEM', license=License(name='Creative Commons Attribution Share Alike 3.0 Unported', short_name='CC_BY_SA_3p0', text=None, link=None, version=None, provenance=None))\n"
     ]
    }
   ],
   "source": [
    "pprint(conhelps[0])"
   ]
  },
  {
   "cell_type": "markdown",
   "id": "323b6e00",
   "metadata": {},
   "source": [
    "### Show All Available Datasets"
   ]
  },
  {
   "cell_type": "code",
   "execution_count": 4,
   "id": "f9eb7c61",
   "metadata": {},
   "outputs": [
    {
     "name": "stdout",
     "output_type": "stream",
     "text": [
      "['an_em', 'anat_em', 'ask_a_patient', 'bc5cdr', 'bc7_litcovid', 'bio_sim_verb', 'bio_simlex', 'bioasq_2021_mesinesp', 'bioasq_task_b', 'bioasq_task_c_2017', 'bioinfer', 'biology_how_why_corpus', 'biomrc', 'bionlp_shared_task_2009', 'bionlp_st_2011_epi', 'bionlp_st_2011_ge', 'bionlp_st_2011_id', 'bionlp_st_2011_rel', 'bionlp_st_2013_cg', 'bionlp_st_2013_ge', 'bionlp_st_2013_gro', 'bionlp_st_2013_pc', 'bionlp_st_2019_bb', 'biored', 'biorelex', 'bioscope', 'biosses', 'cadec', 'cantemist', 'cas', 'cellfinder', 'chebi_nactem', 'chemdner', 'chemprot', 'chia', 'citation_gia_test_collection', 'codiesp', 'cord_ner', 'ctebmsp', 'ddi_corpus', 'diann_iber_eval', 'distemist', 'ebm_pico', 'ehr_rel', 'essai', 'euadr', 'evidence_inference', 'gad', 'genetag', 'genia_ptm_event_corpus', 'genia_relation_corpus', 'genia_term_corpus', 'geokhoj_v1', 'gnormplus', 'hallmarks_of_cancer', 'hprd50', 'iepa', 'jnlpba', 'linnaeus', 'lll', 'mantra_gsc', 'mayosrs', 'med_qa', 'medal', 'meddialog', 'meddocan', 'medhop', 'medical_data', 'mediqa_nli', 'mediqa_qa', 'mediqa_rqe', 'medmentions', 'mednli', 'meqsum', 'minimayosrs', 'mirna', 'mlee', 'mqp', 'msh_wsd', 'muchmore', 'multi_xscience', 'mutation_finder', 'n2c2_2006_deid', 'n2c2_2006_smokers', 'n2c2_2008', 'n2c2_2009', 'n2c2_2010', 'n2c2_2011', 'n2c2_2014_deid', 'n2c2_2014_risk_factors', 'n2c2_2018_track1', 'n2c2_2018_track2', 'ncbi_disease', 'nlm_gene', 'nlm_wsd', 'nlmchem', 'ntcir_13_medweb', 'osiris', 'paramed', 'pdr', 'pharmaconer', 'pho_ner', 'pico_extraction', 'pmc_patients', 'progene', 'psytar', 'pubhealth', 'pubmed_qa', 'pubtator_central', 'quaero', 'scai_chemical', 'scai_disease', 'scicite', 'scielo', 'scifact', 'sciq', 'scitail', 'seth_corpus', 'spl_adr_200db', 'swedish_medical_ner', 'thomas2011', 'tmvar_v1', 'tmvar_v2', 'tmvar_v3', 'twadrl', 'umnsrs', 'verspoor_2013']\n"
     ]
    }
   ],
   "source": [
    "print(conhelps.available_dataset_names)"
   ]
  },
  {
   "cell_type": "markdown",
   "id": "4eb92025",
   "metadata": {},
   "source": [
    "### Show Helpers for Specific Dataset\n",
    "\n",
    "We can also get the helpers for a specific dataset using the dataset name. "
   ]
  },
  {
   "cell_type": "code",
   "execution_count": 5,
   "id": "ed60355b",
   "metadata": {
    "scrolled": false
   },
   "outputs": [
    {
     "name": "stdout",
     "output_type": "stream",
     "text": [
      "2\n",
      "BigBioConfig(name='bc5cdr_source', version=1.5.16, data_dir=None, data_files=None, description='BC5CDR source schema', schema='source', subset_id='bc5cdr')\n",
      "BigBioConfig(name='bc5cdr_bigbio_kb', version=1.0.0, data_dir=None, data_files=None, description='BC5CDR simplified BigBio schema', schema='bigbio_kb', subset_id='bc5cdr')\n"
     ]
    }
   ],
   "source": [
    "bc5cdr_helpers = conhelps.for_dataset(\"bc5cdr\")\n",
    "print(len(bc5cdr_helpers))\n",
    "pprint(bc5cdr_helpers[0].config)\n",
    "pprint(bc5cdr_helpers[1].config)"
   ]
  },
  {
   "cell_type": "markdown",
   "id": "e61c9a92",
   "metadata": {},
   "source": [
    "# Loading Datasets\n",
    "\n",
    "Each config helper provides a wrapper to the [load_dataset](https://huggingface.co/docs/datasets/v2.2.1/en/package_reference/loading_methods#datasets.load_dataset) function from Huggingface's [datasets](https://huggingface.co/docs/datasets/) package. This wrapper will automatically populate the first two arguments of load_dataset,\n",
    "\n",
    "* path: path to the dataloader script\n",
    "* name: name of the dataset configuration\n",
    "\n",
    "If you have a specific dataset and config in mind, you can,\n",
    "\n",
    "* fetch the helper from conhelps with the for_config_name method\n",
    "* load the dataset using the load_dataset wrapper"
   ]
  },
  {
   "cell_type": "code",
   "execution_count": 6,
   "id": "520925a3",
   "metadata": {},
   "outputs": [
    {
     "name": "stderr",
     "output_type": "stream",
     "text": [
      "Reusing dataset bc5cdr_dataset (/home/galtay/.cache/huggingface/datasets/bc5cdr_dataset/bc5cdr_source/1.5.16/f01f16ea9b65ead985bedadf7335195c32297c8f1b09417fc607b102a6757d6f)\n"
     ]
    },
    {
     "data": {
      "application/vnd.jupyter.widget-view+json": {
       "model_id": "82b5d18d4fc84165bfba10054a0b9d2f",
       "version_major": 2,
       "version_minor": 0
      },
      "text/plain": [
       "  0%|          | 0/3 [00:00<?, ?it/s]"
      ]
     },
     "metadata": {},
     "output_type": "display_data"
    },
    {
     "name": "stderr",
     "output_type": "stream",
     "text": [
      "Reusing dataset bc5cdr_dataset (/home/galtay/.cache/huggingface/datasets/bc5cdr_dataset/bc5cdr_bigbio_kb/1.0.0/f01f16ea9b65ead985bedadf7335195c32297c8f1b09417fc607b102a6757d6f)\n"
     ]
    },
    {
     "data": {
      "application/vnd.jupyter.widget-view+json": {
       "model_id": "4b621087d30e41da8df7fa0db57efade",
       "version_major": 2,
       "version_minor": 0
      },
      "text/plain": [
       "  0%|          | 0/3 [00:00<?, ?it/s]"
      ]
     },
     "metadata": {},
     "output_type": "display_data"
    }
   ],
   "source": [
    "bc5cdr_source = conhelps.for_config_name(\"bc5cdr_source\").load_dataset()\n",
    "bc5cdr_bigbio = conhelps.for_config_name(\"bc5cdr_bigbio_kb\").load_dataset()"
   ]
  },
  {
   "cell_type": "markdown",
   "id": "ca4e1b97",
   "metadata": {},
   "source": [
    "This wrapper function will pass through any other kwargs you may need to use. For example data_dir for datasets that are not public,"
   ]
  },
  {
   "cell_type": "code",
   "execution_count": 7,
   "id": "2824eb8c",
   "metadata": {},
   "outputs": [],
   "source": [
    "# note this will not work unless you have the n2c2 dataset locally\n",
    "\n",
    "#n2c2_2011_source = (\n",
    "#    conhelps.\n",
    "#    for_config_name(\"n2c2_2011_source\").\n",
    "#    load_dataset(data_dir=\"/path/to/n2c2_2011/data\")\n",
    "#)"
   ]
  },
  {
   "cell_type": "markdown",
   "id": "3445d0cb",
   "metadata": {},
   "source": [
    "# Filter and Load Multiple Datasets\n",
    "\n",
    "You can use any attribute of a BigBioConfigHelper to filter the collection. Here are some examples,"
   ]
  },
  {
   "cell_type": "markdown",
   "id": "4060da45",
   "metadata": {},
   "source": [
    "### BigBIO schema datasets that are public and not \"large\""
   ]
  },
  {
   "cell_type": "code",
   "execution_count": 8,
   "id": "60b7bfc5",
   "metadata": {},
   "outputs": [],
   "source": [
    "bb_public_helpers = conhelps.filtered(\n",
    "    lambda x:\n",
    "        x.is_bigbio_schema\n",
    "        and not x.is_local\n",
    "        and not x.is_large\n",
    ")"
   ]
  },
  {
   "cell_type": "markdown",
   "id": "547b2cc3",
   "metadata": {},
   "source": [
    "### Source schema for n2c2 datasets"
   ]
  },
  {
   "cell_type": "code",
   "execution_count": 9,
   "id": "82433fe7",
   "metadata": {},
   "outputs": [],
   "source": [
    "n2c2_source_helpers = conhelps.filtered(\n",
    "    lambda x:\n",
    "        x.dataset_name.startswith(\"n2c2\")\n",
    "        and not x.is_bigbio_schema\n",
    ")"
   ]
  },
  {
   "cell_type": "markdown",
   "id": "5eb036cb",
   "metadata": {},
   "source": [
    "### BigBIO schema datasets that are public and support textual entailment"
   ]
  },
  {
   "cell_type": "code",
   "execution_count": 10,
   "id": "837043e8",
   "metadata": {},
   "outputs": [],
   "source": [
    "entailment_helpers = conhelps.filtered(\n",
    "    lambda x:\n",
    "        x.is_bigbio_schema\n",
    "        and not x.is_local\n",
    "        and Tasks.TEXTUAL_ENTAILMENT in x.tasks\n",
    ")"
   ]
  },
  {
   "cell_type": "markdown",
   "id": "f1962f52",
   "metadata": {},
   "source": [
    "### Loading filtered datasets\n",
    "\n",
    "Note that the `filtered` method returns another instance of `BigBioConfigHelpers`. This means you can iterate over any of the helpers defined above and load all of the datasets. "
   ]
  },
  {
   "cell_type": "code",
   "execution_count": 11,
   "id": "25e5d0f1",
   "metadata": {},
   "outputs": [
    {
     "name": "stdout",
     "output_type": "stream",
     "text": [
      "182\n"
     ]
    }
   ],
   "source": [
    "print(len(bb_public_helpers))"
   ]
  },
  {
   "cell_type": "code",
   "execution_count": 12,
   "id": "84e9cf45",
   "metadata": {},
   "outputs": [
    {
     "name": "stderr",
     "output_type": "stream",
     "text": [
      "Reusing dataset an_em_dataset (/home/galtay/.cache/huggingface/datasets/an_em_dataset/an_em_bigbio_kb/1.0.0/7a60ad16ca5e51e4ccc8d8de0169364df987f7c94f307050e0ddab5473d4f13b)\n"
     ]
    },
    {
     "data": {
      "application/vnd.jupyter.widget-view+json": {
       "model_id": "fd93778bb3564020a4da1acfdab0c7f2",
       "version_major": 2,
       "version_minor": 0
      },
      "text/plain": [
       "  0%|          | 0/3 [00:00<?, ?it/s]"
      ]
     },
     "metadata": {},
     "output_type": "display_data"
    },
    {
     "name": "stderr",
     "output_type": "stream",
     "text": [
      "Reusing dataset anat_em_dataset (/home/galtay/.cache/huggingface/datasets/anat_em_dataset/anat_em_bigbio_kb/1.0.0/5fdfe355922d9812744a70efd7fe46a322f9dba70f3ed29464e0c1009e4d04a1)\n"
     ]
    },
    {
     "data": {
      "application/vnd.jupyter.widget-view+json": {
       "model_id": "0e8df6a6682749b6914c8d05db8c9c25",
       "version_major": 2,
       "version_minor": 0
      },
      "text/plain": [
       "  0%|          | 0/3 [00:00<?, ?it/s]"
      ]
     },
     "metadata": {},
     "output_type": "display_data"
    },
    {
     "name": "stderr",
     "output_type": "stream",
     "text": [
      "Reusing dataset ask_a_patient (/home/galtay/.cache/huggingface/datasets/ask_a_patient/ask_a_patient_bigbio_kb/1.0.0/b3a42779cd6f10ed9a7d30be59cf32b0046c9d6e259e93c72fefbfd4f9716ef4)\n"
     ]
    },
    {
     "data": {
      "application/vnd.jupyter.widget-view+json": {
       "model_id": "ea81f44414ba400b8067874062aa1ec0",
       "version_major": 2,
       "version_minor": 0
      },
      "text/plain": [
       "  0%|          | 0/30 [00:00<?, ?it/s]"
      ]
     },
     "metadata": {},
     "output_type": "display_data"
    },
    {
     "name": "stderr",
     "output_type": "stream",
     "text": [
      "Reusing dataset bc5cdr_dataset (/home/galtay/.cache/huggingface/datasets/bc5cdr_dataset/bc5cdr_bigbio_kb/1.0.0/f01f16ea9b65ead985bedadf7335195c32297c8f1b09417fc607b102a6757d6f)\n"
     ]
    },
    {
     "data": {
      "application/vnd.jupyter.widget-view+json": {
       "model_id": "a3431387e37e4e58aa275c47d4834c2b",
       "version_major": 2,
       "version_minor": 0
      },
      "text/plain": [
       "  0%|          | 0/3 [00:00<?, ?it/s]"
      ]
     },
     "metadata": {},
     "output_type": "display_data"
    },
    {
     "name": "stderr",
     "output_type": "stream",
     "text": [
      "Reusing dataset bc7_lit_covid_dataset (/home/galtay/.cache/huggingface/datasets/bc7_lit_covid_dataset/bc7_litcovid_bigbio_text/1.0.0/96c21c98083595b15fd7ba063c4400026ccd75027316a6099df49598a2c5c557)\n"
     ]
    },
    {
     "data": {
      "application/vnd.jupyter.widget-view+json": {
       "model_id": "b5614f9fc3054818b2b71c20363332b0",
       "version_major": 2,
       "version_minor": 0
      },
      "text/plain": [
       "  0%|          | 0/3 [00:00<?, ?it/s]"
      ]
     },
     "metadata": {},
     "output_type": "display_data"
    },
    {
     "name": "stderr",
     "output_type": "stream",
     "text": [
      "Reusing dataset bio_sim_verb (/home/galtay/.cache/huggingface/datasets/bio_sim_verb/bio_sim_verb_bigbio_pairs/1.0.0/602af796168079d1c6ebcbc5b8997f6ded65244319deed4432bd6347529e1f3a)\n"
     ]
    },
    {
     "data": {
      "application/vnd.jupyter.widget-view+json": {
       "model_id": "0641a2740aa64935947d632bbb9a2301",
       "version_major": 2,
       "version_minor": 0
      },
      "text/plain": [
       "  0%|          | 0/1 [00:00<?, ?it/s]"
      ]
     },
     "metadata": {},
     "output_type": "display_data"
    },
    {
     "name": "stderr",
     "output_type": "stream",
     "text": [
      "Reusing dataset bio_simlex_dataset (/home/galtay/.cache/huggingface/datasets/bio_simlex_dataset/bio_simlex_bigbio_pairs/1.0.0/5568efc37fbd642518f04c5d871e14fe7781fa3edea8fb8da96f75ed1c36d85c)\n"
     ]
    },
    {
     "data": {
      "application/vnd.jupyter.widget-view+json": {
       "model_id": "9cfb8ea57f7f4e67a8bf92f2f1358d72",
       "version_major": 2,
       "version_minor": 0
      },
      "text/plain": [
       "  0%|          | 0/1 [00:00<?, ?it/s]"
      ]
     },
     "metadata": {},
     "output_type": "display_data"
    },
    {
     "name": "stderr",
     "output_type": "stream",
     "text": [
      "Reusing dataset bioinfer_dataset (/home/galtay/.cache/huggingface/datasets/bioinfer_dataset/bioinfer_bigbio_kb/1.0.0/333a78767f28b6fdb78f7a4b87035e5f15641caeba7da6a2602ddb0a00d098eb)\n"
     ]
    },
    {
     "data": {
      "application/vnd.jupyter.widget-view+json": {
       "model_id": "fdf2feecc3a840d08370f8786c356a13",
       "version_major": 2,
       "version_minor": 0
      },
      "text/plain": [
       "  0%|          | 0/2 [00:00<?, ?it/s]"
      ]
     },
     "metadata": {},
     "output_type": "display_data"
    },
    {
     "name": "stderr",
     "output_type": "stream",
     "text": [
      "Reusing dataset biology_how_why_corpus_dataset (/home/galtay/.cache/huggingface/datasets/biology_how_why_corpus_dataset/biology_how_why_corpus_bigbio_qa/1.0.0/69a76824cbc92fc33ed0b2946cb68c69b78575d17f71031bb2eb42ead8269e8d)\n"
     ]
    },
    {
     "data": {
      "application/vnd.jupyter.widget-view+json": {
       "model_id": "8887fd907c4d4e51a67e225ec800c120",
       "version_major": 2,
       "version_minor": 0
      },
      "text/plain": [
       "  0%|          | 0/1 [00:00<?, ?it/s]"
      ]
     },
     "metadata": {},
     "output_type": "display_data"
    },
    {
     "name": "stderr",
     "output_type": "stream",
     "text": [
      "Reusing dataset biomrc_dataset (/home/galtay/.cache/huggingface/datasets/biomrc_dataset/biomrc_small_A_bigbio_qa/1.0.0/50019e3cc2ca2b443c65db67862fc9ce568f86da69f534487269cd62032c8334)\n"
     ]
    },
    {
     "data": {
      "application/vnd.jupyter.widget-view+json": {
       "model_id": "041a099215af469aafd7793fb972c393",
       "version_major": 2,
       "version_minor": 0
      },
      "text/plain": [
       "  0%|          | 0/3 [00:00<?, ?it/s]"
      ]
     },
     "metadata": {},
     "output_type": "display_data"
    },
    {
     "name": "stderr",
     "output_type": "stream",
     "text": [
      "Reusing dataset biomrc_dataset (/home/galtay/.cache/huggingface/datasets/biomrc_dataset/biomrc_tiny_A_bigbio_qa/1.0.0/50019e3cc2ca2b443c65db67862fc9ce568f86da69f534487269cd62032c8334)\n"
     ]
    },
    {
     "data": {
      "application/vnd.jupyter.widget-view+json": {
       "model_id": "a375d993fee44d9e94a578624eb2482c",
       "version_major": 2,
       "version_minor": 0
      },
      "text/plain": [
       "  0%|          | 0/1 [00:00<?, ?it/s]"
      ]
     },
     "metadata": {},
     "output_type": "display_data"
    },
    {
     "name": "stderr",
     "output_type": "stream",
     "text": [
      "Reusing dataset biomrc_dataset (/home/galtay/.cache/huggingface/datasets/biomrc_dataset/biomrc_small_B_bigbio_qa/1.0.0/50019e3cc2ca2b443c65db67862fc9ce568f86da69f534487269cd62032c8334)\n"
     ]
    },
    {
     "data": {
      "application/vnd.jupyter.widget-view+json": {
       "model_id": "2e78604460b64906a02a21b9521582c1",
       "version_major": 2,
       "version_minor": 0
      },
      "text/plain": [
       "  0%|          | 0/3 [00:00<?, ?it/s]"
      ]
     },
     "metadata": {},
     "output_type": "display_data"
    },
    {
     "name": "stderr",
     "output_type": "stream",
     "text": [
      "Reusing dataset biomrc_dataset (/home/galtay/.cache/huggingface/datasets/biomrc_dataset/biomrc_tiny_B_bigbio_qa/1.0.0/50019e3cc2ca2b443c65db67862fc9ce568f86da69f534487269cd62032c8334)\n"
     ]
    },
    {
     "data": {
      "application/vnd.jupyter.widget-view+json": {
       "model_id": "32bedda8ce904250b8ffe7adb6af9dcb",
       "version_major": 2,
       "version_minor": 0
      },
      "text/plain": [
       "  0%|          | 0/1 [00:00<?, ?it/s]"
      ]
     },
     "metadata": {},
     "output_type": "display_data"
    },
    {
     "name": "stderr",
     "output_type": "stream",
     "text": [
      "Reusing dataset bio_nlp_shared_task2009 (/home/galtay/.cache/huggingface/datasets/bio_nlp_shared_task2009/bionlp_shared_task_2009_bigbio_kb/1.0.0/49d4711f376f923398b34edeae28c47bbe018dc93d7b2162107944a7b5a87fb6)\n"
     ]
    },
    {
     "data": {
      "application/vnd.jupyter.widget-view+json": {
       "model_id": "c4b9ba9ff61a40b88234cfbdb19099bf",
       "version_major": 2,
       "version_minor": 0
      },
      "text/plain": [
       "  0%|          | 0/3 [00:00<?, ?it/s]"
      ]
     },
     "metadata": {},
     "output_type": "display_data"
    },
    {
     "name": "stderr",
     "output_type": "stream",
     "text": [
      "Reusing dataset bionlp_st_2011_epi (/home/galtay/.cache/huggingface/datasets/bionlp_st_2011_epi/bionlp_st_2011_epi_bigbio_kb/1.0.0/068468f74ae36d0767a9390eb74dad0da9406be80da64064507ca802bef279ab)\n"
     ]
    },
    {
     "data": {
      "application/vnd.jupyter.widget-view+json": {
       "model_id": "fae3c7f2c00e4eb88eb5cc9ca74f4a7d",
       "version_major": 2,
       "version_minor": 0
      },
      "text/plain": [
       "  0%|          | 0/3 [00:00<?, ?it/s]"
      ]
     },
     "metadata": {},
     "output_type": "display_data"
    },
    {
     "name": "stderr",
     "output_type": "stream",
     "text": [
      "Reusing dataset bionlp_st_2011_ge (/home/galtay/.cache/huggingface/datasets/bionlp_st_2011_ge/bionlp_st_2011_ge_bigbio_kb/1.0.0/7b87d387e9f5526bf15744e17aed32a21d6f2817ca344d010e7f87e6b76a9101)\n"
     ]
    },
    {
     "data": {
      "application/vnd.jupyter.widget-view+json": {
       "model_id": "538055aa743f4b46963f504af53fff9b",
       "version_major": 2,
       "version_minor": 0
      },
      "text/plain": [
       "  0%|          | 0/3 [00:00<?, ?it/s]"
      ]
     },
     "metadata": {},
     "output_type": "display_data"
    },
    {
     "name": "stderr",
     "output_type": "stream",
     "text": [
      "Reusing dataset bionlp_st_2011_id (/home/galtay/.cache/huggingface/datasets/bionlp_st_2011_id/bionlp_st_2011_id_bigbio_kb/1.0.0/134e4afb43363c8957ed14fe90a575ddb56f6dff0d2e52179a2a1227fa8f90f8)\n"
     ]
    },
    {
     "data": {
      "application/vnd.jupyter.widget-view+json": {
       "model_id": "6856fee92b874648be70a6670d5c765d",
       "version_major": 2,
       "version_minor": 0
      },
      "text/plain": [
       "  0%|          | 0/3 [00:00<?, ?it/s]"
      ]
     },
     "metadata": {},
     "output_type": "display_data"
    },
    {
     "name": "stderr",
     "output_type": "stream",
     "text": [
      "Reusing dataset bionlp_st_2011_rel (/home/galtay/.cache/huggingface/datasets/bionlp_st_2011_rel/bionlp_st_2011_rel_bigbio_kb/1.0.0/d33ada70ddfc893084cf58c86b6bdd899d73dd0ad62b7520b6d09dd9a900b939)\n"
     ]
    },
    {
     "data": {
      "application/vnd.jupyter.widget-view+json": {
       "model_id": "288fce87028a4393889aee9955e70b93",
       "version_major": 2,
       "version_minor": 0
      },
      "text/plain": [
       "  0%|          | 0/3 [00:00<?, ?it/s]"
      ]
     },
     "metadata": {},
     "output_type": "display_data"
    },
    {
     "name": "stderr",
     "output_type": "stream",
     "text": [
      "Reusing dataset bionlp_st_2013_cg (/home/galtay/.cache/huggingface/datasets/bionlp_st_2013_cg/bionlp_st_2013_cg_bigbio_kb/1.0.0/27b65d5a82c6d5098b62be71d839a748db029255a4260a9de19d9d151c4c2544)\n"
     ]
    },
    {
     "data": {
      "application/vnd.jupyter.widget-view+json": {
       "model_id": "a58ab12883314082af45b9870bd5fe37",
       "version_major": 2,
       "version_minor": 0
      },
      "text/plain": [
       "  0%|          | 0/3 [00:00<?, ?it/s]"
      ]
     },
     "metadata": {},
     "output_type": "display_data"
    },
    {
     "name": "stderr",
     "output_type": "stream",
     "text": [
      "Reusing dataset bionlp_st_2013_ge (/home/galtay/.cache/huggingface/datasets/bionlp_st_2013_ge/bionlp_st_2013_ge_bigbio_kb/1.0.0/84681c21e48d265b447737ba168f34a5fe7ca227a8fe5de250aec0e24236316d)\n"
     ]
    },
    {
     "data": {
      "application/vnd.jupyter.widget-view+json": {
       "model_id": "b814425e55a64859ab70d549f6f6d6df",
       "version_major": 2,
       "version_minor": 0
      },
      "text/plain": [
       "  0%|          | 0/3 [00:00<?, ?it/s]"
      ]
     },
     "metadata": {},
     "output_type": "display_data"
    },
    {
     "name": "stderr",
     "output_type": "stream",
     "text": [
      "Reusing dataset bionlp_st_2013_gro (/home/galtay/.cache/huggingface/datasets/bionlp_st_2013_gro/bionlp_st_2013_gro_bigbio_kb/1.0.0/adb60378934cfc5610bc57f7922f83f10de72b454ea0a21ebee65af51d069b30)\n"
     ]
    },
    {
     "data": {
      "application/vnd.jupyter.widget-view+json": {
       "model_id": "4382241aeaaf416fb8830b07c94da423",
       "version_major": 2,
       "version_minor": 0
      },
      "text/plain": [
       "  0%|          | 0/3 [00:00<?, ?it/s]"
      ]
     },
     "metadata": {},
     "output_type": "display_data"
    },
    {
     "name": "stderr",
     "output_type": "stream",
     "text": [
      "Reusing dataset bionlp_st_2013_pc (/home/galtay/.cache/huggingface/datasets/bionlp_st_2013_pc/bionlp_st_2013_pc_bigbio_kb/1.0.0/c8ed69d8cad83c76f51171c918327b1d92a01f305ece1bee9fe8b7b1255cf803)\n"
     ]
    },
    {
     "data": {
      "application/vnd.jupyter.widget-view+json": {
       "model_id": "a6b7c0428417418a96ac14fa4c1bdf87",
       "version_major": 2,
       "version_minor": 0
      },
      "text/plain": [
       "  0%|          | 0/3 [00:00<?, ?it/s]"
      ]
     },
     "metadata": {},
     "output_type": "display_data"
    },
    {
     "name": "stderr",
     "output_type": "stream",
     "text": [
      "Reusing dataset bionlp_st_2019_bb (/home/galtay/.cache/huggingface/datasets/bionlp_st_2019_bb/bionlp_st_2019_bb_bigbio_kb/1.0.0/c8e8e9978d6d4c2aa476bfc58833d9133195f3e02f6716461c805d2223c7257c)\n"
     ]
    },
    {
     "data": {
      "application/vnd.jupyter.widget-view+json": {
       "model_id": "0e2111b704754ffaa768d561f389d845",
       "version_major": 2,
       "version_minor": 0
      },
      "text/plain": [
       "  0%|          | 0/3 [00:00<?, ?it/s]"
      ]
     },
     "metadata": {},
     "output_type": "display_data"
    },
    {
     "name": "stderr",
     "output_type": "stream",
     "text": [
      "Reusing dataset biored_dataset (/home/galtay/.cache/huggingface/datasets/biored_dataset/biored_bigbio_kb/1.0.0/a591f9d3071b2ad87c7aa4ec6a12e03e98d44eedf450da79061997d9f85c29c1)\n"
     ]
    },
    {
     "data": {
      "application/vnd.jupyter.widget-view+json": {
       "model_id": "079b7acbb4d545579899fcaf45922a4b",
       "version_major": 2,
       "version_minor": 0
      },
      "text/plain": [
       "  0%|          | 0/3 [00:00<?, ?it/s]"
      ]
     },
     "metadata": {},
     "output_type": "display_data"
    },
    {
     "name": "stderr",
     "output_type": "stream",
     "text": [
      "Reusing dataset bio_rel_ex_dataset (/home/galtay/.cache/huggingface/datasets/bio_rel_ex_dataset/biorelex_bigbio_kb/1.0.0/eb69ec962b1355047ec4ec079b38f159b99ce497294d337f408c507a10be9320)\n"
     ]
    },
    {
     "data": {
      "application/vnd.jupyter.widget-view+json": {
       "model_id": "f02cc25c088b439fbd536554df5c8d66",
       "version_major": 2,
       "version_minor": 0
      },
      "text/plain": [
       "  0%|          | 0/2 [00:00<?, ?it/s]"
      ]
     },
     "metadata": {},
     "output_type": "display_data"
    },
    {
     "name": "stderr",
     "output_type": "stream",
     "text": [
      "Reusing dataset bioscope_dataset (/home/galtay/.cache/huggingface/datasets/bioscope_dataset/bioscope_bigbio_kb/1.0.0/fe0fbe3d3661dc97a5599e10bbff64f83a80cd04380d90d16bc5fda9e5f74aef)\n"
     ]
    },
    {
     "data": {
      "application/vnd.jupyter.widget-view+json": {
       "model_id": "cc75fa0e2fdb423b98bf7dba7bf374d8",
       "version_major": 2,
       "version_minor": 0
      },
      "text/plain": [
       "  0%|          | 0/1 [00:00<?, ?it/s]"
      ]
     },
     "metadata": {},
     "output_type": "display_data"
    },
    {
     "name": "stderr",
     "output_type": "stream",
     "text": [
      "Reusing dataset bioscope_dataset (/home/galtay/.cache/huggingface/datasets/bioscope_dataset/bioscope_abstracts_bigbio_kb/1.0.0/fe0fbe3d3661dc97a5599e10bbff64f83a80cd04380d90d16bc5fda9e5f74aef)\n"
     ]
    },
    {
     "data": {
      "application/vnd.jupyter.widget-view+json": {
       "model_id": "0f20eadb8f4e487abc7541d120f709cb",
       "version_major": 2,
       "version_minor": 0
      },
      "text/plain": [
       "  0%|          | 0/1 [00:00<?, ?it/s]"
      ]
     },
     "metadata": {},
     "output_type": "display_data"
    },
    {
     "name": "stderr",
     "output_type": "stream",
     "text": [
      "Reusing dataset bioscope_dataset (/home/galtay/.cache/huggingface/datasets/bioscope_dataset/bioscope_papers_bigbio_kb/1.0.0/fe0fbe3d3661dc97a5599e10bbff64f83a80cd04380d90d16bc5fda9e5f74aef)\n"
     ]
    },
    {
     "data": {
      "application/vnd.jupyter.widget-view+json": {
       "model_id": "58313b77f22f4dc083bbc38eb18e5e7f",
       "version_major": 2,
       "version_minor": 0
      },
      "text/plain": [
       "  0%|          | 0/1 [00:00<?, ?it/s]"
      ]
     },
     "metadata": {},
     "output_type": "display_data"
    },
    {
     "name": "stderr",
     "output_type": "stream",
     "text": [
      "Reusing dataset bioscope_dataset (/home/galtay/.cache/huggingface/datasets/bioscope_dataset/bioscope_medical_texts_bigbio_kb/1.0.0/fe0fbe3d3661dc97a5599e10bbff64f83a80cd04380d90d16bc5fda9e5f74aef)\n"
     ]
    },
    {
     "data": {
      "application/vnd.jupyter.widget-view+json": {
       "model_id": "af3a383e5b1345f8932400ad28b4b67e",
       "version_major": 2,
       "version_minor": 0
      },
      "text/plain": [
       "  0%|          | 0/1 [00:00<?, ?it/s]"
      ]
     },
     "metadata": {},
     "output_type": "display_data"
    },
    {
     "name": "stderr",
     "output_type": "stream",
     "text": [
      "Reusing dataset biosses_dataset (/home/galtay/.cache/huggingface/datasets/biosses_dataset/biosses_bigbio_pairs/1.0.0/89e91fa4056118a4c1683b47698dfef1746396bb0f0dafb15f85453fdefbcc98)\n"
     ]
    },
    {
     "data": {
      "application/vnd.jupyter.widget-view+json": {
       "model_id": "8e910ebb88eb4ced96896cb4a0406d0b",
       "version_major": 2,
       "version_minor": 0
      },
      "text/plain": [
       "  0%|          | 0/3 [00:00<?, ?it/s]"
      ]
     },
     "metadata": {},
     "output_type": "display_data"
    },
    {
     "name": "stderr",
     "output_type": "stream",
     "text": [
      "Reusing dataset cadec_dataset (/home/galtay/.cache/huggingface/datasets/cadec_dataset/cadec_bigbio_kb/1.0.0/e4a2b9f54ca80c14071a43f8cc4479e5b738fbe9c4f553bbc999dfcc8dcb0dd9)\n"
     ]
    },
    {
     "data": {
      "application/vnd.jupyter.widget-view+json": {
       "model_id": "66c363175bf24485829e3cd872c1a836",
       "version_major": 2,
       "version_minor": 0
      },
      "text/plain": [
       "  0%|          | 0/1 [00:00<?, ?it/s]"
      ]
     },
     "metadata": {},
     "output_type": "display_data"
    },
    {
     "name": "stderr",
     "output_type": "stream",
     "text": [
      "Reusing dataset cantemist_dataset (/home/galtay/.cache/huggingface/datasets/cantemist_dataset/cantemist_bigbio_kb/1.0.0/7b8b18017e8a11c7113a7252b9c5bb6cf6cc669ae9c3509bc24fd4d02d469362)\n"
     ]
    },
    {
     "data": {
      "application/vnd.jupyter.widget-view+json": {
       "model_id": "8ec792200be64fb192f6b876488b5a25",
       "version_major": 2,
       "version_minor": 0
      },
      "text/plain": [
       "  0%|          | 0/3 [00:00<?, ?it/s]"
      ]
     },
     "metadata": {},
     "output_type": "display_data"
    },
    {
     "name": "stderr",
     "output_type": "stream",
     "text": [
      "Reusing dataset cantemist_dataset (/home/galtay/.cache/huggingface/datasets/cantemist_dataset/cantemist_bigbio_text/1.0.0/7b8b18017e8a11c7113a7252b9c5bb6cf6cc669ae9c3509bc24fd4d02d469362)\n"
     ]
    },
    {
     "data": {
      "application/vnd.jupyter.widget-view+json": {
       "model_id": "4ddcd27b10f24fd4b37466e9ac84a960",
       "version_major": 2,
       "version_minor": 0
      },
      "text/plain": [
       "  0%|          | 0/3 [00:00<?, ?it/s]"
      ]
     },
     "metadata": {},
     "output_type": "display_data"
    },
    {
     "name": "stderr",
     "output_type": "stream",
     "text": [
      "Reusing dataset cell_finder_dataset (/home/galtay/.cache/huggingface/datasets/cell_finder_dataset/cellfinder_bigbio_kb/1.0.0/6e13003de485ac8fca3ff82f8dab2b2d01615ab47d3cb1d15ac3da1ceea6c0c4)\n"
     ]
    },
    {
     "data": {
      "application/vnd.jupyter.widget-view+json": {
       "model_id": "f98cee16cb3b49d199e33ba992a99ff6",
       "version_major": 2,
       "version_minor": 0
      },
      "text/plain": [
       "  0%|          | 0/2 [00:00<?, ?it/s]"
      ]
     },
     "metadata": {},
     "output_type": "display_data"
    },
    {
     "name": "stderr",
     "output_type": "stream",
     "text": [
      "Reusing dataset cell_finder_dataset (/home/galtay/.cache/huggingface/datasets/cell_finder_dataset/cellfinder_splits_bigbio_kb/1.0.0/6e13003de485ac8fca3ff82f8dab2b2d01615ab47d3cb1d15ac3da1ceea6c0c4)\n"
     ]
    },
    {
     "data": {
      "application/vnd.jupyter.widget-view+json": {
       "model_id": "b63475b895ab49188f34a9c98a60d108",
       "version_major": 2,
       "version_minor": 0
      },
      "text/plain": [
       "  0%|          | 0/2 [00:00<?, ?it/s]"
      ]
     },
     "metadata": {},
     "output_type": "display_data"
    },
    {
     "name": "stderr",
     "output_type": "stream",
     "text": [
      "Reusing dataset chebi_nactem_datasset (/home/galtay/.cache/huggingface/datasets/chebi_nactem_datasset/chebi_nactem_abstr_ann1_bigbio_kb/1.0.0/12a07a3b91cb99c2e43666adb248d3acb9330d9ce3e907ade974b6e5b8ffe7df)\n"
     ]
    },
    {
     "data": {
      "application/vnd.jupyter.widget-view+json": {
       "model_id": "8104011f64f2414181e6337232b2fe0f",
       "version_major": 2,
       "version_minor": 0
      },
      "text/plain": [
       "  0%|          | 0/1 [00:00<?, ?it/s]"
      ]
     },
     "metadata": {},
     "output_type": "display_data"
    },
    {
     "name": "stderr",
     "output_type": "stream",
     "text": [
      "Reusing dataset chebi_nactem_datasset (/home/galtay/.cache/huggingface/datasets/chebi_nactem_datasset/chebi_nactem_abstr_ann2_bigbio_kb/1.0.0/12a07a3b91cb99c2e43666adb248d3acb9330d9ce3e907ade974b6e5b8ffe7df)\n"
     ]
    },
    {
     "data": {
      "application/vnd.jupyter.widget-view+json": {
       "model_id": "bce435513e04425389e434347f497fe1",
       "version_major": 2,
       "version_minor": 0
      },
      "text/plain": [
       "  0%|          | 0/1 [00:00<?, ?it/s]"
      ]
     },
     "metadata": {},
     "output_type": "display_data"
    },
    {
     "name": "stderr",
     "output_type": "stream",
     "text": [
      "Reusing dataset chebi_nactem_datasset (/home/galtay/.cache/huggingface/datasets/chebi_nactem_datasset/chebi_nactem_fullpaper_bigbio_kb/1.0.0/12a07a3b91cb99c2e43666adb248d3acb9330d9ce3e907ade974b6e5b8ffe7df)\n"
     ]
    },
    {
     "data": {
      "application/vnd.jupyter.widget-view+json": {
       "model_id": "402b460732944f91b11e3614197d2daf",
       "version_major": 2,
       "version_minor": 0
      },
      "text/plain": [
       "  0%|          | 0/1 [00:00<?, ?it/s]"
      ]
     },
     "metadata": {},
     "output_type": "display_data"
    },
    {
     "name": "stderr",
     "output_type": "stream",
     "text": [
      "Reusing dataset chemdner_dataset (/home/galtay/.cache/huggingface/datasets/chemdner_dataset/chemdner_bigbio_kb/1.0.0/f55818d2067367e05317b993e50675a4a9dedd1c8d8f5d49e33177f569afebd1)\n"
     ]
    },
    {
     "data": {
      "application/vnd.jupyter.widget-view+json": {
       "model_id": "8570a5587eb04fd5b9090f758b9b9301",
       "version_major": 2,
       "version_minor": 0
      },
      "text/plain": [
       "  0%|          | 0/3 [00:00<?, ?it/s]"
      ]
     },
     "metadata": {},
     "output_type": "display_data"
    },
    {
     "name": "stderr",
     "output_type": "stream",
     "text": [
      "Reusing dataset chemdner_dataset (/home/galtay/.cache/huggingface/datasets/chemdner_dataset/chemdner_bigbio_text/1.0.0/f55818d2067367e05317b993e50675a4a9dedd1c8d8f5d49e33177f569afebd1)\n"
     ]
    },
    {
     "data": {
      "application/vnd.jupyter.widget-view+json": {
       "model_id": "8413b6e51ba54edd82f8935663b6cb0b",
       "version_major": 2,
       "version_minor": 0
      },
      "text/plain": [
       "  0%|          | 0/3 [00:00<?, ?it/s]"
      ]
     },
     "metadata": {},
     "output_type": "display_data"
    },
    {
     "name": "stderr",
     "output_type": "stream",
     "text": [
      "Reusing dataset chemprot_dataset (/home/galtay/.cache/huggingface/datasets/chemprot_dataset/chemprot_bigbio_kb/1.0.0/d621093ca60927acf7784c181b4a4f1067f655c83ac18af82cd1723d99c4df2a)\n"
     ]
    },
    {
     "data": {
      "application/vnd.jupyter.widget-view+json": {
       "model_id": "6fc9bdacec804d68a9aac51b4e712aff",
       "version_major": 2,
       "version_minor": 0
      },
      "text/plain": [
       "  0%|          | 0/4 [00:00<?, ?it/s]"
      ]
     },
     "metadata": {},
     "output_type": "display_data"
    },
    {
     "name": "stderr",
     "output_type": "stream",
     "text": [
      "Reusing dataset chia_dataset (/home/galtay/.cache/huggingface/datasets/chia_dataset/chia_bigbio_kb/1.0.0/cad9b1810e0d3b47812b1b6ce3a087254e0728f061b04f51e8ab7b6b1ffce813)\n"
     ]
    },
    {
     "data": {
      "application/vnd.jupyter.widget-view+json": {
       "model_id": "08cf640fb66f42f9b93dc28407eccfec",
       "version_major": 2,
       "version_minor": 0
      },
      "text/plain": [
       "  0%|          | 0/1 [00:00<?, ?it/s]"
      ]
     },
     "metadata": {},
     "output_type": "display_data"
    },
    {
     "name": "stderr",
     "output_type": "stream",
     "text": [
      "Reusing dataset citation_gia_test_collection (/home/galtay/.cache/huggingface/datasets/citation_gia_test_collection/citation_gia_test_collection_bigbio_kb/1.0.0/d873bd3cd5030334b3bfe603fe9333f592b486277bceb13c5385a8b318e3e06c)\n"
     ]
    },
    {
     "data": {
      "application/vnd.jupyter.widget-view+json": {
       "model_id": "fd9565d6f18c47b586a3da0a944fcbf8",
       "version_major": 2,
       "version_minor": 0
      },
      "text/plain": [
       "  0%|          | 0/1 [00:00<?, ?it/s]"
      ]
     },
     "metadata": {},
     "output_type": "display_data"
    },
    {
     "name": "stderr",
     "output_type": "stream",
     "text": [
      "Reusing dataset codiesp_dataset (/home/galtay/.cache/huggingface/datasets/codiesp_dataset/codiesp_D_bigbio_text/1.0.0/1c3821f6ed08e10dc0260d174d27b7fcd54192c17e855cfdc3dedfa16aa8007e)\n"
     ]
    },
    {
     "data": {
      "application/vnd.jupyter.widget-view+json": {
       "model_id": "483b0a27e82a411d9cc48bf141436f33",
       "version_major": 2,
       "version_minor": 0
      },
      "text/plain": [
       "  0%|          | 0/3 [00:00<?, ?it/s]"
      ]
     },
     "metadata": {},
     "output_type": "display_data"
    },
    {
     "name": "stderr",
     "output_type": "stream",
     "text": [
      "Reusing dataset codiesp_dataset (/home/galtay/.cache/huggingface/datasets/codiesp_dataset/codiesp_P_bigbio_text/1.0.0/1c3821f6ed08e10dc0260d174d27b7fcd54192c17e855cfdc3dedfa16aa8007e)\n"
     ]
    },
    {
     "data": {
      "application/vnd.jupyter.widget-view+json": {
       "model_id": "c1f8c54fb97845d1b3461aa2a026fa92",
       "version_major": 2,
       "version_minor": 0
      },
      "text/plain": [
       "  0%|          | 0/3 [00:00<?, ?it/s]"
      ]
     },
     "metadata": {},
     "output_type": "display_data"
    },
    {
     "name": "stderr",
     "output_type": "stream",
     "text": [
      "Reusing dataset codiesp_dataset (/home/galtay/.cache/huggingface/datasets/codiesp_dataset/codiesp_X_bigbio_kb/1.0.0/1c3821f6ed08e10dc0260d174d27b7fcd54192c17e855cfdc3dedfa16aa8007e)\n"
     ]
    },
    {
     "data": {
      "application/vnd.jupyter.widget-view+json": {
       "model_id": "81a1ba0d6bd04b28be3a110d13547560",
       "version_major": 2,
       "version_minor": 0
      },
      "text/plain": [
       "  0%|          | 0/3 [00:00<?, ?it/s]"
      ]
     },
     "metadata": {},
     "output_type": "display_data"
    },
    {
     "name": "stderr",
     "output_type": "stream",
     "text": [
      "Reusing dataset codiesp_dataset (/home/galtay/.cache/huggingface/datasets/codiesp_dataset/codiesp_extra_mesh_bigbio_text/1.0.0/1c3821f6ed08e10dc0260d174d27b7fcd54192c17e855cfdc3dedfa16aa8007e)\n"
     ]
    },
    {
     "data": {
      "application/vnd.jupyter.widget-view+json": {
       "model_id": "eb5d3ccf92bb4973a966e970a8b68740",
       "version_major": 2,
       "version_minor": 0
      },
      "text/plain": [
       "  0%|          | 0/1 [00:00<?, ?it/s]"
      ]
     },
     "metadata": {},
     "output_type": "display_data"
    },
    {
     "name": "stderr",
     "output_type": "stream",
     "text": [
      "Reusing dataset codiesp_dataset (/home/galtay/.cache/huggingface/datasets/codiesp_dataset/codiesp_extra_cie_bigbio_text/1.0.0/1c3821f6ed08e10dc0260d174d27b7fcd54192c17e855cfdc3dedfa16aa8007e)\n"
     ]
    },
    {
     "data": {
      "application/vnd.jupyter.widget-view+json": {
       "model_id": "cd59c7452dbb4f849db3cd12002115ab",
       "version_major": 2,
       "version_minor": 0
      },
      "text/plain": [
       "  0%|          | 0/1 [00:00<?, ?it/s]"
      ]
     },
     "metadata": {},
     "output_type": "display_data"
    },
    {
     "name": "stderr",
     "output_type": "stream",
     "text": [
      "Reusing dataset cord_ner_dataset (/home/galtay/.cache/huggingface/datasets/cord_ner_dataset/cord_ner_bigbio_kb/1.0.0/f98a368b63f7f0c6c3ec0fab310162c1a022b7771967e8238d39fb87706f9d60)\n"
     ]
    },
    {
     "data": {
      "application/vnd.jupyter.widget-view+json": {
       "model_id": "d2edd5fca9ae4151b332d091fe6f0d51",
       "version_major": 2,
       "version_minor": 0
      },
      "text/plain": [
       "  0%|          | 0/1 [00:00<?, ?it/s]"
      ]
     },
     "metadata": {},
     "output_type": "display_data"
    },
    {
     "name": "stderr",
     "output_type": "stream",
     "text": [
      "Reusing dataset ctebm_sp_dataset (/home/galtay/.cache/huggingface/datasets/ctebm_sp_dataset/ctebmsp_abstracts_bigbio_kb/1.0.0/82370182768ade343e04528716eca142a847754d645c683a727f9445aac75bf4)\n"
     ]
    },
    {
     "data": {
      "application/vnd.jupyter.widget-view+json": {
       "model_id": "8a4db670dc8c4641ab67f12608ecd13c",
       "version_major": 2,
       "version_minor": 0
      },
      "text/plain": [
       "  0%|          | 0/3 [00:00<?, ?it/s]"
      ]
     },
     "metadata": {},
     "output_type": "display_data"
    },
    {
     "name": "stderr",
     "output_type": "stream",
     "text": [
      "Reusing dataset ctebm_sp_dataset (/home/galtay/.cache/huggingface/datasets/ctebm_sp_dataset/ctebmsp_eudract_bigbio_kb/1.0.0/82370182768ade343e04528716eca142a847754d645c683a727f9445aac75bf4)\n"
     ]
    },
    {
     "data": {
      "application/vnd.jupyter.widget-view+json": {
       "model_id": "7a8bc68ab7dc4bc78685df09524480d2",
       "version_major": 2,
       "version_minor": 0
      },
      "text/plain": [
       "  0%|          | 0/3 [00:00<?, ?it/s]"
      ]
     },
     "metadata": {},
     "output_type": "display_data"
    },
    {
     "name": "stderr",
     "output_type": "stream",
     "text": [
      "Reusing dataset ddi_corpus_dataset (/home/galtay/.cache/huggingface/datasets/ddi_corpus_dataset/ddi_corpus_bigbio_kb/1.0.0/ce2fe8ef8befc09a8e90da92d4abf2c8607ea036ebc06d7f1954a1b34106d151)\n"
     ]
    },
    {
     "data": {
      "application/vnd.jupyter.widget-view+json": {
       "model_id": "45edfd9b584e43c5b832e14224c259fe",
       "version_major": 2,
       "version_minor": 0
      },
      "text/plain": [
       "  0%|          | 0/2 [00:00<?, ?it/s]"
      ]
     },
     "metadata": {},
     "output_type": "display_data"
    },
    {
     "name": "stderr",
     "output_type": "stream",
     "text": [
      "Reusing dataset diann_iber_eval_dataset (/home/galtay/.cache/huggingface/datasets/diann_iber_eval_dataset/diann_iber_eval_bigbio_kb/1.0.0/070bbaba168cb76f41952674aa9e94557c22cbbe7e514d7d692fbff2de297e04)\n"
     ]
    },
    {
     "data": {
      "application/vnd.jupyter.widget-view+json": {
       "model_id": "bf34b06cddda4c7e96b0481db9045bc7",
       "version_major": 2,
       "version_minor": 0
      },
      "text/plain": [
       "  0%|          | 0/2 [00:00<?, ?it/s]"
      ]
     },
     "metadata": {},
     "output_type": "display_data"
    },
    {
     "name": "stderr",
     "output_type": "stream",
     "text": [
      "Reusing dataset diann_iber_eval_dataset (/home/galtay/.cache/huggingface/datasets/diann_iber_eval_dataset/diann_iber_eval_en_bigbio_kb/1.0.0/070bbaba168cb76f41952674aa9e94557c22cbbe7e514d7d692fbff2de297e04)\n"
     ]
    },
    {
     "data": {
      "application/vnd.jupyter.widget-view+json": {
       "model_id": "b3e04ef522d64452a5ded192ac2e1648",
       "version_major": 2,
       "version_minor": 0
      },
      "text/plain": [
       "  0%|          | 0/2 [00:00<?, ?it/s]"
      ]
     },
     "metadata": {},
     "output_type": "display_data"
    },
    {
     "name": "stderr",
     "output_type": "stream",
     "text": [
      "Reusing dataset diann_iber_eval_dataset (/home/galtay/.cache/huggingface/datasets/diann_iber_eval_dataset/diann_iber_eval_es_bigbio_kb/1.0.0/070bbaba168cb76f41952674aa9e94557c22cbbe7e514d7d692fbff2de297e04)\n"
     ]
    },
    {
     "data": {
      "application/vnd.jupyter.widget-view+json": {
       "model_id": "b13de835d17c4a24b6bddc9d6cc35e80",
       "version_major": 2,
       "version_minor": 0
      },
      "text/plain": [
       "  0%|          | 0/2 [00:00<?, ?it/s]"
      ]
     },
     "metadata": {},
     "output_type": "display_data"
    },
    {
     "name": "stderr",
     "output_type": "stream",
     "text": [
      "Reusing dataset diann_iber_eval_dataset (/home/galtay/.cache/huggingface/datasets/diann_iber_eval_dataset/diann_iber_eval_bigbio_t2t/1.0.0/070bbaba168cb76f41952674aa9e94557c22cbbe7e514d7d692fbff2de297e04)\n"
     ]
    },
    {
     "data": {
      "application/vnd.jupyter.widget-view+json": {
       "model_id": "dbe88e1b7c9942409e9c97f6a318601c",
       "version_major": 2,
       "version_minor": 0
      },
      "text/plain": [
       "  0%|          | 0/2 [00:00<?, ?it/s]"
      ]
     },
     "metadata": {},
     "output_type": "display_data"
    },
    {
     "name": "stderr",
     "output_type": "stream",
     "text": [
      "Reusing dataset distemist_dataset (/home/galtay/.cache/huggingface/datasets/distemist_dataset/distemist_bigbio_kb/1.0.0/55f95e5183ef1f29f4078bc60cddab039991dc38e8af6dd66c0f4a76a68aba97)\n"
     ]
    },
    {
     "data": {
      "application/vnd.jupyter.widget-view+json": {
       "model_id": "7f4bb0f1205e4f799df4e4eb0ce69194",
       "version_major": 2,
       "version_minor": 0
      },
      "text/plain": [
       "  0%|          | 0/1 [00:00<?, ?it/s]"
      ]
     },
     "metadata": {},
     "output_type": "display_data"
    },
    {
     "name": "stderr",
     "output_type": "stream",
     "text": [
      "Reusing dataset ebm_pico (/home/galtay/.cache/huggingface/datasets/ebm_pico/ebm_pico_bigbio_kb/1.0.0/224085a540def3600016d03f4f475c35e77bd5987be262503052e7728771ee9a)\n"
     ]
    },
    {
     "data": {
      "application/vnd.jupyter.widget-view+json": {
       "model_id": "2da43e85f7124d16ba4aa14792330475",
       "version_major": 2,
       "version_minor": 0
      },
      "text/plain": [
       "  0%|          | 0/2 [00:00<?, ?it/s]"
      ]
     },
     "metadata": {},
     "output_type": "display_data"
    },
    {
     "name": "stderr",
     "output_type": "stream",
     "text": [
      "Reusing dataset ehr_rel_dataset (/home/galtay/.cache/huggingface/datasets/ehr_rel_dataset/ehr_rel_bigbio_pairs/1.0.0/3786552d5033645f58d695a6238e3fbaf2fe235b5de663b5ab1fb3a89a82f409)\n"
     ]
    },
    {
     "data": {
      "application/vnd.jupyter.widget-view+json": {
       "model_id": "dd07bee5b3ab4cada3252490f0ab61d7",
       "version_major": 2,
       "version_minor": 0
      },
      "text/plain": [
       "  0%|          | 0/1 [00:00<?, ?it/s]"
      ]
     },
     "metadata": {},
     "output_type": "display_data"
    },
    {
     "name": "stderr",
     "output_type": "stream",
     "text": [
      "Reusing dataset euadr (/home/galtay/.cache/huggingface/datasets/euadr/euadr_bigbio_kb/1.0.0/a03e12e240d0884b555f721c5f88e554c06dfd5b74d12c569fa7c96586c721c6)\n"
     ]
    },
    {
     "data": {
      "application/vnd.jupyter.widget-view+json": {
       "model_id": "4fc0f1e939c44c75be920679c71969f0",
       "version_major": 2,
       "version_minor": 0
      },
      "text/plain": [
       "  0%|          | 0/1 [00:00<?, ?it/s]"
      ]
     },
     "metadata": {},
     "output_type": "display_data"
    },
    {
     "name": "stderr",
     "output_type": "stream",
     "text": [
      "Reusing dataset evidence_inference_dataset (/home/galtay/.cache/huggingface/datasets/evidence_inference_dataset/evidence-inference_bigbio_te/1.0.0/a22bca7bd8fcdd9236ef714f266bf2316e1c0fad8f4648eb52305adc3726cf95)\n"
     ]
    },
    {
     "data": {
      "application/vnd.jupyter.widget-view+json": {
       "model_id": "27524412f0a64d9d8c2654db49bd00fd",
       "version_major": 2,
       "version_minor": 0
      },
      "text/plain": [
       "  0%|          | 0/3 [00:00<?, ?it/s]"
      ]
     },
     "metadata": {},
     "output_type": "display_data"
    },
    {
     "name": "stderr",
     "output_type": "stream",
     "text": [
      "Reusing dataset gad (/home/galtay/.cache/huggingface/datasets/gad/gad_fold0_bigbio_text/1.0.0/60f2fe4eb74428a8ae13f757ea2931f42afa7ecf18f2393109e2e052efa5500c)\n"
     ]
    },
    {
     "data": {
      "application/vnd.jupyter.widget-view+json": {
       "model_id": "70a47c3b47fd467fbdf837ed53e4fff4",
       "version_major": 2,
       "version_minor": 0
      },
      "text/plain": [
       "  0%|          | 0/2 [00:00<?, ?it/s]"
      ]
     },
     "metadata": {},
     "output_type": "display_data"
    },
    {
     "name": "stderr",
     "output_type": "stream",
     "text": [
      "Reusing dataset gad (/home/galtay/.cache/huggingface/datasets/gad/gad_fold1_bigbio_text/1.0.0/60f2fe4eb74428a8ae13f757ea2931f42afa7ecf18f2393109e2e052efa5500c)\n"
     ]
    },
    {
     "data": {
      "application/vnd.jupyter.widget-view+json": {
       "model_id": "258caf6925934873accdaa86a2bc333d",
       "version_major": 2,
       "version_minor": 0
      },
      "text/plain": [
       "  0%|          | 0/2 [00:00<?, ?it/s]"
      ]
     },
     "metadata": {},
     "output_type": "display_data"
    },
    {
     "name": "stderr",
     "output_type": "stream",
     "text": [
      "Reusing dataset gad (/home/galtay/.cache/huggingface/datasets/gad/gad_fold2_bigbio_text/1.0.0/60f2fe4eb74428a8ae13f757ea2931f42afa7ecf18f2393109e2e052efa5500c)\n"
     ]
    },
    {
     "data": {
      "application/vnd.jupyter.widget-view+json": {
       "model_id": "fb506e21c69e418fa38d3e7eb39c8d67",
       "version_major": 2,
       "version_minor": 0
      },
      "text/plain": [
       "  0%|          | 0/2 [00:00<?, ?it/s]"
      ]
     },
     "metadata": {},
     "output_type": "display_data"
    },
    {
     "name": "stderr",
     "output_type": "stream",
     "text": [
      "Reusing dataset gad (/home/galtay/.cache/huggingface/datasets/gad/gad_fold3_bigbio_text/1.0.0/60f2fe4eb74428a8ae13f757ea2931f42afa7ecf18f2393109e2e052efa5500c)\n"
     ]
    },
    {
     "data": {
      "application/vnd.jupyter.widget-view+json": {
       "model_id": "3383f15b59394d1d93f75718f74cf15a",
       "version_major": 2,
       "version_minor": 0
      },
      "text/plain": [
       "  0%|          | 0/2 [00:00<?, ?it/s]"
      ]
     },
     "metadata": {},
     "output_type": "display_data"
    },
    {
     "name": "stderr",
     "output_type": "stream",
     "text": [
      "Reusing dataset gad (/home/galtay/.cache/huggingface/datasets/gad/gad_fold4_bigbio_text/1.0.0/60f2fe4eb74428a8ae13f757ea2931f42afa7ecf18f2393109e2e052efa5500c)\n"
     ]
    },
    {
     "data": {
      "application/vnd.jupyter.widget-view+json": {
       "model_id": "efafee5f985c40f896af4fdb862b580a",
       "version_major": 2,
       "version_minor": 0
      },
      "text/plain": [
       "  0%|          | 0/2 [00:00<?, ?it/s]"
      ]
     },
     "metadata": {},
     "output_type": "display_data"
    },
    {
     "name": "stderr",
     "output_type": "stream",
     "text": [
      "Reusing dataset gad (/home/galtay/.cache/huggingface/datasets/gad/gad_fold5_bigbio_text/1.0.0/60f2fe4eb74428a8ae13f757ea2931f42afa7ecf18f2393109e2e052efa5500c)\n"
     ]
    },
    {
     "data": {
      "application/vnd.jupyter.widget-view+json": {
       "model_id": "c8d03ab816a44daa89eb122aa1d6b0b6",
       "version_major": 2,
       "version_minor": 0
      },
      "text/plain": [
       "  0%|          | 0/2 [00:00<?, ?it/s]"
      ]
     },
     "metadata": {},
     "output_type": "display_data"
    },
    {
     "name": "stderr",
     "output_type": "stream",
     "text": [
      "Reusing dataset gad (/home/galtay/.cache/huggingface/datasets/gad/gad_fold6_bigbio_text/1.0.0/60f2fe4eb74428a8ae13f757ea2931f42afa7ecf18f2393109e2e052efa5500c)\n"
     ]
    },
    {
     "data": {
      "application/vnd.jupyter.widget-view+json": {
       "model_id": "008c00cb638544ea87118afd2110fd22",
       "version_major": 2,
       "version_minor": 0
      },
      "text/plain": [
       "  0%|          | 0/2 [00:00<?, ?it/s]"
      ]
     },
     "metadata": {},
     "output_type": "display_data"
    },
    {
     "name": "stderr",
     "output_type": "stream",
     "text": [
      "Reusing dataset gad (/home/galtay/.cache/huggingface/datasets/gad/gad_fold7_bigbio_text/1.0.0/60f2fe4eb74428a8ae13f757ea2931f42afa7ecf18f2393109e2e052efa5500c)\n"
     ]
    },
    {
     "data": {
      "application/vnd.jupyter.widget-view+json": {
       "model_id": "e841df8f97764aaead009384c30463be",
       "version_major": 2,
       "version_minor": 0
      },
      "text/plain": [
       "  0%|          | 0/2 [00:00<?, ?it/s]"
      ]
     },
     "metadata": {},
     "output_type": "display_data"
    },
    {
     "name": "stderr",
     "output_type": "stream",
     "text": [
      "Reusing dataset gad (/home/galtay/.cache/huggingface/datasets/gad/gad_fold8_bigbio_text/1.0.0/60f2fe4eb74428a8ae13f757ea2931f42afa7ecf18f2393109e2e052efa5500c)\n"
     ]
    },
    {
     "data": {
      "application/vnd.jupyter.widget-view+json": {
       "model_id": "5449ddd02a1b4515b41a6aacf137137e",
       "version_major": 2,
       "version_minor": 0
      },
      "text/plain": [
       "  0%|          | 0/2 [00:00<?, ?it/s]"
      ]
     },
     "metadata": {},
     "output_type": "display_data"
    },
    {
     "name": "stderr",
     "output_type": "stream",
     "text": [
      "Reusing dataset gad (/home/galtay/.cache/huggingface/datasets/gad/gad_fold9_bigbio_text/1.0.0/60f2fe4eb74428a8ae13f757ea2931f42afa7ecf18f2393109e2e052efa5500c)\n"
     ]
    },
    {
     "data": {
      "application/vnd.jupyter.widget-view+json": {
       "model_id": "8f0cffd82cda490b83d7b5c685c667a6",
       "version_major": 2,
       "version_minor": 0
      },
      "text/plain": [
       "  0%|          | 0/2 [00:00<?, ?it/s]"
      ]
     },
     "metadata": {},
     "output_type": "display_data"
    },
    {
     "name": "stderr",
     "output_type": "stream",
     "text": [
      "Reusing dataset gad (/home/galtay/.cache/huggingface/datasets/gad/gad_blurb_bigbio_text/1.0.0/60f2fe4eb74428a8ae13f757ea2931f42afa7ecf18f2393109e2e052efa5500c)\n"
     ]
    },
    {
     "data": {
      "application/vnd.jupyter.widget-view+json": {
       "model_id": "71f9d4ea17334b70bec261cbab2bfe9a",
       "version_major": 2,
       "version_minor": 0
      },
      "text/plain": [
       "  0%|          | 0/3 [00:00<?, ?it/s]"
      ]
     },
     "metadata": {},
     "output_type": "display_data"
    },
    {
     "name": "stderr",
     "output_type": "stream",
     "text": [
      "Reusing dataset genetag_dataset (/home/galtay/.cache/huggingface/datasets/genetag_dataset/genetaggold_bigbio_kb/1.0.0/67951603bb8cc6dc366b0ca502894ee41d288a56d4f6de70471ee81b6de32039)\n"
     ]
    },
    {
     "data": {
      "application/vnd.jupyter.widget-view+json": {
       "model_id": "92969ae0ce60415cb2c7142cc6ba1eac",
       "version_major": 2,
       "version_minor": 0
      },
      "text/plain": [
       "  0%|          | 0/3 [00:00<?, ?it/s]"
      ]
     },
     "metadata": {},
     "output_type": "display_data"
    },
    {
     "name": "stderr",
     "output_type": "stream",
     "text": [
      "Reusing dataset genetag_dataset (/home/galtay/.cache/huggingface/datasets/genetag_dataset/genetagcorrect_bigbio_kb/1.0.0/67951603bb8cc6dc366b0ca502894ee41d288a56d4f6de70471ee81b6de32039)\n"
     ]
    },
    {
     "data": {
      "application/vnd.jupyter.widget-view+json": {
       "model_id": "03c29b4f389c430ebf59a6962232e36a",
       "version_major": 2,
       "version_minor": 0
      },
      "text/plain": [
       "  0%|          | 0/3 [00:00<?, ?it/s]"
      ]
     },
     "metadata": {},
     "output_type": "display_data"
    },
    {
     "name": "stderr",
     "output_type": "stream",
     "text": [
      "Reusing dataset genia_ptm_event_corpus_dataset (/home/galtay/.cache/huggingface/datasets/genia_ptm_event_corpus_dataset/genia_ptm_event_corpus_bigbio_kb/1.0.0/5c8be67cd6b83c548675129d163a42646420385a576969c86c1cab230dec989c)\n"
     ]
    },
    {
     "data": {
      "application/vnd.jupyter.widget-view+json": {
       "model_id": "67d1988718154b4daa600dd47b8f0434",
       "version_major": 2,
       "version_minor": 0
      },
      "text/plain": [
       "  0%|          | 0/1 [00:00<?, ?it/s]"
      ]
     },
     "metadata": {},
     "output_type": "display_data"
    },
    {
     "name": "stderr",
     "output_type": "stream",
     "text": [
      "Reusing dataset genia_relation_corpus_dataset (/home/galtay/.cache/huggingface/datasets/genia_relation_corpus_dataset/genia_relation_corpus_bigbio_kb/1.0.0/7fc1da5c37c5596b284b011d077fb7dcf7c99cd2f5b34c3907cfde694b39e08b)\n"
     ]
    },
    {
     "data": {
      "application/vnd.jupyter.widget-view+json": {
       "model_id": "642f29bb2b254ef8aa061613ff9fa338",
       "version_major": 2,
       "version_minor": 0
      },
      "text/plain": [
       "  0%|          | 0/3 [00:00<?, ?it/s]"
      ]
     },
     "metadata": {},
     "output_type": "display_data"
    },
    {
     "name": "stderr",
     "output_type": "stream",
     "text": [
      "Reusing dataset genia_term_corpus_dataset (/home/galtay/.cache/huggingface/datasets/genia_term_corpus_dataset/genia_term_corpus_bigbio_kb/1.0.0/00c9b0d6cfd7903ecd38e6612748dbc4c6249d0595b977f555a220cc5031f2e7)\n"
     ]
    },
    {
     "data": {
      "application/vnd.jupyter.widget-view+json": {
       "model_id": "09dc6e1ec018488ea8e8c06bb819ee11",
       "version_major": 2,
       "version_minor": 0
      },
      "text/plain": [
       "  0%|          | 0/1 [00:00<?, ?it/s]"
      ]
     },
     "metadata": {},
     "output_type": "display_data"
    },
    {
     "name": "stderr",
     "output_type": "stream",
     "text": [
      "Reusing dataset geokhojv1_dataset (/home/galtay/.cache/huggingface/datasets/geokhojv1_dataset/geokhoj_v1_bigbio_text/1.0.0/231efbd35f9f5564157e0197a4599e28a0563c82334100e4968b89fafa959e11)\n"
     ]
    },
    {
     "data": {
      "application/vnd.jupyter.widget-view+json": {
       "model_id": "19accfe8d3be403f9490d8591bb1bec7",
       "version_major": 2,
       "version_minor": 0
      },
      "text/plain": [
       "  0%|          | 0/2 [00:00<?, ?it/s]"
      ]
     },
     "metadata": {},
     "output_type": "display_data"
    },
    {
     "name": "stderr",
     "output_type": "stream",
     "text": [
      "Reusing dataset gnormplus_dataset (/home/galtay/.cache/huggingface/datasets/gnormplus_dataset/gnormplus_bigbio_kb/1.0.0/1bb16f1b4abf9394b9180cac70edc575cc5e7d32c697f8b9f69ba2f643d2fc95)\n"
     ]
    },
    {
     "data": {
      "application/vnd.jupyter.widget-view+json": {
       "model_id": "7635c304c3ba4d2fbffa84e603a2ccae",
       "version_major": 2,
       "version_minor": 0
      },
      "text/plain": [
       "  0%|          | 0/2 [00:00<?, ?it/s]"
      ]
     },
     "metadata": {},
     "output_type": "display_data"
    },
    {
     "name": "stderr",
     "output_type": "stream",
     "text": [
      "Reusing dataset hallmarks_of_cancer_dataset (/home/galtay/.cache/huggingface/datasets/hallmarks_of_cancer_dataset/hallmarks_of_cancer_bigbio_text/1.0.0/8b34c44f46003945f2ac4b0745ba705da96ae9bf9f5f626d59bce0fa92f52ba2)\n"
     ]
    },
    {
     "data": {
      "application/vnd.jupyter.widget-view+json": {
       "model_id": "56eaa23e89a04d62ac41f90a27887d34",
       "version_major": 2,
       "version_minor": 0
      },
      "text/plain": [
       "  0%|          | 0/3 [00:00<?, ?it/s]"
      ]
     },
     "metadata": {},
     "output_type": "display_data"
    },
    {
     "name": "stderr",
     "output_type": "stream",
     "text": [
      "Reusing dataset hprd50_dataset (/home/galtay/.cache/huggingface/datasets/hprd50_dataset/hprd50_bigbio_kb/1.0.0/8c03f0f6fc736b3842ff473a2d0cc4ef85dd178e76884c78721b29e7e2db6300)\n"
     ]
    },
    {
     "data": {
      "application/vnd.jupyter.widget-view+json": {
       "model_id": "4dc84c8390ba47ec8677bdec2d58cc76",
       "version_major": 2,
       "version_minor": 0
      },
      "text/plain": [
       "  0%|          | 0/2 [00:00<?, ?it/s]"
      ]
     },
     "metadata": {},
     "output_type": "display_data"
    },
    {
     "name": "stderr",
     "output_type": "stream",
     "text": [
      "Reusing dataset iepa_dataset (/home/galtay/.cache/huggingface/datasets/iepa_dataset/iepa_bigbio_kb/1.0.0/200b819f9b791ae233cc5ae2a58d039be47ac8755845c481ddf67d5283b20ebd)\n"
     ]
    },
    {
     "data": {
      "application/vnd.jupyter.widget-view+json": {
       "model_id": "6dd983064dde4a8c94f86690e527751b",
       "version_major": 2,
       "version_minor": 0
      },
      "text/plain": [
       "  0%|          | 0/2 [00:00<?, ?it/s]"
      ]
     },
     "metadata": {},
     "output_type": "display_data"
    },
    {
     "name": "stderr",
     "output_type": "stream",
     "text": [
      "Reusing dataset jnlpba_dataset (/home/galtay/.cache/huggingface/datasets/jnlpba_dataset/jnlpba_bigbio_kb/1.0.0/53912b11c844e899a8940bb77ebd81d3a58748632a0b785f24d4aa5b829fa0a0)\n"
     ]
    },
    {
     "data": {
      "application/vnd.jupyter.widget-view+json": {
       "model_id": "cbb0ce5de77840ec93951a740aaacbc7",
       "version_major": 2,
       "version_minor": 0
      },
      "text/plain": [
       "  0%|          | 0/2 [00:00<?, ?it/s]"
      ]
     },
     "metadata": {},
     "output_type": "display_data"
    },
    {
     "name": "stderr",
     "output_type": "stream",
     "text": [
      "Reusing dataset linnaeus_dataset (/home/galtay/.cache/huggingface/datasets/linnaeus_dataset/linnaeus_bigbio_kb/1.0.0/f91b6061c1ec68a3b18eb1dd8af37953f56b217ed4c654072aaccdc630aeb0c5)\n"
     ]
    },
    {
     "data": {
      "application/vnd.jupyter.widget-view+json": {
       "model_id": "91436d511b0145a8a9c5a2c98907ad22",
       "version_major": 2,
       "version_minor": 0
      },
      "text/plain": [
       "  0%|          | 0/1 [00:00<?, ?it/s]"
      ]
     },
     "metadata": {},
     "output_type": "display_data"
    },
    {
     "name": "stderr",
     "output_type": "stream",
     "text": [
      "Reusing dataset linnaeus_dataset (/home/galtay/.cache/huggingface/datasets/linnaeus_dataset/linnaeus_filtered_bigbio_kb/1.0.0/f91b6061c1ec68a3b18eb1dd8af37953f56b217ed4c654072aaccdc630aeb0c5)\n"
     ]
    },
    {
     "data": {
      "application/vnd.jupyter.widget-view+json": {
       "model_id": "6968a0f695ee485b906b916983cd7ce5",
       "version_major": 2,
       "version_minor": 0
      },
      "text/plain": [
       "  0%|          | 0/1 [00:00<?, ?it/s]"
      ]
     },
     "metadata": {},
     "output_type": "display_data"
    },
    {
     "name": "stderr",
     "output_type": "stream",
     "text": [
      "Reusing dataset lll_dataset (/home/galtay/.cache/huggingface/datasets/lll_dataset/lll_bigbio_kb/1.0.0/a4d0660d0383a5441090dc5d57ee4a3c7cacde80e14b4dff5f3b9d00ce4760eb)\n"
     ]
    },
    {
     "data": {
      "application/vnd.jupyter.widget-view+json": {
       "model_id": "862ff3ce4ddb4f9fa727aaf52f6c6a68",
       "version_major": 2,
       "version_minor": 0
      },
      "text/plain": [
       "  0%|          | 0/2 [00:00<?, ?it/s]"
      ]
     },
     "metadata": {},
     "output_type": "display_data"
    },
    {
     "name": "stderr",
     "output_type": "stream",
     "text": [
      "Reusing dataset mantra_gsc_dataset (/home/galtay/.cache/huggingface/datasets/mantra_gsc_dataset/mantra_gsc_es_emea_bigbio_kb/1.0.0/7e442f3531d6990d7ebcb6382ff75257856f0bcc3e8941f3dc3b474d6ea7ce79)\n"
     ]
    },
    {
     "data": {
      "application/vnd.jupyter.widget-view+json": {
       "model_id": "5e14534d1b654af08a1129c4a4f771d3",
       "version_major": 2,
       "version_minor": 0
      },
      "text/plain": [
       "  0%|          | 0/1 [00:00<?, ?it/s]"
      ]
     },
     "metadata": {},
     "output_type": "display_data"
    },
    {
     "name": "stderr",
     "output_type": "stream",
     "text": [
      "Reusing dataset mantra_gsc_dataset (/home/galtay/.cache/huggingface/datasets/mantra_gsc_dataset/mantra_gsc_es_medline_bigbio_kb/1.0.0/7e442f3531d6990d7ebcb6382ff75257856f0bcc3e8941f3dc3b474d6ea7ce79)\n"
     ]
    },
    {
     "data": {
      "application/vnd.jupyter.widget-view+json": {
       "model_id": "b7c8a17a0c6947ff963a320c9ada5bd5",
       "version_major": 2,
       "version_minor": 0
      },
      "text/plain": [
       "  0%|          | 0/1 [00:00<?, ?it/s]"
      ]
     },
     "metadata": {},
     "output_type": "display_data"
    },
    {
     "name": "stderr",
     "output_type": "stream",
     "text": [
      "Reusing dataset mantra_gsc_dataset (/home/galtay/.cache/huggingface/datasets/mantra_gsc_dataset/mantra_gsc_fr_emea_bigbio_kb/1.0.0/7e442f3531d6990d7ebcb6382ff75257856f0bcc3e8941f3dc3b474d6ea7ce79)\n"
     ]
    },
    {
     "data": {
      "application/vnd.jupyter.widget-view+json": {
       "model_id": "7f18b88c745b4f79b0ea2fe3ad899a65",
       "version_major": 2,
       "version_minor": 0
      },
      "text/plain": [
       "  0%|          | 0/1 [00:00<?, ?it/s]"
      ]
     },
     "metadata": {},
     "output_type": "display_data"
    },
    {
     "name": "stderr",
     "output_type": "stream",
     "text": [
      "Reusing dataset mantra_gsc_dataset (/home/galtay/.cache/huggingface/datasets/mantra_gsc_dataset/mantra_gsc_fr_medline_bigbio_kb/1.0.0/7e442f3531d6990d7ebcb6382ff75257856f0bcc3e8941f3dc3b474d6ea7ce79)\n"
     ]
    },
    {
     "data": {
      "application/vnd.jupyter.widget-view+json": {
       "model_id": "3d6498f84ce54a2aa8810dcf6aee6ff5",
       "version_major": 2,
       "version_minor": 0
      },
      "text/plain": [
       "  0%|          | 0/1 [00:00<?, ?it/s]"
      ]
     },
     "metadata": {},
     "output_type": "display_data"
    },
    {
     "name": "stderr",
     "output_type": "stream",
     "text": [
      "Reusing dataset mantra_gsc_dataset (/home/galtay/.cache/huggingface/datasets/mantra_gsc_dataset/mantra_gsc_fr_patents_bigbio_kb/1.0.0/7e442f3531d6990d7ebcb6382ff75257856f0bcc3e8941f3dc3b474d6ea7ce79)\n"
     ]
    },
    {
     "data": {
      "application/vnd.jupyter.widget-view+json": {
       "model_id": "0cb501071e4e49cfb38b25e41702866b",
       "version_major": 2,
       "version_minor": 0
      },
      "text/plain": [
       "  0%|          | 0/1 [00:00<?, ?it/s]"
      ]
     },
     "metadata": {},
     "output_type": "display_data"
    },
    {
     "name": "stderr",
     "output_type": "stream",
     "text": [
      "Reusing dataset mantra_gsc_dataset (/home/galtay/.cache/huggingface/datasets/mantra_gsc_dataset/mantra_gsc_de_emea_bigbio_kb/1.0.0/7e442f3531d6990d7ebcb6382ff75257856f0bcc3e8941f3dc3b474d6ea7ce79)\n"
     ]
    },
    {
     "data": {
      "application/vnd.jupyter.widget-view+json": {
       "model_id": "f98f7732727242a7a34d6cb5b28c46fd",
       "version_major": 2,
       "version_minor": 0
      },
      "text/plain": [
       "  0%|          | 0/1 [00:00<?, ?it/s]"
      ]
     },
     "metadata": {},
     "output_type": "display_data"
    },
    {
     "name": "stderr",
     "output_type": "stream",
     "text": [
      "Reusing dataset mantra_gsc_dataset (/home/galtay/.cache/huggingface/datasets/mantra_gsc_dataset/mantra_gsc_de_medline_bigbio_kb/1.0.0/7e442f3531d6990d7ebcb6382ff75257856f0bcc3e8941f3dc3b474d6ea7ce79)\n"
     ]
    },
    {
     "data": {
      "application/vnd.jupyter.widget-view+json": {
       "model_id": "42d4264395d9495d96f66d3e3a1d516a",
       "version_major": 2,
       "version_minor": 0
      },
      "text/plain": [
       "  0%|          | 0/1 [00:00<?, ?it/s]"
      ]
     },
     "metadata": {},
     "output_type": "display_data"
    },
    {
     "name": "stderr",
     "output_type": "stream",
     "text": [
      "Reusing dataset mantra_gsc_dataset (/home/galtay/.cache/huggingface/datasets/mantra_gsc_dataset/mantra_gsc_de_patents_bigbio_kb/1.0.0/7e442f3531d6990d7ebcb6382ff75257856f0bcc3e8941f3dc3b474d6ea7ce79)\n"
     ]
    },
    {
     "data": {
      "application/vnd.jupyter.widget-view+json": {
       "model_id": "1a4b6d9ad80e48849c22e0d82485d85d",
       "version_major": 2,
       "version_minor": 0
      },
      "text/plain": [
       "  0%|          | 0/1 [00:00<?, ?it/s]"
      ]
     },
     "metadata": {},
     "output_type": "display_data"
    },
    {
     "name": "stderr",
     "output_type": "stream",
     "text": [
      "Reusing dataset mantra_gsc_dataset (/home/galtay/.cache/huggingface/datasets/mantra_gsc_dataset/mantra_gsc_nl_emea_bigbio_kb/1.0.0/7e442f3531d6990d7ebcb6382ff75257856f0bcc3e8941f3dc3b474d6ea7ce79)\n"
     ]
    },
    {
     "data": {
      "application/vnd.jupyter.widget-view+json": {
       "model_id": "782d2ba3c51840cfb04f1f7372ada81f",
       "version_major": 2,
       "version_minor": 0
      },
      "text/plain": [
       "  0%|          | 0/1 [00:00<?, ?it/s]"
      ]
     },
     "metadata": {},
     "output_type": "display_data"
    },
    {
     "name": "stderr",
     "output_type": "stream",
     "text": [
      "Reusing dataset mantra_gsc_dataset (/home/galtay/.cache/huggingface/datasets/mantra_gsc_dataset/mantra_gsc_nl_medline_bigbio_kb/1.0.0/7e442f3531d6990d7ebcb6382ff75257856f0bcc3e8941f3dc3b474d6ea7ce79)\n"
     ]
    },
    {
     "data": {
      "application/vnd.jupyter.widget-view+json": {
       "model_id": "9c824f1aba7d4cb3873c898772416040",
       "version_major": 2,
       "version_minor": 0
      },
      "text/plain": [
       "  0%|          | 0/1 [00:00<?, ?it/s]"
      ]
     },
     "metadata": {},
     "output_type": "display_data"
    },
    {
     "name": "stderr",
     "output_type": "stream",
     "text": [
      "Reusing dataset mantra_gsc_dataset (/home/galtay/.cache/huggingface/datasets/mantra_gsc_dataset/mantra_gsc_en_emea_bigbio_kb/1.0.0/7e442f3531d6990d7ebcb6382ff75257856f0bcc3e8941f3dc3b474d6ea7ce79)\n"
     ]
    },
    {
     "data": {
      "application/vnd.jupyter.widget-view+json": {
       "model_id": "9e567868933842fda41b18ebc27aa66e",
       "version_major": 2,
       "version_minor": 0
      },
      "text/plain": [
       "  0%|          | 0/1 [00:00<?, ?it/s]"
      ]
     },
     "metadata": {},
     "output_type": "display_data"
    },
    {
     "name": "stderr",
     "output_type": "stream",
     "text": [
      "Reusing dataset mantra_gsc_dataset (/home/galtay/.cache/huggingface/datasets/mantra_gsc_dataset/mantra_gsc_en_medline_bigbio_kb/1.0.0/7e442f3531d6990d7ebcb6382ff75257856f0bcc3e8941f3dc3b474d6ea7ce79)\n"
     ]
    },
    {
     "data": {
      "application/vnd.jupyter.widget-view+json": {
       "model_id": "93bfe3ed7b1743ebb8e725e0a73d6d1f",
       "version_major": 2,
       "version_minor": 0
      },
      "text/plain": [
       "  0%|          | 0/1 [00:00<?, ?it/s]"
      ]
     },
     "metadata": {},
     "output_type": "display_data"
    },
    {
     "name": "stderr",
     "output_type": "stream",
     "text": [
      "Reusing dataset mantra_gsc_dataset (/home/galtay/.cache/huggingface/datasets/mantra_gsc_dataset/mantra_gsc_en_patents_bigbio_kb/1.0.0/7e442f3531d6990d7ebcb6382ff75257856f0bcc3e8941f3dc3b474d6ea7ce79)\n"
     ]
    },
    {
     "data": {
      "application/vnd.jupyter.widget-view+json": {
       "model_id": "b1033423c94144c29263c6b56e46e6cc",
       "version_major": 2,
       "version_minor": 0
      },
      "text/plain": [
       "  0%|          | 0/1 [00:00<?, ?it/s]"
      ]
     },
     "metadata": {},
     "output_type": "display_data"
    },
    {
     "name": "stderr",
     "output_type": "stream",
     "text": [
      "Reusing dataset mayosrs_dataset (/home/galtay/.cache/huggingface/datasets/mayosrs_dataset/mayosrs_bigbio_pairs/1.0.0/2ae3973a6d9a4288005affdfff508a8e01fd90b40cb858a8389871ed2f0375b1)\n"
     ]
    },
    {
     "data": {
      "application/vnd.jupyter.widget-view+json": {
       "model_id": "9181c2bdf54b4846aaca35305f8e35c0",
       "version_major": 2,
       "version_minor": 0
      },
      "text/plain": [
       "  0%|          | 0/1 [00:00<?, ?it/s]"
      ]
     },
     "metadata": {},
     "output_type": "display_data"
    },
    {
     "name": "stderr",
     "output_type": "stream",
     "text": [
      "Reusing dataset med_qa_dataset (/home/galtay/.cache/huggingface/datasets/med_qa_dataset/med_qa_en_bigbio_qa/1.0.0/8d47fd5e34d1f7b1b04bfe89c9d7e10ca47020b1b847f362e685da00438b4b49)\n"
     ]
    },
    {
     "data": {
      "application/vnd.jupyter.widget-view+json": {
       "model_id": "52da96836681451788ffb5d0a6c17755",
       "version_major": 2,
       "version_minor": 0
      },
      "text/plain": [
       "  0%|          | 0/3 [00:00<?, ?it/s]"
      ]
     },
     "metadata": {},
     "output_type": "display_data"
    },
    {
     "name": "stderr",
     "output_type": "stream",
     "text": [
      "Reusing dataset med_qa_dataset (/home/galtay/.cache/huggingface/datasets/med_qa_dataset/med_qa_zh_bigbio_qa/1.0.0/8d47fd5e34d1f7b1b04bfe89c9d7e10ca47020b1b847f362e685da00438b4b49)\n"
     ]
    },
    {
     "data": {
      "application/vnd.jupyter.widget-view+json": {
       "model_id": "9070a3efa00f4cf7b9308cacbe00899a",
       "version_major": 2,
       "version_minor": 0
      },
      "text/plain": [
       "  0%|          | 0/3 [00:00<?, ?it/s]"
      ]
     },
     "metadata": {},
     "output_type": "display_data"
    },
    {
     "name": "stderr",
     "output_type": "stream",
     "text": [
      "Reusing dataset med_qa_dataset (/home/galtay/.cache/huggingface/datasets/med_qa_dataset/med_qa_tw_bigbio_qa/1.0.0/8d47fd5e34d1f7b1b04bfe89c9d7e10ca47020b1b847f362e685da00438b4b49)\n"
     ]
    },
    {
     "data": {
      "application/vnd.jupyter.widget-view+json": {
       "model_id": "393c87be89d648f1b205501bcfdc3215",
       "version_major": 2,
       "version_minor": 0
      },
      "text/plain": [
       "  0%|          | 0/3 [00:00<?, ?it/s]"
      ]
     },
     "metadata": {},
     "output_type": "display_data"
    },
    {
     "name": "stderr",
     "output_type": "stream",
     "text": [
      "Reusing dataset med_qa_dataset (/home/galtay/.cache/huggingface/datasets/med_qa_dataset/med_qa_tw_en_bigbio_qa/1.0.0/8d47fd5e34d1f7b1b04bfe89c9d7e10ca47020b1b847f362e685da00438b4b49)\n"
     ]
    },
    {
     "data": {
      "application/vnd.jupyter.widget-view+json": {
       "model_id": "2445b690e472476db74c4f084bfc83a7",
       "version_major": 2,
       "version_minor": 0
      },
      "text/plain": [
       "  0%|          | 0/3 [00:00<?, ?it/s]"
      ]
     },
     "metadata": {},
     "output_type": "display_data"
    },
    {
     "name": "stderr",
     "output_type": "stream",
     "text": [
      "Reusing dataset med_qa_dataset (/home/galtay/.cache/huggingface/datasets/med_qa_dataset/med_qa_tw_zh_bigbio_qa/1.0.0/8d47fd5e34d1f7b1b04bfe89c9d7e10ca47020b1b847f362e685da00438b4b49)\n"
     ]
    },
    {
     "data": {
      "application/vnd.jupyter.widget-view+json": {
       "model_id": "c5298ce9b69e4d3c8f07b49c77e79720",
       "version_major": 2,
       "version_minor": 0
      },
      "text/plain": [
       "  0%|          | 0/3 [00:00<?, ?it/s]"
      ]
     },
     "metadata": {},
     "output_type": "display_data"
    },
    {
     "name": "stderr",
     "output_type": "stream",
     "text": [
      "Reusing dataset med_dialog (/home/galtay/.cache/huggingface/datasets/med_dialog/meddialog_en_bigbio_text/1.0.0/baeea92e10915a8c6393ed8d5d355209142807a2ff1e9fa92fd5aeee65f6c502)\n"
     ]
    },
    {
     "data": {
      "application/vnd.jupyter.widget-view+json": {
       "model_id": "f256687eb3344921be214f24f06d2d0b",
       "version_major": 2,
       "version_minor": 0
      },
      "text/plain": [
       "  0%|          | 0/3 [00:00<?, ?it/s]"
      ]
     },
     "metadata": {},
     "output_type": "display_data"
    },
    {
     "name": "stderr",
     "output_type": "stream",
     "text": [
      "Reusing dataset meddocan_dataset (/home/galtay/.cache/huggingface/datasets/meddocan_dataset/meddocan_bigbio_kb/1.0.0/964604ff5d3ab34c05b0b205c0890f58c759c23b0dccf89db6e32c9aaa57e8f6)\n"
     ]
    },
    {
     "data": {
      "application/vnd.jupyter.widget-view+json": {
       "model_id": "9c68b522a31545e18e2291fc21b48977",
       "version_major": 2,
       "version_minor": 0
      },
      "text/plain": [
       "  0%|          | 0/3 [00:00<?, ?it/s]"
      ]
     },
     "metadata": {},
     "output_type": "display_data"
    },
    {
     "name": "stderr",
     "output_type": "stream",
     "text": [
      "Reusing dataset med_hop_dataset (/home/galtay/.cache/huggingface/datasets/med_hop_dataset/medhop_bigbio_qa/1.0.0/802061253658b81d588ed3c5c5b3b78d3a5f48e2b3a9298ba7cfacb021db47a5)\n"
     ]
    },
    {
     "data": {
      "application/vnd.jupyter.widget-view+json": {
       "model_id": "1e6dbfe7a39c46bb83de3bb367704021",
       "version_major": 2,
       "version_minor": 0
      },
      "text/plain": [
       "  0%|          | 0/2 [00:00<?, ?it/s]"
      ]
     },
     "metadata": {},
     "output_type": "display_data"
    },
    {
     "name": "stderr",
     "output_type": "stream",
     "text": [
      "Reusing dataset mediqa_qa_dataset (/home/galtay/.cache/huggingface/datasets/mediqa_qa_dataset/mediqa_qa_bigbio_qa/1.0.0/2aca6bfd63148f3b3e18e50db7b23e918326310e52ae2e7a9dce256ca5bb225d)\n"
     ]
    },
    {
     "data": {
      "application/vnd.jupyter.widget-view+json": {
       "model_id": "f778b98348e54ce486520ff2c5eed82a",
       "version_major": 2,
       "version_minor": 0
      },
      "text/plain": [
       "  0%|          | 0/4 [00:00<?, ?it/s]"
      ]
     },
     "metadata": {},
     "output_type": "display_data"
    },
    {
     "name": "stderr",
     "output_type": "stream",
     "text": [
      "Reusing dataset mediqa_rqe_dataset (/home/galtay/.cache/huggingface/datasets/mediqa_rqe_dataset/mediqa_rqe_bigbio_te/1.0.0/26f3791910196b2018ed51926e87310584efd2d6bc1d1b6c4ae80297d4f0c30f)\n"
     ]
    },
    {
     "data": {
      "application/vnd.jupyter.widget-view+json": {
       "model_id": "7f6e802dc3004f47a83c792596a41616",
       "version_major": 2,
       "version_minor": 0
      },
      "text/plain": [
       "  0%|          | 0/3 [00:00<?, ?it/s]"
      ]
     },
     "metadata": {},
     "output_type": "display_data"
    },
    {
     "name": "stderr",
     "output_type": "stream",
     "text": [
      "Reusing dataset med_mentions_dataset (/home/galtay/.cache/huggingface/datasets/med_mentions_dataset/medmentions_full_bigbio_kb/1.0.0/b5c8691186d4701f9b18eddbe36d178ccf7e55761dcc6140c57f4410754511ac)\n"
     ]
    },
    {
     "data": {
      "application/vnd.jupyter.widget-view+json": {
       "model_id": "5ef812db40e74f66992acb90a7e54a71",
       "version_major": 2,
       "version_minor": 0
      },
      "text/plain": [
       "  0%|          | 0/3 [00:00<?, ?it/s]"
      ]
     },
     "metadata": {},
     "output_type": "display_data"
    },
    {
     "name": "stderr",
     "output_type": "stream",
     "text": [
      "Reusing dataset med_mentions_dataset (/home/galtay/.cache/huggingface/datasets/med_mentions_dataset/medmentions_st21pv_bigbio_kb/1.0.0/b5c8691186d4701f9b18eddbe36d178ccf7e55761dcc6140c57f4410754511ac)\n"
     ]
    },
    {
     "data": {
      "application/vnd.jupyter.widget-view+json": {
       "model_id": "210fab9e867e44988f72fab07ffeb968",
       "version_major": 2,
       "version_minor": 0
      },
      "text/plain": [
       "  0%|          | 0/3 [00:00<?, ?it/s]"
      ]
     },
     "metadata": {},
     "output_type": "display_data"
    },
    {
     "name": "stderr",
     "output_type": "stream",
     "text": [
      "Reusing dataset me_q_sum_dataset (/home/galtay/.cache/huggingface/datasets/me_q_sum_dataset/meqsum_bigbio_t2t/1.0.0/0cd33941c5241e70b16d6db94299ba2572b21847cace2b768aeb551a3886c869)\n"
     ]
    },
    {
     "data": {
      "application/vnd.jupyter.widget-view+json": {
       "model_id": "eb6a58d1d5ff4388ba12ca54122c4b72",
       "version_major": 2,
       "version_minor": 0
      },
      "text/plain": [
       "  0%|          | 0/1 [00:00<?, ?it/s]"
      ]
     },
     "metadata": {},
     "output_type": "display_data"
    },
    {
     "name": "stderr",
     "output_type": "stream",
     "text": [
      "Reusing dataset minimayosrs_dataset (/home/galtay/.cache/huggingface/datasets/minimayosrs_dataset/minimayosrs_bigbio_pairs/1.0.0/564b19cfba7fb458733e551a96c2bb02f90d57f44228a3a9001d87ad9eaa31cb)\n"
     ]
    },
    {
     "data": {
      "application/vnd.jupyter.widget-view+json": {
       "model_id": "62e3a4e338304f068846fab1d9af723a",
       "version_major": 2,
       "version_minor": 0
      },
      "text/plain": [
       "  0%|          | 0/1 [00:00<?, ?it/s]"
      ]
     },
     "metadata": {},
     "output_type": "display_data"
    },
    {
     "name": "stderr",
     "output_type": "stream",
     "text": [
      "Reusing dataset mi_rna_dataset (/home/galtay/.cache/huggingface/datasets/mi_rna_dataset/mirna_bigbio_kb/1.0.0/1235ed5dcf1fad04baee19c6254866b2daaf8358c11d6477834e5e12c98b4657)\n"
     ]
    },
    {
     "data": {
      "application/vnd.jupyter.widget-view+json": {
       "model_id": "972e7b6ed76440b98f3b9b193334451f",
       "version_major": 2,
       "version_minor": 0
      },
      "text/plain": [
       "  0%|          | 0/2 [00:00<?, ?it/s]"
      ]
     },
     "metadata": {},
     "output_type": "display_data"
    },
    {
     "name": "stderr",
     "output_type": "stream",
     "text": [
      "Reusing dataset mlee (/home/galtay/.cache/huggingface/datasets/mlee/mlee_bigbio_kb/1.0.0/d42fcd6d0f5b31a49bc3c1cdb9302a7fcadcda06523c560367d5360189d0be48)\n"
     ]
    },
    {
     "data": {
      "application/vnd.jupyter.widget-view+json": {
       "model_id": "2ae09e6a373b421fa0a4937e1da02303",
       "version_major": 2,
       "version_minor": 0
      },
      "text/plain": [
       "  0%|          | 0/3 [00:00<?, ?it/s]"
      ]
     },
     "metadata": {},
     "output_type": "display_data"
    },
    {
     "name": "stderr",
     "output_type": "stream",
     "text": [
      "Reusing dataset mqp_dataset (/home/galtay/.cache/huggingface/datasets/mqp_dataset/mqp_bigbio_pairs/1.0.0/17893bd8246c1f4d7108e693a1b9f37ce5d64f78b952b356003d4c58558be93c)\n"
     ]
    },
    {
     "data": {
      "application/vnd.jupyter.widget-view+json": {
       "model_id": "17a0111f7d5c465f8e7fdde0151a3078",
       "version_major": 2,
       "version_minor": 0
      },
      "text/plain": [
       "  0%|          | 0/1 [00:00<?, ?it/s]"
      ]
     },
     "metadata": {},
     "output_type": "display_data"
    },
    {
     "name": "stderr",
     "output_type": "stream",
     "text": [
      "Reusing dataset much_more_dataset (/home/galtay/.cache/huggingface/datasets/much_more_dataset/muchmore_bigbio_kb/1.0.0/a11b927d0f9b3e5a0730f1a49adbdba5b244c77d9d190e5b1ce0b60c32e0ea6f)\n"
     ]
    },
    {
     "data": {
      "application/vnd.jupyter.widget-view+json": {
       "model_id": "2bd3338a4e2f41d0aa1541c75c5c5540",
       "version_major": 2,
       "version_minor": 0
      },
      "text/plain": [
       "  0%|          | 0/1 [00:00<?, ?it/s]"
      ]
     },
     "metadata": {},
     "output_type": "display_data"
    },
    {
     "name": "stderr",
     "output_type": "stream",
     "text": [
      "Reusing dataset much_more_dataset (/home/galtay/.cache/huggingface/datasets/much_more_dataset/muchmore_en_bigbio_kb/1.0.0/a11b927d0f9b3e5a0730f1a49adbdba5b244c77d9d190e5b1ce0b60c32e0ea6f)\n"
     ]
    },
    {
     "data": {
      "application/vnd.jupyter.widget-view+json": {
       "model_id": "e70691fa12334833ac298afb43878c79",
       "version_major": 2,
       "version_minor": 0
      },
      "text/plain": [
       "  0%|          | 0/1 [00:00<?, ?it/s]"
      ]
     },
     "metadata": {},
     "output_type": "display_data"
    },
    {
     "name": "stderr",
     "output_type": "stream",
     "text": [
      "Reusing dataset much_more_dataset (/home/galtay/.cache/huggingface/datasets/much_more_dataset/muchmore_de_bigbio_kb/1.0.0/a11b927d0f9b3e5a0730f1a49adbdba5b244c77d9d190e5b1ce0b60c32e0ea6f)\n"
     ]
    },
    {
     "data": {
      "application/vnd.jupyter.widget-view+json": {
       "model_id": "8d9c026b44734dcf9b6e8f3074dbf7c3",
       "version_major": 2,
       "version_minor": 0
      },
      "text/plain": [
       "  0%|          | 0/1 [00:00<?, ?it/s]"
      ]
     },
     "metadata": {},
     "output_type": "display_data"
    },
    {
     "name": "stderr",
     "output_type": "stream",
     "text": [
      "Reusing dataset much_more_dataset (/home/galtay/.cache/huggingface/datasets/much_more_dataset/muchmore_bigbio_t2t/1.0.0/a11b927d0f9b3e5a0730f1a49adbdba5b244c77d9d190e5b1ce0b60c32e0ea6f)\n"
     ]
    },
    {
     "data": {
      "application/vnd.jupyter.widget-view+json": {
       "model_id": "36743f7c280a4c5a88415d03894a923c",
       "version_major": 2,
       "version_minor": 0
      },
      "text/plain": [
       "  0%|          | 0/1 [00:00<?, ?it/s]"
      ]
     },
     "metadata": {},
     "output_type": "display_data"
    },
    {
     "name": "stderr",
     "output_type": "stream",
     "text": [
      "Reusing dataset multi_x_science (/home/galtay/.cache/huggingface/datasets/multi_x_science/multi_xscience_bigbio_t2t/1.0.0/5372d2f04ab0c807f7cc339c10b1a9941d5243df8ae09f015222c2f4a5efcde8)\n"
     ]
    },
    {
     "data": {
      "application/vnd.jupyter.widget-view+json": {
       "model_id": "147b1f12aa064253904ca089699d90af",
       "version_major": 2,
       "version_minor": 0
      },
      "text/plain": [
       "  0%|          | 0/3 [00:00<?, ?it/s]"
      ]
     },
     "metadata": {},
     "output_type": "display_data"
    },
    {
     "name": "stderr",
     "output_type": "stream",
     "text": [
      "Reusing dataset mutation_finder_dataset (/home/galtay/.cache/huggingface/datasets/mutation_finder_dataset/mutation_finder_bigbio_kb/1.0.0/a11a87d71b8a82109163d6abc4fbc7b46a2c89663b621eec89571e19823d9451)\n"
     ]
    },
    {
     "data": {
      "application/vnd.jupyter.widget-view+json": {
       "model_id": "72262091a61b48fbac5d958c4512c9dd",
       "version_major": 2,
       "version_minor": 0
      },
      "text/plain": [
       "  0%|          | 0/2 [00:00<?, ?it/s]"
      ]
     },
     "metadata": {},
     "output_type": "display_data"
    },
    {
     "name": "stderr",
     "output_type": "stream",
     "text": [
      "Reusing dataset ncbi_disease_dataset (/home/galtay/.cache/huggingface/datasets/ncbi_disease_dataset/ncbi_disease_bigbio_kb/1.0.0/10a393201e55b403e5d107701b719368f54f1bf3d3438a1233f99be0badeb034)\n"
     ]
    },
    {
     "data": {
      "application/vnd.jupyter.widget-view+json": {
       "model_id": "eed15ab7ad364198968ad06639b650c2",
       "version_major": 2,
       "version_minor": 0
      },
      "text/plain": [
       "  0%|          | 0/3 [00:00<?, ?it/s]"
      ]
     },
     "metadata": {},
     "output_type": "display_data"
    },
    {
     "name": "stderr",
     "output_type": "stream",
     "text": [
      "Reusing dataset nlm_gene_dataset (/home/galtay/.cache/huggingface/datasets/nlm_gene_dataset/nlm_gene_bigbio_kb/1.0.0/4291402c7589961b34294745522bffe7e289d8f6c11d99a66d93362c0d30187d)\n"
     ]
    },
    {
     "data": {
      "application/vnd.jupyter.widget-view+json": {
       "model_id": "9c8ff6b9281241c7afc4a302ae32b694",
       "version_major": 2,
       "version_minor": 0
      },
      "text/plain": [
       "  0%|          | 0/2 [00:00<?, ?it/s]"
      ]
     },
     "metadata": {},
     "output_type": "display_data"
    },
    {
     "name": "stderr",
     "output_type": "stream",
     "text": [
      "Reusing dataset nlm_chem_dataset (/home/galtay/.cache/huggingface/datasets/nlm_chem_dataset/nlmchem_bigbio_kb/1.0.0/d91131823c66b7dd1162027991ea47c342e478209b37cf261c5f122d30409594)\n"
     ]
    },
    {
     "data": {
      "application/vnd.jupyter.widget-view+json": {
       "model_id": "3278f70aded642228f341159a39583a8",
       "version_major": 2,
       "version_minor": 0
      },
      "text/plain": [
       "  0%|          | 0/3 [00:00<?, ?it/s]"
      ]
     },
     "metadata": {},
     "output_type": "display_data"
    },
    {
     "name": "stderr",
     "output_type": "stream",
     "text": [
      "Reusing dataset nlm_chem_dataset (/home/galtay/.cache/huggingface/datasets/nlm_chem_dataset/nlmchem_bigbio_text/1.0.0/d91131823c66b7dd1162027991ea47c342e478209b37cf261c5f122d30409594)\n"
     ]
    },
    {
     "data": {
      "application/vnd.jupyter.widget-view+json": {
       "model_id": "0db6cded4fee467696b482f5b3dc352f",
       "version_major": 2,
       "version_minor": 0
      },
      "text/plain": [
       "  0%|          | 0/3 [00:00<?, ?it/s]"
      ]
     },
     "metadata": {},
     "output_type": "display_data"
    },
    {
     "name": "stderr",
     "output_type": "stream",
     "text": [
      "Reusing dataset osiris (/home/galtay/.cache/huggingface/datasets/osiris/osiris_bigbio_kb/1.0.0/5aae14241c67fbe761843bedc3ab1123302773163574bf23bdd1c81fbb145485)\n"
     ]
    },
    {
     "data": {
      "application/vnd.jupyter.widget-view+json": {
       "model_id": "84069e031ea74d5ea7bc9e1bd707a578",
       "version_major": 2,
       "version_minor": 0
      },
      "text/plain": [
       "  0%|          | 0/1 [00:00<?, ?it/s]"
      ]
     },
     "metadata": {},
     "output_type": "display_data"
    },
    {
     "name": "stderr",
     "output_type": "stream",
     "text": [
      "Reusing dataset paramed_dataset (/home/galtay/.cache/huggingface/datasets/paramed_dataset/paramed_bigbio_t2t/1.0.0/c7c545f9e448eedad7e528cc495ae31a47228ccfd052c74207040943b58cfab7)\n"
     ]
    },
    {
     "data": {
      "application/vnd.jupyter.widget-view+json": {
       "model_id": "2e969b5a214d4688a65b960f1017aa47",
       "version_major": 2,
       "version_minor": 0
      },
      "text/plain": [
       "  0%|          | 0/3 [00:00<?, ?it/s]"
      ]
     },
     "metadata": {},
     "output_type": "display_data"
    },
    {
     "name": "stderr",
     "output_type": "stream",
     "text": [
      "Reusing dataset pdr_dataset (/home/galtay/.cache/huggingface/datasets/pdr_dataset/pdr_bigbio_kb/1.0.0/9ec253d2bc6fcb4e915732a73be847d608383dca336ad90464ffbeab22f4f935)\n"
     ]
    },
    {
     "data": {
      "application/vnd.jupyter.widget-view+json": {
       "model_id": "41a43f909e544265a619e52c3e0fdba6",
       "version_major": 2,
       "version_minor": 0
      },
      "text/plain": [
       "  0%|          | 0/1 [00:00<?, ?it/s]"
      ]
     },
     "metadata": {},
     "output_type": "display_data"
    },
    {
     "name": "stderr",
     "output_type": "stream",
     "text": [
      "Reusing dataset pharmaconer_dataset (/home/galtay/.cache/huggingface/datasets/pharmaconer_dataset/pharmaconer_bigbio_kb/1.0.0/0bfb0ab001bb8e93f01292bccfc411ea2ddfc50622975f82bf33353959f6c1e5)\n"
     ]
    },
    {
     "data": {
      "application/vnd.jupyter.widget-view+json": {
       "model_id": "f815a7c9c8e24070b8cc15c71ab24509",
       "version_major": 2,
       "version_minor": 0
      },
      "text/plain": [
       "  0%|          | 0/3 [00:00<?, ?it/s]"
      ]
     },
     "metadata": {},
     "output_type": "display_data"
    },
    {
     "name": "stderr",
     "output_type": "stream",
     "text": [
      "Reusing dataset pharmaconer_dataset (/home/galtay/.cache/huggingface/datasets/pharmaconer_dataset/pharmaconer_bigbio_text/1.0.0/0bfb0ab001bb8e93f01292bccfc411ea2ddfc50622975f82bf33353959f6c1e5)\n"
     ]
    },
    {
     "data": {
      "application/vnd.jupyter.widget-view+json": {
       "model_id": "9c65636dd58142cd831f5328907125fc",
       "version_major": 2,
       "version_minor": 0
      },
      "text/plain": [
       "  0%|          | 0/3 [00:00<?, ?it/s]"
      ]
     },
     "metadata": {},
     "output_type": "display_data"
    },
    {
     "name": "stderr",
     "output_type": "stream",
     "text": [
      "Reusing dataset pho_ner_dataset (/home/galtay/.cache/huggingface/datasets/pho_ner_dataset/pho_ner_bigbio_kb/1.0.0/b63c03a21ab8fd3aea54418ad680f3e1479d90e3f74faee93603c75aeb440f09)\n"
     ]
    },
    {
     "data": {
      "application/vnd.jupyter.widget-view+json": {
       "model_id": "5857a366b8bc4fdfb2b0cf0e909f3140",
       "version_major": 2,
       "version_minor": 0
      },
      "text/plain": [
       "  0%|          | 0/3 [00:00<?, ?it/s]"
      ]
     },
     "metadata": {},
     "output_type": "display_data"
    },
    {
     "name": "stderr",
     "output_type": "stream",
     "text": [
      "Reusing dataset pho_ner_dataset (/home/galtay/.cache/huggingface/datasets/pho_ner_dataset/pho_ner_syllable_bigbio_kb/1.0.0/b63c03a21ab8fd3aea54418ad680f3e1479d90e3f74faee93603c75aeb440f09)\n"
     ]
    },
    {
     "data": {
      "application/vnd.jupyter.widget-view+json": {
       "model_id": "a0dff7922ffe424db5625e3ce71ec446",
       "version_major": 2,
       "version_minor": 0
      },
      "text/plain": [
       "  0%|          | 0/3 [00:00<?, ?it/s]"
      ]
     },
     "metadata": {},
     "output_type": "display_data"
    },
    {
     "name": "stderr",
     "output_type": "stream",
     "text": [
      "Reusing dataset pico_extraction_dataset (/home/galtay/.cache/huggingface/datasets/pico_extraction_dataset/pico_extraction_bigbio_kb/1.0.0/e44a7c77a2a3cd9b6f4a2ed8e0af76d74ba9259106a26e2ae98b15cbfd1d16b6)\n"
     ]
    },
    {
     "data": {
      "application/vnd.jupyter.widget-view+json": {
       "model_id": "2f7a7fc604714479b64228b28c710841",
       "version_major": 2,
       "version_minor": 0
      },
      "text/plain": [
       "  0%|          | 0/1 [00:00<?, ?it/s]"
      ]
     },
     "metadata": {},
     "output_type": "display_data"
    },
    {
     "name": "stderr",
     "output_type": "stream",
     "text": [
      "Reusing dataset pmc_patients_dataset (/home/galtay/.cache/huggingface/datasets/pmc_patients_dataset/pmc_patients_bigbio_pairs/1.0.0/8b53a07c8b6b88d49fcf0909dfe46a61e9b778ba681151eb9b4ed53f97f6fe90)\n"
     ]
    },
    {
     "data": {
      "application/vnd.jupyter.widget-view+json": {
       "model_id": "36969a42f9504262aae7be2bd3457184",
       "version_major": 2,
       "version_minor": 0
      },
      "text/plain": [
       "  0%|          | 0/3 [00:00<?, ?it/s]"
      ]
     },
     "metadata": {},
     "output_type": "display_data"
    },
    {
     "name": "stderr",
     "output_type": "stream",
     "text": [
      "Reusing dataset progene_dataset (/home/galtay/.cache/huggingface/datasets/progene_dataset/progene_bigbio_kb/1.0.0/f47dd117a24026c11f24285a8dc6921f68746d3379affca5f0022512c1cad0e0)\n"
     ]
    },
    {
     "data": {
      "application/vnd.jupyter.widget-view+json": {
       "model_id": "91b2efebb1834c67a5c326e23dd70521",
       "version_major": 2,
       "version_minor": 0
      },
      "text/plain": [
       "  0%|          | 0/30 [00:00<?, ?it/s]"
      ]
     },
     "metadata": {},
     "output_type": "display_data"
    },
    {
     "name": "stderr",
     "output_type": "stream",
     "text": [
      "Reusing dataset pubhealth_dataset (/home/galtay/.cache/huggingface/datasets/pubhealth_dataset/pubhealth_bigbio_pairs/1.0.0/4abda944fddf7b2b825a65adcc815fd98dc3008623301268fa69795f6b2a2b9b)\n"
     ]
    },
    {
     "data": {
      "application/vnd.jupyter.widget-view+json": {
       "model_id": "04aa11a5268e4a36bce617dd596d4804",
       "version_major": 2,
       "version_minor": 0
      },
      "text/plain": [
       "  0%|          | 0/3 [00:00<?, ?it/s]"
      ]
     },
     "metadata": {},
     "output_type": "display_data"
    },
    {
     "name": "stderr",
     "output_type": "stream",
     "text": [
      "Reusing dataset pubmed_qa_dataset (/home/galtay/.cache/huggingface/datasets/pubmed_qa_dataset/pubmed_qa_artificial_bigbio_qa/1.0.0/43353ba5c6e691785b41bd24638e416d6f120111a0f2fd33d250ffe337c415d0)\n"
     ]
    },
    {
     "data": {
      "application/vnd.jupyter.widget-view+json": {
       "model_id": "34f4e25b996a4ade8ec140b6f13fffd6",
       "version_major": 2,
       "version_minor": 0
      },
      "text/plain": [
       "  0%|          | 0/2 [00:00<?, ?it/s]"
      ]
     },
     "metadata": {},
     "output_type": "display_data"
    },
    {
     "name": "stderr",
     "output_type": "stream",
     "text": [
      "Reusing dataset pubmed_qa_dataset (/home/galtay/.cache/huggingface/datasets/pubmed_qa_dataset/pubmed_qa_unlabeled_bigbio_qa/1.0.0/43353ba5c6e691785b41bd24638e416d6f120111a0f2fd33d250ffe337c415d0)\n"
     ]
    },
    {
     "data": {
      "application/vnd.jupyter.widget-view+json": {
       "model_id": "1f7d91abd439404c846a1a687e8dda9d",
       "version_major": 2,
       "version_minor": 0
      },
      "text/plain": [
       "  0%|          | 0/1 [00:00<?, ?it/s]"
      ]
     },
     "metadata": {},
     "output_type": "display_data"
    },
    {
     "name": "stderr",
     "output_type": "stream",
     "text": [
      "Reusing dataset pubmed_qa_dataset (/home/galtay/.cache/huggingface/datasets/pubmed_qa_dataset/pubmed_qa_labeled_fold0_bigbio_qa/1.0.0/43353ba5c6e691785b41bd24638e416d6f120111a0f2fd33d250ffe337c415d0)\n"
     ]
    },
    {
     "data": {
      "application/vnd.jupyter.widget-view+json": {
       "model_id": "8ae70a8fd6534bb7a0186071085eae3f",
       "version_major": 2,
       "version_minor": 0
      },
      "text/plain": [
       "  0%|          | 0/3 [00:00<?, ?it/s]"
      ]
     },
     "metadata": {},
     "output_type": "display_data"
    },
    {
     "name": "stderr",
     "output_type": "stream",
     "text": [
      "Reusing dataset pubmed_qa_dataset (/home/galtay/.cache/huggingface/datasets/pubmed_qa_dataset/pubmed_qa_labeled_fold1_bigbio_qa/1.0.0/43353ba5c6e691785b41bd24638e416d6f120111a0f2fd33d250ffe337c415d0)\n"
     ]
    },
    {
     "data": {
      "application/vnd.jupyter.widget-view+json": {
       "model_id": "55be8bfd275f44dea3f03c2b6e8b3000",
       "version_major": 2,
       "version_minor": 0
      },
      "text/plain": [
       "  0%|          | 0/3 [00:00<?, ?it/s]"
      ]
     },
     "metadata": {},
     "output_type": "display_data"
    },
    {
     "name": "stderr",
     "output_type": "stream",
     "text": [
      "Reusing dataset pubmed_qa_dataset (/home/galtay/.cache/huggingface/datasets/pubmed_qa_dataset/pubmed_qa_labeled_fold2_bigbio_qa/1.0.0/43353ba5c6e691785b41bd24638e416d6f120111a0f2fd33d250ffe337c415d0)\n"
     ]
    },
    {
     "data": {
      "application/vnd.jupyter.widget-view+json": {
       "model_id": "59d4fb36d39a4a899f1043d4fbdf7b78",
       "version_major": 2,
       "version_minor": 0
      },
      "text/plain": [
       "  0%|          | 0/3 [00:00<?, ?it/s]"
      ]
     },
     "metadata": {},
     "output_type": "display_data"
    },
    {
     "name": "stderr",
     "output_type": "stream",
     "text": [
      "Reusing dataset pubmed_qa_dataset (/home/galtay/.cache/huggingface/datasets/pubmed_qa_dataset/pubmed_qa_labeled_fold3_bigbio_qa/1.0.0/43353ba5c6e691785b41bd24638e416d6f120111a0f2fd33d250ffe337c415d0)\n"
     ]
    },
    {
     "data": {
      "application/vnd.jupyter.widget-view+json": {
       "model_id": "632815bd6c5c4da787a9dcad4330a324",
       "version_major": 2,
       "version_minor": 0
      },
      "text/plain": [
       "  0%|          | 0/3 [00:00<?, ?it/s]"
      ]
     },
     "metadata": {},
     "output_type": "display_data"
    },
    {
     "name": "stderr",
     "output_type": "stream",
     "text": [
      "Reusing dataset pubmed_qa_dataset (/home/galtay/.cache/huggingface/datasets/pubmed_qa_dataset/pubmed_qa_labeled_fold4_bigbio_qa/1.0.0/43353ba5c6e691785b41bd24638e416d6f120111a0f2fd33d250ffe337c415d0)\n"
     ]
    },
    {
     "data": {
      "application/vnd.jupyter.widget-view+json": {
       "model_id": "c49ea60636034c3593644919be3b72f3",
       "version_major": 2,
       "version_minor": 0
      },
      "text/plain": [
       "  0%|          | 0/3 [00:00<?, ?it/s]"
      ]
     },
     "metadata": {},
     "output_type": "display_data"
    },
    {
     "name": "stderr",
     "output_type": "stream",
     "text": [
      "Reusing dataset pubmed_qa_dataset (/home/galtay/.cache/huggingface/datasets/pubmed_qa_dataset/pubmed_qa_labeled_fold5_bigbio_qa/1.0.0/43353ba5c6e691785b41bd24638e416d6f120111a0f2fd33d250ffe337c415d0)\n"
     ]
    },
    {
     "data": {
      "application/vnd.jupyter.widget-view+json": {
       "model_id": "4f107166846643e483538e443fce3e6d",
       "version_major": 2,
       "version_minor": 0
      },
      "text/plain": [
       "  0%|          | 0/3 [00:00<?, ?it/s]"
      ]
     },
     "metadata": {},
     "output_type": "display_data"
    },
    {
     "name": "stderr",
     "output_type": "stream",
     "text": [
      "Reusing dataset pubmed_qa_dataset (/home/galtay/.cache/huggingface/datasets/pubmed_qa_dataset/pubmed_qa_labeled_fold6_bigbio_qa/1.0.0/43353ba5c6e691785b41bd24638e416d6f120111a0f2fd33d250ffe337c415d0)\n"
     ]
    },
    {
     "data": {
      "application/vnd.jupyter.widget-view+json": {
       "model_id": "ccf9f3ef7eec444ca236623619bd650a",
       "version_major": 2,
       "version_minor": 0
      },
      "text/plain": [
       "  0%|          | 0/3 [00:00<?, ?it/s]"
      ]
     },
     "metadata": {},
     "output_type": "display_data"
    },
    {
     "name": "stderr",
     "output_type": "stream",
     "text": [
      "Reusing dataset pubmed_qa_dataset (/home/galtay/.cache/huggingface/datasets/pubmed_qa_dataset/pubmed_qa_labeled_fold7_bigbio_qa/1.0.0/43353ba5c6e691785b41bd24638e416d6f120111a0f2fd33d250ffe337c415d0)\n"
     ]
    },
    {
     "data": {
      "application/vnd.jupyter.widget-view+json": {
       "model_id": "dc3741742def40b6b92a845f4f52746c",
       "version_major": 2,
       "version_minor": 0
      },
      "text/plain": [
       "  0%|          | 0/3 [00:00<?, ?it/s]"
      ]
     },
     "metadata": {},
     "output_type": "display_data"
    },
    {
     "name": "stderr",
     "output_type": "stream",
     "text": [
      "Reusing dataset pubmed_qa_dataset (/home/galtay/.cache/huggingface/datasets/pubmed_qa_dataset/pubmed_qa_labeled_fold8_bigbio_qa/1.0.0/43353ba5c6e691785b41bd24638e416d6f120111a0f2fd33d250ffe337c415d0)\n"
     ]
    },
    {
     "data": {
      "application/vnd.jupyter.widget-view+json": {
       "model_id": "64e14e1d68374379a4bcf2705b518a73",
       "version_major": 2,
       "version_minor": 0
      },
      "text/plain": [
       "  0%|          | 0/3 [00:00<?, ?it/s]"
      ]
     },
     "metadata": {},
     "output_type": "display_data"
    },
    {
     "name": "stderr",
     "output_type": "stream",
     "text": [
      "Reusing dataset pubmed_qa_dataset (/home/galtay/.cache/huggingface/datasets/pubmed_qa_dataset/pubmed_qa_labeled_fold9_bigbio_qa/1.0.0/43353ba5c6e691785b41bd24638e416d6f120111a0f2fd33d250ffe337c415d0)\n"
     ]
    },
    {
     "data": {
      "application/vnd.jupyter.widget-view+json": {
       "model_id": "d51cf4201c9947de852ae90c938afccf",
       "version_major": 2,
       "version_minor": 0
      },
      "text/plain": [
       "  0%|          | 0/3 [00:00<?, ?it/s]"
      ]
     },
     "metadata": {},
     "output_type": "display_data"
    },
    {
     "name": "stderr",
     "output_type": "stream",
     "text": [
      "Reusing dataset pubtator_central_dataset (/home/galtay/.cache/huggingface/datasets/pubtator_central_dataset/pubtator_central_sample_bigbio_kb/1.0.0/1942b2ed6ca53071c1dbcb604ed9b0a1e26c2a0b84839c6d7bbed1b82776b2c0)\n"
     ]
    },
    {
     "data": {
      "application/vnd.jupyter.widget-view+json": {
       "model_id": "d91a50545b2346de9cbcf0d2e9a4a464",
       "version_major": 2,
       "version_minor": 0
      },
      "text/plain": [
       "  0%|          | 0/1 [00:00<?, ?it/s]"
      ]
     },
     "metadata": {},
     "output_type": "display_data"
    },
    {
     "name": "stderr",
     "output_type": "stream",
     "text": [
      "Reusing dataset quaero (/home/galtay/.cache/huggingface/datasets/quaero/quaero_emea_bigbio_kb/1.0.0/774678ab312901ed68bd16ef32004f241b028aeab7713109b788cc031774fd9c)\n"
     ]
    },
    {
     "data": {
      "application/vnd.jupyter.widget-view+json": {
       "model_id": "d19f1c605487425cac9ff05b1d236f68",
       "version_major": 2,
       "version_minor": 0
      },
      "text/plain": [
       "  0%|          | 0/3 [00:00<?, ?it/s]"
      ]
     },
     "metadata": {},
     "output_type": "display_data"
    },
    {
     "name": "stderr",
     "output_type": "stream",
     "text": [
      "Reusing dataset quaero (/home/galtay/.cache/huggingface/datasets/quaero/quaero_medline_bigbio_kb/1.0.0/774678ab312901ed68bd16ef32004f241b028aeab7713109b788cc031774fd9c)\n"
     ]
    },
    {
     "data": {
      "application/vnd.jupyter.widget-view+json": {
       "model_id": "4e7cd426eb85462c9c2bd05c009fc024",
       "version_major": 2,
       "version_minor": 0
      },
      "text/plain": [
       "  0%|          | 0/3 [00:00<?, ?it/s]"
      ]
     },
     "metadata": {},
     "output_type": "display_data"
    },
    {
     "name": "stderr",
     "output_type": "stream",
     "text": [
      "Reusing dataset scai_chemical_dataset (/home/galtay/.cache/huggingface/datasets/scai_chemical_dataset/scai_chemical_bigbio_kb/1.0.0/ad206c78b1592b11002e702f356e76b053510aa5a7c99884636443bcc500fc00)\n"
     ]
    },
    {
     "data": {
      "application/vnd.jupyter.widget-view+json": {
       "model_id": "628be7744f384d0db9d4c4b949489128",
       "version_major": 2,
       "version_minor": 0
      },
      "text/plain": [
       "  0%|          | 0/1 [00:00<?, ?it/s]"
      ]
     },
     "metadata": {},
     "output_type": "display_data"
    },
    {
     "name": "stderr",
     "output_type": "stream",
     "text": [
      "Reusing dataset scai_disease_dataset (/home/galtay/.cache/huggingface/datasets/scai_disease_dataset/scai_disease_bigbio_kb/1.0.0/2f31b34d3ebd26b72d0f8cc07c83d4730ed6a24dc117589975e22fb742180d1c)\n"
     ]
    },
    {
     "data": {
      "application/vnd.jupyter.widget-view+json": {
       "model_id": "3cadfbbb018540a5bcfe427746c8e059",
       "version_major": 2,
       "version_minor": 0
      },
      "text/plain": [
       "  0%|          | 0/1 [00:00<?, ?it/s]"
      ]
     },
     "metadata": {},
     "output_type": "display_data"
    },
    {
     "name": "stderr",
     "output_type": "stream",
     "text": [
      "Reusing dataset scicite_dataset (/home/galtay/.cache/huggingface/datasets/scicite_dataset/scicite_bigbio_text/1.0.0/68442c96e497d1b72c0437590d489ddd30adc5e325feee9057fc43f2d65a20d7)\n"
     ]
    },
    {
     "data": {
      "application/vnd.jupyter.widget-view+json": {
       "model_id": "5cf6c0663fba4e83ad2413a499142ad1",
       "version_major": 2,
       "version_minor": 0
      },
      "text/plain": [
       "  0%|          | 0/3 [00:00<?, ?it/s]"
      ]
     },
     "metadata": {},
     "output_type": "display_data"
    },
    {
     "name": "stderr",
     "output_type": "stream",
     "text": [
      "Reusing dataset scielo_dataset (/home/galtay/.cache/huggingface/datasets/scielo_dataset/scielo_en_es_bigbio_t2t/1.0.0/ee3c81633c3b223c9bab99bb498dafa8d4f00aeb78313a123bcdf597ce4269a8)\n"
     ]
    },
    {
     "data": {
      "application/vnd.jupyter.widget-view+json": {
       "model_id": "e7cacab746934d0aa97294d384ed4145",
       "version_major": 2,
       "version_minor": 0
      },
      "text/plain": [
       "  0%|          | 0/1 [00:00<?, ?it/s]"
      ]
     },
     "metadata": {},
     "output_type": "display_data"
    },
    {
     "name": "stderr",
     "output_type": "stream",
     "text": [
      "Reusing dataset scielo_dataset (/home/galtay/.cache/huggingface/datasets/scielo_dataset/scielo_en_pt_bigbio_t2t/1.0.0/ee3c81633c3b223c9bab99bb498dafa8d4f00aeb78313a123bcdf597ce4269a8)\n"
     ]
    },
    {
     "data": {
      "application/vnd.jupyter.widget-view+json": {
       "model_id": "6f17bccb461646d3a69c32cc347eb2b0",
       "version_major": 2,
       "version_minor": 0
      },
      "text/plain": [
       "  0%|          | 0/1 [00:00<?, ?it/s]"
      ]
     },
     "metadata": {},
     "output_type": "display_data"
    },
    {
     "name": "stderr",
     "output_type": "stream",
     "text": [
      "Reusing dataset sci_fact (/home/galtay/.cache/huggingface/datasets/sci_fact/scifact_rationale_bigbio_te/1.0.0/32a72fe1020e258ce659a565479106d3fe85e80bce650f0b292bd32f6d692e8c)\n"
     ]
    },
    {
     "data": {
      "application/vnd.jupyter.widget-view+json": {
       "model_id": "dee16841afdf458b80f6c2a4986e4742",
       "version_major": 2,
       "version_minor": 0
      },
      "text/plain": [
       "  0%|          | 0/3 [00:00<?, ?it/s]"
      ]
     },
     "metadata": {},
     "output_type": "display_data"
    },
    {
     "name": "stderr",
     "output_type": "stream",
     "text": [
      "Reusing dataset sci_fact (/home/galtay/.cache/huggingface/datasets/sci_fact/scifact_labelprediction_bigbio_te/1.0.0/32a72fe1020e258ce659a565479106d3fe85e80bce650f0b292bd32f6d692e8c)\n"
     ]
    },
    {
     "data": {
      "application/vnd.jupyter.widget-view+json": {
       "model_id": "b177264eca6e4805aa6156a249605af5",
       "version_major": 2,
       "version_minor": 0
      },
      "text/plain": [
       "  0%|          | 0/3 [00:00<?, ?it/s]"
      ]
     },
     "metadata": {},
     "output_type": "display_data"
    },
    {
     "name": "stderr",
     "output_type": "stream",
     "text": [
      "Reusing dataset sci_q (/home/galtay/.cache/huggingface/datasets/sci_q/sciq_bigbio_qa/1.0.0/9842ca282ee6b4beb0130a8bf5b2fd45d42e0d691834ab9009a1f7c7e92a624c)\n"
     ]
    },
    {
     "data": {
      "application/vnd.jupyter.widget-view+json": {
       "model_id": "18c6196144e44efe875b7ff9af268025",
       "version_major": 2,
       "version_minor": 0
      },
      "text/plain": [
       "  0%|          | 0/3 [00:00<?, ?it/s]"
      ]
     },
     "metadata": {},
     "output_type": "display_data"
    },
    {
     "name": "stderr",
     "output_type": "stream",
     "text": [
      "Reusing dataset sci_tail_dataset (/home/galtay/.cache/huggingface/datasets/sci_tail_dataset/scitail_bigbio_te/1.0.0/ecf42397d8ebbc639750e1c62dbc6a945dc3111418e93b26174831ed786b2a42)\n"
     ]
    },
    {
     "data": {
      "application/vnd.jupyter.widget-view+json": {
       "model_id": "63c97513a7274af6b9e9744f44506bff",
       "version_major": 2,
       "version_minor": 0
      },
      "text/plain": [
       "  0%|          | 0/3 [00:00<?, ?it/s]"
      ]
     },
     "metadata": {},
     "output_type": "display_data"
    },
    {
     "name": "stderr",
     "output_type": "stream",
     "text": [
      "Reusing dataset seth_corpus_dataset (/home/galtay/.cache/huggingface/datasets/seth_corpus_dataset/seth_corpus_bigbio_kb/1.0.0/8408379b021d9337b98455928ed2fc0be00ff3a1a3127a788623674d002f1415)\n"
     ]
    },
    {
     "data": {
      "application/vnd.jupyter.widget-view+json": {
       "model_id": "d5ef8be58c854b218e9b90fc3da419db",
       "version_major": 2,
       "version_minor": 0
      },
      "text/plain": [
       "  0%|          | 0/1 [00:00<?, ?it/s]"
      ]
     },
     "metadata": {},
     "output_type": "display_data"
    },
    {
     "name": "stderr",
     "output_type": "stream",
     "text": [
      "Reusing dataset spl_adr200_db_dataset (/home/galtay/.cache/huggingface/datasets/spl_adr200_db_dataset/spl_adr_200db_train_bigbio_kb/1.0.0/4164d73dc5914f20d6b43071459bd5749c121f911a676af4313a8f50586019c1)\n"
     ]
    },
    {
     "data": {
      "application/vnd.jupyter.widget-view+json": {
       "model_id": "27e60d67c01c41a1a75985d45b2e5c51",
       "version_major": 2,
       "version_minor": 0
      },
      "text/plain": [
       "  0%|          | 0/1 [00:00<?, ?it/s]"
      ]
     },
     "metadata": {},
     "output_type": "display_data"
    },
    {
     "name": "stderr",
     "output_type": "stream",
     "text": [
      "Reusing dataset spl_adr200_db_dataset (/home/galtay/.cache/huggingface/datasets/spl_adr200_db_dataset/spl_adr_200db_unannotated_bigbio_kb/1.0.0/4164d73dc5914f20d6b43071459bd5749c121f911a676af4313a8f50586019c1)\n"
     ]
    },
    {
     "data": {
      "application/vnd.jupyter.widget-view+json": {
       "model_id": "c383217110364af0ae69802c8e967343",
       "version_major": 2,
       "version_minor": 0
      },
      "text/plain": [
       "  0%|          | 0/1 [00:00<?, ?it/s]"
      ]
     },
     "metadata": {},
     "output_type": "display_data"
    },
    {
     "name": "stderr",
     "output_type": "stream",
     "text": [
      "Reusing dataset swedish_medical_ner_dataset (/home/galtay/.cache/huggingface/datasets/swedish_medical_ner_dataset/swedish_medical_ner_wiki_bigbio_kb/1.0.0/168be35daa935974181f57f545421e14dd43de7d371e354f0a2bc27c1a498106)\n"
     ]
    },
    {
     "data": {
      "application/vnd.jupyter.widget-view+json": {
       "model_id": "b5d016aeafcf47fba15ddbcd57aee6c2",
       "version_major": 2,
       "version_minor": 0
      },
      "text/plain": [
       "  0%|          | 0/1 [00:00<?, ?it/s]"
      ]
     },
     "metadata": {},
     "output_type": "display_data"
    },
    {
     "name": "stderr",
     "output_type": "stream",
     "text": [
      "Reusing dataset swedish_medical_ner_dataset (/home/galtay/.cache/huggingface/datasets/swedish_medical_ner_dataset/swedish_medical_ner_lt_bigbio_kb/1.0.0/168be35daa935974181f57f545421e14dd43de7d371e354f0a2bc27c1a498106)\n"
     ]
    },
    {
     "data": {
      "application/vnd.jupyter.widget-view+json": {
       "model_id": "ad34722cc4e64de69f97138a1129c022",
       "version_major": 2,
       "version_minor": 0
      },
      "text/plain": [
       "  0%|          | 0/1 [00:00<?, ?it/s]"
      ]
     },
     "metadata": {},
     "output_type": "display_data"
    },
    {
     "name": "stderr",
     "output_type": "stream",
     "text": [
      "Reusing dataset swedish_medical_ner_dataset (/home/galtay/.cache/huggingface/datasets/swedish_medical_ner_dataset/swedish_medical_ner_1177_bigbio_kb/1.0.0/168be35daa935974181f57f545421e14dd43de7d371e354f0a2bc27c1a498106)\n"
     ]
    },
    {
     "data": {
      "application/vnd.jupyter.widget-view+json": {
       "model_id": "4eb041bf8f6b402c84173a1452dd89f9",
       "version_major": 2,
       "version_minor": 0
      },
      "text/plain": [
       "  0%|          | 0/1 [00:00<?, ?it/s]"
      ]
     },
     "metadata": {},
     "output_type": "display_data"
    },
    {
     "name": "stderr",
     "output_type": "stream",
     "text": [
      "Reusing dataset thomas2011_dataset (/home/galtay/.cache/huggingface/datasets/thomas2011_dataset/thomas2011_bigbio_kb/1.0.0/5e9c1ec6acf01c45154fa2b498e340f5742516b0265308ce89955fc05f331beb)\n"
     ]
    },
    {
     "data": {
      "application/vnd.jupyter.widget-view+json": {
       "model_id": "90aeeb0c23d3458cbf3268957a64ecf3",
       "version_major": 2,
       "version_minor": 0
      },
      "text/plain": [
       "  0%|          | 0/1 [00:00<?, ?it/s]"
      ]
     },
     "metadata": {},
     "output_type": "display_data"
    },
    {
     "name": "stderr",
     "output_type": "stream",
     "text": [
      "Reusing dataset tmvar_v1_dataset (/home/galtay/.cache/huggingface/datasets/tmvar_v1_dataset/tmvar_v1_bigbio_kb/1.0.0/860549c471eb256552ae9ded879cbf1079cde78a799a13b8af59e0d0d0cfff90)\n"
     ]
    },
    {
     "data": {
      "application/vnd.jupyter.widget-view+json": {
       "model_id": "1b65f22224a343778f0f3757af8a73b7",
       "version_major": 2,
       "version_minor": 0
      },
      "text/plain": [
       "  0%|          | 0/2 [00:00<?, ?it/s]"
      ]
     },
     "metadata": {},
     "output_type": "display_data"
    },
    {
     "name": "stderr",
     "output_type": "stream",
     "text": [
      "Reusing dataset tmvar_v2_dataset (/home/galtay/.cache/huggingface/datasets/tmvar_v2_dataset/tmvar_v2_bigbio_kb/1.0.0/9dc11c7a56cbef69cd37f9444821ee1e7a63fb041ae696d54872fa4e5f19e215)\n"
     ]
    },
    {
     "data": {
      "application/vnd.jupyter.widget-view+json": {
       "model_id": "4a4ef82e60b142f0ab59a63f89cf8df3",
       "version_major": 2,
       "version_minor": 0
      },
      "text/plain": [
       "  0%|          | 0/1 [00:00<?, ?it/s]"
      ]
     },
     "metadata": {},
     "output_type": "display_data"
    },
    {
     "name": "stderr",
     "output_type": "stream",
     "text": [
      "Reusing dataset tmvar_v3_dataset (/home/galtay/.cache/huggingface/datasets/tmvar_v3_dataset/tmvar_v3_bigbio_kb/1.0.0/0a53a482bab48f4c7f34298ee9fb39ccecf048bee3b0116b76df630b0f075532)\n"
     ]
    },
    {
     "data": {
      "application/vnd.jupyter.widget-view+json": {
       "model_id": "a2cb68cf77d7402783016c53ce20b3d2",
       "version_major": 2,
       "version_minor": 0
      },
      "text/plain": [
       "  0%|          | 0/1 [00:00<?, ?it/s]"
      ]
     },
     "metadata": {},
     "output_type": "display_data"
    },
    {
     "name": "stderr",
     "output_type": "stream",
     "text": [
      "Reusing dataset tw_adrl (/home/galtay/.cache/huggingface/datasets/tw_adrl/twadrl_bigbio_kb/1.0.0/50f1c12d9fcc52da1820d0083e6c1f32a47b8639b44f8b37abcde00740b16364)\n"
     ]
    },
    {
     "data": {
      "application/vnd.jupyter.widget-view+json": {
       "model_id": "76ae3f467ac04a1fa9bfb14026efa691",
       "version_major": 2,
       "version_minor": 0
      },
      "text/plain": [
       "  0%|          | 0/30 [00:00<?, ?it/s]"
      ]
     },
     "metadata": {},
     "output_type": "display_data"
    },
    {
     "name": "stderr",
     "output_type": "stream",
     "text": [
      "Reusing dataset umnsrs_dataset (/home/galtay/.cache/huggingface/datasets/umnsrs_dataset/umnsrs_similarity_mod_bigbio_pairs/1.0.0/8c7002a472ad988e442babd6c70bd30d98eede363282d56922ace6db655cbf3a)\n"
     ]
    },
    {
     "data": {
      "application/vnd.jupyter.widget-view+json": {
       "model_id": "8c242e3b8e9e4f9c96c3e40bfd1664d6",
       "version_major": 2,
       "version_minor": 0
      },
      "text/plain": [
       "  0%|          | 0/1 [00:00<?, ?it/s]"
      ]
     },
     "metadata": {},
     "output_type": "display_data"
    },
    {
     "name": "stderr",
     "output_type": "stream",
     "text": [
      "Reusing dataset umnsrs_dataset (/home/galtay/.cache/huggingface/datasets/umnsrs_dataset/umnsrs_similarity_bigbio_pairs/1.0.0/8c7002a472ad988e442babd6c70bd30d98eede363282d56922ace6db655cbf3a)\n"
     ]
    },
    {
     "data": {
      "application/vnd.jupyter.widget-view+json": {
       "model_id": "dcbb71a5f26e43a394b842f49184a777",
       "version_major": 2,
       "version_minor": 0
      },
      "text/plain": [
       "  0%|          | 0/1 [00:00<?, ?it/s]"
      ]
     },
     "metadata": {},
     "output_type": "display_data"
    },
    {
     "name": "stderr",
     "output_type": "stream",
     "text": [
      "Reusing dataset umnsrs_dataset (/home/galtay/.cache/huggingface/datasets/umnsrs_dataset/umnsrs_relatedness_mod_bigbio_pairs/1.0.0/8c7002a472ad988e442babd6c70bd30d98eede363282d56922ace6db655cbf3a)\n"
     ]
    },
    {
     "data": {
      "application/vnd.jupyter.widget-view+json": {
       "model_id": "bef77ef305034348b2c34a99d5ae2d93",
       "version_major": 2,
       "version_minor": 0
      },
      "text/plain": [
       "  0%|          | 0/1 [00:00<?, ?it/s]"
      ]
     },
     "metadata": {},
     "output_type": "display_data"
    },
    {
     "name": "stderr",
     "output_type": "stream",
     "text": [
      "Reusing dataset umnsrs_dataset (/home/galtay/.cache/huggingface/datasets/umnsrs_dataset/umnsrs_relatedness_bigbio_pairs/1.0.0/8c7002a472ad988e442babd6c70bd30d98eede363282d56922ace6db655cbf3a)\n"
     ]
    },
    {
     "data": {
      "application/vnd.jupyter.widget-view+json": {
       "model_id": "cf8839e884a045fdbc0e7ac122284060",
       "version_major": 2,
       "version_minor": 0
      },
      "text/plain": [
       "  0%|          | 0/1 [00:00<?, ?it/s]"
      ]
     },
     "metadata": {},
     "output_type": "display_data"
    },
    {
     "name": "stderr",
     "output_type": "stream",
     "text": [
      "Reusing dataset verspoor2013_dataset (/home/galtay/.cache/huggingface/datasets/verspoor2013_dataset/verspoor_2013_bigbio_kb/1.0.0/7494b1d9332951566d7e01281b0e7ced1634721918510ce9fb40795490119ee0)\n"
     ]
    },
    {
     "data": {
      "application/vnd.jupyter.widget-view+json": {
       "model_id": "0a10f6abc32948bd86cd8a73e1a815e8",
       "version_major": 2,
       "version_minor": 0
      },
      "text/plain": [
       "  0%|          | 0/1 [00:00<?, ?it/s]"
      ]
     },
     "metadata": {},
     "output_type": "display_data"
    }
   ],
   "source": [
    "# NOTE the first time you run this cell, the public datasets will be downloaded and cached.\n",
    "# Depending on your internet connection speed, this can take minutes or hours. \n",
    "\n",
    "bb_public_datasets = {\n",
    "    helper.config.name: helper.load_dataset()\n",
    "    for helper in bb_public_helpers\n",
    "    if helper.dataset_name != 'bioasq_2021_mesinesp' # intermintant failure of download from dataset host\n",
    "}"
   ]
  },
  {
   "cell_type": "markdown",
   "id": "b1a52519",
   "metadata": {},
   "source": [
    "# Dataset Metadata\n",
    "\n",
    "Each BigBioConfigHelper provides a get_metadata method that will calculate schema specific metadata for configs implementing a BigBIO schema. For example,"
   ]
  },
  {
   "cell_type": "code",
   "execution_count": 13,
   "id": "37ac86b5",
   "metadata": {},
   "outputs": [
    {
     "name": "stderr",
     "output_type": "stream",
     "text": [
      "Reusing dataset bc5cdr_dataset (/home/galtay/.cache/huggingface/datasets/bc5cdr_dataset/bc5cdr_bigbio_kb/1.0.0/f01f16ea9b65ead985bedadf7335195c32297c8f1b09417fc607b102a6757d6f)\n"
     ]
    },
    {
     "data": {
      "application/vnd.jupyter.widget-view+json": {
       "model_id": "26c6e09ef07743d09b0560f082431db8",
       "version_major": 2,
       "version_minor": 0
      },
      "text/plain": [
       "  0%|          | 0/3 [00:00<?, ?it/s]"
      ]
     },
     "metadata": {},
     "output_type": "display_data"
    },
    {
     "data": {
      "text/plain": [
       "{'train': BigBioKbMetadata(samples_count=500, passages_count=1000, passages_char_count=652177, passages_type_counter={'title': 500, 'abstract': 500}, entities_count=9570, entities_normalized_count=9599, entities_type_counter={'Chemical': 5207, 'Disease': 4363}, entities_db_name_counter={'MESH': 9599}, entities_unique_db_ids_count=1328, events_count=0, events_type_counter={}, events_arguments_count=0, events_arguments_role_counter={}, coreferences_count=0, relations_count=15072, relations_type_counter={'CID': 15072}, relations_db_name_counter={}, relations_unique_db_ids_count=0),\n",
       " 'test': BigBioKbMetadata(samples_count=500, passages_count=1000, passages_char_count=676751, passages_type_counter={'title': 500, 'abstract': 500}, entities_count=9928, entities_normalized_count=9919, entities_type_counter={'Chemical': 5394, 'Disease': 4534}, entities_db_name_counter={'MESH': 9919}, entities_unique_db_ids_count=1315, events_count=0, events_type_counter={}, events_arguments_count=0, events_arguments_role_counter={}, coreferences_count=0, relations_count=16250, relations_type_counter={'CID': 16250}, relations_db_name_counter={}, relations_unique_db_ids_count=0),\n",
       " 'validation': BigBioKbMetadata(samples_count=500, passages_count=1000, passages_char_count=646528, passages_type_counter={'title': 500, 'abstract': 500}, entities_count=9773, entities_normalized_count=9817, entities_type_counter={'Chemical': 5352, 'Disease': 4421}, entities_db_name_counter={'MESH': 9817}, entities_unique_db_ids_count=1264, events_count=0, events_type_counter={}, events_arguments_count=0, events_arguments_role_counter={}, coreferences_count=0, relations_count=16491, relations_type_counter={'CID': 16491}, relations_db_name_counter={}, relations_unique_db_ids_count=0)}"
      ]
     },
     "execution_count": 13,
     "metadata": {},
     "output_type": "execute_result"
    }
   ],
   "source": [
    "conhelps.for_config_name('bc5cdr_bigbio_kb').get_metadata()"
   ]
  },
  {
   "cell_type": "code",
   "execution_count": null,
   "id": "c7d84e4d",
   "metadata": {},
   "outputs": [],
   "source": []
  }
 ],
 "metadata": {
  "kernelspec": {
   "display_name": "Python 3 (ipykernel)",
   "language": "python",
   "name": "python3"
  },
  "language_info": {
   "codemirror_mode": {
    "name": "ipython",
    "version": 3
   },
   "file_extension": ".py",
   "mimetype": "text/x-python",
   "name": "python",
   "nbconvert_exporter": "python",
   "pygments_lexer": "ipython3",
   "version": "3.9.12"
  }
 },
 "nbformat": 4,
 "nbformat_minor": 5
}
