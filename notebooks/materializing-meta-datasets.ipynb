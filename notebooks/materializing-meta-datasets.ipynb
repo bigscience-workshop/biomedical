{
 "cells": [
  {
   "cell_type": "code",
   "execution_count": 1,
   "id": "5f6904e2",
   "metadata": {},
   "outputs": [],
   "source": [
    "from pprint import pprint\n",
    "from bigbio.dataloader import BigBioConfigHelpers\n",
    "from bigbio.utils.constants import Tasks"
   ]
  },
  {
   "cell_type": "markdown",
   "id": "be90c109",
   "metadata": {},
   "source": [
    "# BigBioConfigHelpers\n",
    "\n",
    "Start by creating an instance of BigBioConfigHelpers. This will help locate and filter datasets available in the BigBIO package. "
   ]
  },
  {
   "cell_type": "code",
   "execution_count": 2,
   "id": "d250c451",
   "metadata": {
    "scrolled": false
   },
   "outputs": [
    {
     "name": "stdout",
     "output_type": "stream",
     "text": [
      "found 453 dataset configs from 127 datasets\n"
     ]
    }
   ],
   "source": [
    "conhelps = BigBioConfigHelpers()\n",
    "print(\"found {} dataset configs from {} datasets\".format(\n",
    "    len(conhelps),\n",
    "    len(conhelps.available_dataset_names)\n",
    "))"
   ]
  },
  {
   "cell_type": "markdown",
   "id": "c51b1c5d",
   "metadata": {},
   "source": [
    "Each dataset has at least one source config and at least one bigbio config. Source configs attempt to preserve the original structure of the dataset while bigbio configs are normalized into one of several bigbio [task schemas](https://github.com/bigscience-workshop/biomedical/blob/master/task_schemas.md). Some datasets have several source configs and/or bigbio configs (e.g. multi-lingual datasets or datasets supporting multiple cross-validation folds). This is why the number of configs is greater than twice the number of datasets."
   ]
  },
  {
   "cell_type": "markdown",
   "id": "918fc969",
   "metadata": {},
   "source": [
    "### Examine One Helper\n",
    "\n",
    "conhelps is list-like and elements can be accesed with integer indices. Lets examine one."
   ]
  },
  {
   "cell_type": "code",
   "execution_count": 3,
   "id": "950deb8d",
   "metadata": {},
   "outputs": [
    {
     "name": "stdout",
     "output_type": "stream",
     "text": [
      "BigBioConfigHelper(script='/home/galtay/repos/biomedical/bigbio/biodatasets/an_em/an_em.py',\n",
      "                   dataset_name='an_em',\n",
      "                   tasks=[<Tasks.NAMED_ENTITY_RECOGNITION: 'NER'>,\n",
      "                          <Tasks.COREFERENCE_RESOLUTION: 'COREF'>,\n",
      "                          <Tasks.RELATION_EXTRACTION: 'RE'>],\n",
      "                   languages=[<Lang.EN: 'English'>],\n",
      "                   config=BigBioConfig(name='an_em_source',\n",
      "                                       version=1.0.4,\n",
      "                                       data_dir=None,\n",
      "                                       data_files=None,\n",
      "                                       description='AnEM source schema',\n",
      "                                       schema='source',\n",
      "                                       subset_id='an_em'),\n",
      "                   is_local=False,\n",
      "                   is_pubmed=True,\n",
      "                   is_bigbio_schema=False,\n",
      "                   bigbio_schema_caps=None,\n",
      "                   is_large=False,\n",
      "                   is_resource=False,\n",
      "                   is_default=True,\n",
      "                   is_broken=False,\n",
      "                   bigbio_version='1.0.0',\n",
      "                   source_version='1.0.4',\n",
      "                   citation='@inproceedings{ohta-etal-2012-open,\\n'\n",
      "                            '  author    = {Ohta, Tomoko and Pyysalo, Sampo '\n",
      "                            \"and Tsujii, Jun{'}ichi and Ananiadou, Sophia},\\n\"\n",
      "                            '  title     = {Open-domain Anatomical Entity '\n",
      "                            'Mention Detection},\\n'\n",
      "                            '  journal   = {},\\n'\n",
      "                            '  volume    = {W12-43},\\n'\n",
      "                            '  year      = {2012},\\n'\n",
      "                            '  url       = '\n",
      "                            '{https://aclanthology.org/W12-4304},\\n'\n",
      "                            '  doi       = {},\\n'\n",
      "                            '  biburl    = {},\\n'\n",
      "                            '  bibsource = {},\\n'\n",
      "                            '  publisher = {Association for Computational '\n",
      "                            'Linguistics}\\n'\n",
      "                            '}\\n',\n",
      "                   description='AnEM corpus is a domain- and '\n",
      "                               'species-independent resource manually '\n",
      "                               'annotated for anatomical\\n'\n",
      "                               'entity mentions using a fine-grained '\n",
      "                               'classification system. The corpus consists of '\n",
      "                               '500 documents\\n'\n",
      "                               '(over 90,000 words) selected randomly from '\n",
      "                               'citation abstracts and full-text papers with\\n'\n",
      "                               'the aim of making the corpus representative of '\n",
      "                               'the entire available biomedical scientific\\n'\n",
      "                               'literature. The corpus annotation covers '\n",
      "                               'mentions of both healthy and pathological '\n",
      "                               'anatomical\\n'\n",
      "                               'entities and contains over 3,000 annotated '\n",
      "                               'mentions.\\n',\n",
      "                   homepage='http://www.nactem.ac.uk/anatomy/',\n",
      "                   display_name='AnEM',\n",
      "                   license=License(name='Creative Commons Attribution Share '\n",
      "                                        'Alike 3.0 Unported',\n",
      "                                   short_name='CC_BY_SA_3p0',\n",
      "                                   text=None,\n",
      "                                   link=None,\n",
      "                                   version=None,\n",
      "                                   provenance=None))\n"
     ]
    }
   ],
   "source": [
    "pprint(conhelps[0])"
   ]
  },
  {
   "cell_type": "markdown",
   "id": "323b6e00",
   "metadata": {},
   "source": [
    "### Show All Available Datasets"
   ]
  },
  {
   "cell_type": "code",
   "execution_count": 4,
   "id": "f9eb7c61",
   "metadata": {},
   "outputs": [
    {
     "name": "stdout",
     "output_type": "stream",
     "text": [
      "['an_em', 'anat_em', 'ask_a_patient', 'bc5cdr', 'bc7_litcovid', 'bio_sim_verb', 'bio_simlex', 'bioasq_2021_mesinesp', 'bioasq_task_b', 'bioasq_task_c_2017', 'bioinfer', 'biology_how_why_corpus', 'biomrc', 'bionlp_shared_task_2009', 'bionlp_st_2011_epi', 'bionlp_st_2011_ge', 'bionlp_st_2011_id', 'bionlp_st_2011_rel', 'bionlp_st_2013_cg', 'bionlp_st_2013_ge', 'bionlp_st_2013_gro', 'bionlp_st_2013_pc', 'bionlp_st_2019_bb', 'biored', 'biorelex', 'bioscope', 'biosses', 'cadec', 'cantemist', 'cas', 'cellfinder', 'chebi_nactem', 'chemdner', 'chemprot', 'chia', 'citation_gia_test_collection', 'codiesp', 'cord_ner', 'ctebmsp', 'ddi_corpus', 'diann_iber_eval', 'distemist', 'ebm_pico', 'ehr_rel', 'essai', 'euadr', 'evidence_inference', 'gad', 'genetag', 'genia_ptm_event_corpus', 'genia_relation_corpus', 'genia_term_corpus', 'geokhoj_v1', 'gnormplus', 'hallmarks_of_cancer', 'hprd50', 'iepa', 'jnlpba', 'linnaeus', 'lll', 'mantra_gsc', 'mayosrs', 'med_qa', 'medal', 'meddialog', 'meddocan', 'medhop', 'medical_data', 'mediqa_nli', 'mediqa_qa', 'mediqa_rqe', 'medmentions', 'mednli', 'meqsum', 'minimayosrs', 'mirna', 'mlee', 'mqp', 'msh_wsd', 'muchmore', 'multi_xscience', 'mutation_finder', 'n2c2_2006_deid', 'n2c2_2006_smokers', 'n2c2_2008', 'n2c2_2009', 'n2c2_2010', 'n2c2_2011', 'n2c2_2014_deid', 'n2c2_2014_risk_factors', 'n2c2_2018_track1', 'n2c2_2018_track2', 'ncbi_disease', 'nlm_gene', 'nlm_wsd', 'nlmchem', 'ntcir_13_medweb', 'osiris', 'paramed', 'pdr', 'pharmaconer', 'pho_ner', 'pico_extraction', 'pmc_patients', 'progene', 'psytar', 'pubhealth', 'pubmed_qa', 'pubtator_central', 'quaero', 'scai_chemical', 'scai_disease', 'scicite', 'scielo', 'scifact', 'sciq', 'scitail', 'seth_corpus', 'spl_adr_200db', 'swedish_medical_ner', 'thomas2011', 'tmvar_v1', 'tmvar_v2', 'tmvar_v3', 'twadrl', 'umnsrs', 'verspoor_2013']\n"
     ]
    }
   ],
   "source": [
    "print(conhelps.available_dataset_names)"
   ]
  },
  {
   "cell_type": "markdown",
   "id": "4eb92025",
   "metadata": {},
   "source": [
    "### Show Helpers for Specific Dataset\n",
    "\n",
    "We can also get the helpers for a specific dataset using the dataset name. "
   ]
  },
  {
   "cell_type": "code",
   "execution_count": 5,
   "id": "ed60355b",
   "metadata": {
    "scrolled": false
   },
   "outputs": [
    {
     "name": "stdout",
     "output_type": "stream",
     "text": [
      "2\n",
      "BigBioConfig(name='bc5cdr_source',\n",
      "             version=1.5.16,\n",
      "             data_dir=None,\n",
      "             data_files=None,\n",
      "             description='BC5CDR source schema',\n",
      "             schema='source',\n",
      "             subset_id='bc5cdr')\n",
      "BigBioConfig(name='bc5cdr_bigbio_kb',\n",
      "             version=1.0.0,\n",
      "             data_dir=None,\n",
      "             data_files=None,\n",
      "             description='BC5CDR simplified BigBio schema',\n",
      "             schema='bigbio_kb',\n",
      "             subset_id='bc5cdr')\n"
     ]
    }
   ],
   "source": [
    "bc5cdr_helpers = conhelps.for_dataset(\"bc5cdr\")\n",
    "print(len(bc5cdr_helpers))\n",
    "pprint(bc5cdr_helpers[0].config)\n",
    "pprint(bc5cdr_helpers[1].config)"
   ]
  },
  {
   "cell_type": "markdown",
   "id": "e61c9a92",
   "metadata": {},
   "source": [
    "# Loading Datasets\n",
    "\n",
    "Each config helper provides a wrapper to the [load_dataset](https://huggingface.co/docs/datasets/v2.2.1/en/package_reference/loading_methods#datasets.load_dataset) function from Huggingface's [datasets](https://huggingface.co/docs/datasets/) package. This wrapper will automatically populate the first two arguments of load_dataset,\n",
    "\n",
    "* path: path to the dataloader script\n",
    "* name: name of the dataset configuration\n",
    "\n",
    "If you have a specific dataset and config in mind, you can,\n",
    "\n",
    "* fetch the helper from conhelps with the for_config_name method\n",
    "* load the dataset using the load_dataset wrapper"
   ]
  },
  {
   "cell_type": "code",
   "execution_count": 6,
   "id": "520925a3",
   "metadata": {},
   "outputs": [
    {
     "name": "stderr",
     "output_type": "stream",
     "text": [
      "Reusing dataset bc5cdr_dataset (/home/galtay/.cache/huggingface/datasets/bc5cdr_dataset/bc5cdr_source/1.5.16/f01f16ea9b65ead985bedadf7335195c32297c8f1b09417fc607b102a6757d6f)\n"
     ]
    },
    {
     "data": {
      "application/vnd.jupyter.widget-view+json": {
       "model_id": "22f6a2e8d7c44239a7803fe6a1e8bca5",
       "version_major": 2,
       "version_minor": 0
      },
      "text/plain": [
       "  0%|          | 0/3 [00:00<?, ?it/s]"
      ]
     },
     "metadata": {},
     "output_type": "display_data"
    },
    {
     "name": "stderr",
     "output_type": "stream",
     "text": [
      "Reusing dataset bc5cdr_dataset (/home/galtay/.cache/huggingface/datasets/bc5cdr_dataset/bc5cdr_bigbio_kb/1.0.0/f01f16ea9b65ead985bedadf7335195c32297c8f1b09417fc607b102a6757d6f)\n"
     ]
    },
    {
     "data": {
      "application/vnd.jupyter.widget-view+json": {
       "model_id": "91b8cee1deb2473db00c188ff802a040",
       "version_major": 2,
       "version_minor": 0
      },
      "text/plain": [
       "  0%|          | 0/3 [00:00<?, ?it/s]"
      ]
     },
     "metadata": {},
     "output_type": "display_data"
    }
   ],
   "source": [
    "bc5cdr_source = conhelps.for_config_name(\"bc5cdr_source\").load_dataset()\n",
    "bc5cdr_bigbio = conhelps.for_config_name(\"bc5cdr_bigbio_kb\").load_dataset()"
   ]
  },
  {
   "cell_type": "markdown",
   "id": "ca4e1b97",
   "metadata": {},
   "source": [
    "This wrapper function will pass through any other kwargs you may need to use. For example data_dir for datasets that are not public,"
   ]
  },
  {
   "cell_type": "code",
   "execution_count": 7,
   "id": "2824eb8c",
   "metadata": {},
   "outputs": [],
   "source": [
    "# note this will not work unless you have the n2c2 dataset locally\n",
    "\n",
    "#n2c2_2011_source = (\n",
    "#    conhelps.\n",
    "#    for_config_name(\"n2c2_2011_source\").\n",
    "#    load_dataset(data_dir=\"/path/to/n2c2_2011/data\")\n",
    "#)"
   ]
  },
  {
   "cell_type": "markdown",
   "id": "3445d0cb",
   "metadata": {},
   "source": [
    "# Filter and Load Multiple Datasets\n",
    "\n",
    "You can use any attribute of a BigBioConfigHelper to filter the collection. Here are some examples,"
   ]
  },
  {
   "cell_type": "markdown",
   "id": "4060da45",
   "metadata": {},
   "source": [
    "### BigBIO schema datasets that are public and not \"large\""
   ]
  },
  {
   "cell_type": "code",
   "execution_count": 8,
   "id": "60b7bfc5",
   "metadata": {},
   "outputs": [],
   "source": [
    "bb_public_helpers = conhelps.filtered(\n",
    "    lambda x:\n",
    "        x.is_bigbio_schema\n",
    "        and not x.is_local\n",
    "        and not x.is_large\n",
    ")"
   ]
  },
  {
   "cell_type": "markdown",
   "id": "547b2cc3",
   "metadata": {},
   "source": [
    "### Source schema for n2c2 datasets"
   ]
  },
  {
   "cell_type": "code",
   "execution_count": 9,
   "id": "82433fe7",
   "metadata": {},
   "outputs": [],
   "source": [
    "n2c2_source_helpers = conhelps.filtered(\n",
    "    lambda x:\n",
    "        x.dataset_name.startswith(\"n2c2\")\n",
    "        and not x.is_bigbio_schema\n",
    ")"
   ]
  },
  {
   "cell_type": "markdown",
   "id": "5eb036cb",
   "metadata": {},
   "source": [
    "### BigBIO schema datasets that are public and support textual entailment"
   ]
  },
  {
   "cell_type": "code",
   "execution_count": 10,
   "id": "837043e8",
   "metadata": {},
   "outputs": [],
   "source": [
    "entailment_helpers = conhelps.filtered(\n",
    "    lambda x:\n",
    "        x.is_bigbio_schema\n",
    "        and not x.is_local\n",
    "        and Tasks.TEXTUAL_ENTAILMENT in x.tasks\n",
    ")"
   ]
  },
  {
   "cell_type": "markdown",
   "id": "f1962f52",
   "metadata": {},
   "source": [
    "### Loading filtered datasets\n",
    "\n",
    "Note that the `filtered` method returns another instance of `BigBioConfigHelpers`. This means you can iterate over any of the helpers defined above and load all of the datasets. "
   ]
  },
  {
   "cell_type": "code",
   "execution_count": 11,
   "id": "84e9cf45",
   "metadata": {},
   "outputs": [
    {
     "name": "stderr",
     "output_type": "stream",
     "text": [
      "Reusing dataset an_em_dataset (/home/galtay/.cache/huggingface/datasets/an_em_dataset/an_em_bigbio_kb/1.0.0/7a60ad16ca5e51e4ccc8d8de0169364df987f7c94f307050e0ddab5473d4f13b)\n"
     ]
    },
    {
     "data": {
      "application/vnd.jupyter.widget-view+json": {
       "model_id": "28e76319933e4221b1f7c7af122e50dc",
       "version_major": 2,
       "version_minor": 0
      },
      "text/plain": [
       "  0%|          | 0/3 [00:00<?, ?it/s]"
      ]
     },
     "metadata": {},
     "output_type": "display_data"
    },
    {
     "name": "stderr",
     "output_type": "stream",
     "text": [
      "Reusing dataset anat_em_dataset (/home/galtay/.cache/huggingface/datasets/anat_em_dataset/anat_em_bigbio_kb/1.0.0/5fdfe355922d9812744a70efd7fe46a322f9dba70f3ed29464e0c1009e4d04a1)\n"
     ]
    },
    {
     "data": {
      "application/vnd.jupyter.widget-view+json": {
       "model_id": "df603553beef4298b9a6452edf1c5141",
       "version_major": 2,
       "version_minor": 0
      },
      "text/plain": [
       "  0%|          | 0/3 [00:00<?, ?it/s]"
      ]
     },
     "metadata": {},
     "output_type": "display_data"
    },
    {
     "name": "stderr",
     "output_type": "stream",
     "text": [
      "Reusing dataset ask_a_patient (/home/galtay/.cache/huggingface/datasets/ask_a_patient/ask_a_patient_bigbio_kb/1.0.0/b3a42779cd6f10ed9a7d30be59cf32b0046c9d6e259e93c72fefbfd4f9716ef4)\n"
     ]
    },
    {
     "data": {
      "application/vnd.jupyter.widget-view+json": {
       "model_id": "63df881c082645d19b1a1642c2d9790c",
       "version_major": 2,
       "version_minor": 0
      },
      "text/plain": [
       "  0%|          | 0/30 [00:00<?, ?it/s]"
      ]
     },
     "metadata": {},
     "output_type": "display_data"
    },
    {
     "name": "stderr",
     "output_type": "stream",
     "text": [
      "Reusing dataset bc5cdr_dataset (/home/galtay/.cache/huggingface/datasets/bc5cdr_dataset/bc5cdr_bigbio_kb/1.0.0/f01f16ea9b65ead985bedadf7335195c32297c8f1b09417fc607b102a6757d6f)\n"
     ]
    },
    {
     "data": {
      "application/vnd.jupyter.widget-view+json": {
       "model_id": "6bdf3f2c180346bb8ee3016ce36cd3ad",
       "version_major": 2,
       "version_minor": 0
      },
      "text/plain": [
       "  0%|          | 0/3 [00:00<?, ?it/s]"
      ]
     },
     "metadata": {},
     "output_type": "display_data"
    },
    {
     "name": "stderr",
     "output_type": "stream",
     "text": [
      "Reusing dataset bc7_lit_covid_dataset (/home/galtay/.cache/huggingface/datasets/bc7_lit_covid_dataset/bc7_litcovid_bigbio_text/1.0.0/96c21c98083595b15fd7ba063c4400026ccd75027316a6099df49598a2c5c557)\n"
     ]
    },
    {
     "data": {
      "application/vnd.jupyter.widget-view+json": {
       "model_id": "b3ba3910947f41d99c9313f1018a80f2",
       "version_major": 2,
       "version_minor": 0
      },
      "text/plain": [
       "  0%|          | 0/3 [00:00<?, ?it/s]"
      ]
     },
     "metadata": {},
     "output_type": "display_data"
    },
    {
     "name": "stderr",
     "output_type": "stream",
     "text": [
      "Reusing dataset bio_sim_verb (/home/galtay/.cache/huggingface/datasets/bio_sim_verb/bio_sim_verb_bigbio_pairs/1.0.0/602af796168079d1c6ebcbc5b8997f6ded65244319deed4432bd6347529e1f3a)\n"
     ]
    },
    {
     "data": {
      "application/vnd.jupyter.widget-view+json": {
       "model_id": "aac586d23fee4feebe3b9ab07f0716ca",
       "version_major": 2,
       "version_minor": 0
      },
      "text/plain": [
       "  0%|          | 0/1 [00:00<?, ?it/s]"
      ]
     },
     "metadata": {},
     "output_type": "display_data"
    },
    {
     "name": "stderr",
     "output_type": "stream",
     "text": [
      "Reusing dataset bio_simlex_dataset (/home/galtay/.cache/huggingface/datasets/bio_simlex_dataset/bio_simlex_bigbio_pairs/1.0.0/5568efc37fbd642518f04c5d871e14fe7781fa3edea8fb8da96f75ed1c36d85c)\n"
     ]
    },
    {
     "data": {
      "application/vnd.jupyter.widget-view+json": {
       "model_id": "e362b619aca54999857b7234e870b32f",
       "version_major": 2,
       "version_minor": 0
      },
      "text/plain": [
       "  0%|          | 0/1 [00:00<?, ?it/s]"
      ]
     },
     "metadata": {},
     "output_type": "display_data"
    },
    {
     "name": "stderr",
     "output_type": "stream",
     "text": [
      "Reusing dataset bioinfer_dataset (/home/galtay/.cache/huggingface/datasets/bioinfer_dataset/bioinfer_bigbio_kb/1.0.0/333a78767f28b6fdb78f7a4b87035e5f15641caeba7da6a2602ddb0a00d098eb)\n"
     ]
    },
    {
     "data": {
      "application/vnd.jupyter.widget-view+json": {
       "model_id": "e80f7c66deb24154b274551aae806500",
       "version_major": 2,
       "version_minor": 0
      },
      "text/plain": [
       "  0%|          | 0/2 [00:00<?, ?it/s]"
      ]
     },
     "metadata": {},
     "output_type": "display_data"
    },
    {
     "name": "stderr",
     "output_type": "stream",
     "text": [
      "Reusing dataset biology_how_why_corpus_dataset (/home/galtay/.cache/huggingface/datasets/biology_how_why_corpus_dataset/biology_how_why_corpus_bigbio_qa/1.0.0/69a76824cbc92fc33ed0b2946cb68c69b78575d17f71031bb2eb42ead8269e8d)\n"
     ]
    },
    {
     "data": {
      "application/vnd.jupyter.widget-view+json": {
       "model_id": "b4d80ae87d9849d2940897f5f5e96bb5",
       "version_major": 2,
       "version_minor": 0
      },
      "text/plain": [
       "  0%|          | 0/1 [00:00<?, ?it/s]"
      ]
     },
     "metadata": {},
     "output_type": "display_data"
    },
    {
     "name": "stderr",
     "output_type": "stream",
     "text": [
      "Reusing dataset biomrc_dataset (/home/galtay/.cache/huggingface/datasets/biomrc_dataset/biomrc_small_A_bigbio_qa/1.0.0/50019e3cc2ca2b443c65db67862fc9ce568f86da69f534487269cd62032c8334)\n"
     ]
    },
    {
     "data": {
      "application/vnd.jupyter.widget-view+json": {
       "model_id": "8b4697adff27413fa81af0c04a1f0cba",
       "version_major": 2,
       "version_minor": 0
      },
      "text/plain": [
       "  0%|          | 0/3 [00:00<?, ?it/s]"
      ]
     },
     "metadata": {},
     "output_type": "display_data"
    },
    {
     "name": "stderr",
     "output_type": "stream",
     "text": [
      "Reusing dataset biomrc_dataset (/home/galtay/.cache/huggingface/datasets/biomrc_dataset/biomrc_tiny_A_bigbio_qa/1.0.0/50019e3cc2ca2b443c65db67862fc9ce568f86da69f534487269cd62032c8334)\n"
     ]
    },
    {
     "data": {
      "application/vnd.jupyter.widget-view+json": {
       "model_id": "76d253a260204c1c976ebcbc25fe7846",
       "version_major": 2,
       "version_minor": 0
      },
      "text/plain": [
       "  0%|          | 0/1 [00:00<?, ?it/s]"
      ]
     },
     "metadata": {},
     "output_type": "display_data"
    },
    {
     "name": "stderr",
     "output_type": "stream",
     "text": [
      "Reusing dataset biomrc_dataset (/home/galtay/.cache/huggingface/datasets/biomrc_dataset/biomrc_small_B_bigbio_qa/1.0.0/50019e3cc2ca2b443c65db67862fc9ce568f86da69f534487269cd62032c8334)\n"
     ]
    },
    {
     "data": {
      "application/vnd.jupyter.widget-view+json": {
       "model_id": "e93c2425a5bb433bba576e7b278d1b76",
       "version_major": 2,
       "version_minor": 0
      },
      "text/plain": [
       "  0%|          | 0/3 [00:00<?, ?it/s]"
      ]
     },
     "metadata": {},
     "output_type": "display_data"
    },
    {
     "name": "stderr",
     "output_type": "stream",
     "text": [
      "Reusing dataset biomrc_dataset (/home/galtay/.cache/huggingface/datasets/biomrc_dataset/biomrc_tiny_B_bigbio_qa/1.0.0/50019e3cc2ca2b443c65db67862fc9ce568f86da69f534487269cd62032c8334)\n"
     ]
    },
    {
     "data": {
      "application/vnd.jupyter.widget-view+json": {
       "model_id": "47a0be924384489496ec0d001f6b794f",
       "version_major": 2,
       "version_minor": 0
      },
      "text/plain": [
       "  0%|          | 0/1 [00:00<?, ?it/s]"
      ]
     },
     "metadata": {},
     "output_type": "display_data"
    },
    {
     "name": "stderr",
     "output_type": "stream",
     "text": [
      "Reusing dataset bio_nlp_shared_task2009 (/home/galtay/.cache/huggingface/datasets/bio_nlp_shared_task2009/bionlp_shared_task_2009_bigbio_kb/1.0.0/49d4711f376f923398b34edeae28c47bbe018dc93d7b2162107944a7b5a87fb6)\n"
     ]
    },
    {
     "data": {
      "application/vnd.jupyter.widget-view+json": {
       "model_id": "4f253b12363c47e9a37fa6e4bd636767",
       "version_major": 2,
       "version_minor": 0
      },
      "text/plain": [
       "  0%|          | 0/3 [00:00<?, ?it/s]"
      ]
     },
     "metadata": {},
     "output_type": "display_data"
    },
    {
     "name": "stderr",
     "output_type": "stream",
     "text": [
      "Reusing dataset bionlp_st_2011_epi (/home/galtay/.cache/huggingface/datasets/bionlp_st_2011_epi/bionlp_st_2011_epi_bigbio_kb/1.0.0/068468f74ae36d0767a9390eb74dad0da9406be80da64064507ca802bef279ab)\n"
     ]
    },
    {
     "data": {
      "application/vnd.jupyter.widget-view+json": {
       "model_id": "cd7b67a4bda747bc9d56d300cde8213d",
       "version_major": 2,
       "version_minor": 0
      },
      "text/plain": [
       "  0%|          | 0/3 [00:00<?, ?it/s]"
      ]
     },
     "metadata": {},
     "output_type": "display_data"
    },
    {
     "name": "stderr",
     "output_type": "stream",
     "text": [
      "Reusing dataset bionlp_st_2011_ge (/home/galtay/.cache/huggingface/datasets/bionlp_st_2011_ge/bionlp_st_2011_ge_bigbio_kb/1.0.0/7b87d387e9f5526bf15744e17aed32a21d6f2817ca344d010e7f87e6b76a9101)\n"
     ]
    },
    {
     "data": {
      "application/vnd.jupyter.widget-view+json": {
       "model_id": "9408444e919048f68535318ea973f0f9",
       "version_major": 2,
       "version_minor": 0
      },
      "text/plain": [
       "  0%|          | 0/3 [00:00<?, ?it/s]"
      ]
     },
     "metadata": {},
     "output_type": "display_data"
    },
    {
     "name": "stderr",
     "output_type": "stream",
     "text": [
      "Reusing dataset bionlp_st_2011_id (/home/galtay/.cache/huggingface/datasets/bionlp_st_2011_id/bionlp_st_2011_id_bigbio_kb/1.0.0/134e4afb43363c8957ed14fe90a575ddb56f6dff0d2e52179a2a1227fa8f90f8)\n"
     ]
    },
    {
     "data": {
      "application/vnd.jupyter.widget-view+json": {
       "model_id": "90f0d796745843059ea2aa55a143ac12",
       "version_major": 2,
       "version_minor": 0
      },
      "text/plain": [
       "  0%|          | 0/3 [00:00<?, ?it/s]"
      ]
     },
     "metadata": {},
     "output_type": "display_data"
    },
    {
     "name": "stderr",
     "output_type": "stream",
     "text": [
      "Reusing dataset bionlp_st_2011_rel (/home/galtay/.cache/huggingface/datasets/bionlp_st_2011_rel/bionlp_st_2011_rel_bigbio_kb/1.0.0/d33ada70ddfc893084cf58c86b6bdd899d73dd0ad62b7520b6d09dd9a900b939)\n"
     ]
    },
    {
     "data": {
      "application/vnd.jupyter.widget-view+json": {
       "model_id": "876ebe8b13bb417fbc4d92eedd046ef1",
       "version_major": 2,
       "version_minor": 0
      },
      "text/plain": [
       "  0%|          | 0/3 [00:00<?, ?it/s]"
      ]
     },
     "metadata": {},
     "output_type": "display_data"
    },
    {
     "name": "stderr",
     "output_type": "stream",
     "text": [
      "Reusing dataset bionlp_st_2013_cg (/home/galtay/.cache/huggingface/datasets/bionlp_st_2013_cg/bionlp_st_2013_cg_bigbio_kb/1.0.0/27b65d5a82c6d5098b62be71d839a748db029255a4260a9de19d9d151c4c2544)\n"
     ]
    },
    {
     "data": {
      "application/vnd.jupyter.widget-view+json": {
       "model_id": "70e005efdda04963866290ff7053511e",
       "version_major": 2,
       "version_minor": 0
      },
      "text/plain": [
       "  0%|          | 0/3 [00:00<?, ?it/s]"
      ]
     },
     "metadata": {},
     "output_type": "display_data"
    },
    {
     "name": "stderr",
     "output_type": "stream",
     "text": [
      "Reusing dataset bionlp_st_2013_ge (/home/galtay/.cache/huggingface/datasets/bionlp_st_2013_ge/bionlp_st_2013_ge_bigbio_kb/1.0.0/84681c21e48d265b447737ba168f34a5fe7ca227a8fe5de250aec0e24236316d)\n"
     ]
    },
    {
     "data": {
      "application/vnd.jupyter.widget-view+json": {
       "model_id": "e2cf6d0837e54615af1ec37a9c49720d",
       "version_major": 2,
       "version_minor": 0
      },
      "text/plain": [
       "  0%|          | 0/3 [00:00<?, ?it/s]"
      ]
     },
     "metadata": {},
     "output_type": "display_data"
    },
    {
     "name": "stderr",
     "output_type": "stream",
     "text": [
      "Reusing dataset bionlp_st_2013_gro (/home/galtay/.cache/huggingface/datasets/bionlp_st_2013_gro/bionlp_st_2013_gro_bigbio_kb/1.0.0/adb60378934cfc5610bc57f7922f83f10de72b454ea0a21ebee65af51d069b30)\n"
     ]
    },
    {
     "data": {
      "application/vnd.jupyter.widget-view+json": {
       "model_id": "e10c314880154e638df86bd2e6bc30e6",
       "version_major": 2,
       "version_minor": 0
      },
      "text/plain": [
       "  0%|          | 0/3 [00:00<?, ?it/s]"
      ]
     },
     "metadata": {},
     "output_type": "display_data"
    },
    {
     "name": "stderr",
     "output_type": "stream",
     "text": [
      "Reusing dataset bionlp_st_2013_pc (/home/galtay/.cache/huggingface/datasets/bionlp_st_2013_pc/bionlp_st_2013_pc_bigbio_kb/1.0.0/c8ed69d8cad83c76f51171c918327b1d92a01f305ece1bee9fe8b7b1255cf803)\n"
     ]
    },
    {
     "data": {
      "application/vnd.jupyter.widget-view+json": {
       "model_id": "66f30e564dd2442aa7c8725225f46340",
       "version_major": 2,
       "version_minor": 0
      },
      "text/plain": [
       "  0%|          | 0/3 [00:00<?, ?it/s]"
      ]
     },
     "metadata": {},
     "output_type": "display_data"
    },
    {
     "name": "stderr",
     "output_type": "stream",
     "text": [
      "Reusing dataset bionlp_st_2019_bb (/home/galtay/.cache/huggingface/datasets/bionlp_st_2019_bb/bionlp_st_2019_bb_bigbio_kb/1.0.0/c8e8e9978d6d4c2aa476bfc58833d9133195f3e02f6716461c805d2223c7257c)\n"
     ]
    },
    {
     "data": {
      "application/vnd.jupyter.widget-view+json": {
       "model_id": "1ef2774edcb842da94522562cd178506",
       "version_major": 2,
       "version_minor": 0
      },
      "text/plain": [
       "  0%|          | 0/3 [00:00<?, ?it/s]"
      ]
     },
     "metadata": {},
     "output_type": "display_data"
    },
    {
     "name": "stderr",
     "output_type": "stream",
     "text": [
      "Reusing dataset biored_dataset (/home/galtay/.cache/huggingface/datasets/biored_dataset/biored_bigbio_kb/1.0.0/a591f9d3071b2ad87c7aa4ec6a12e03e98d44eedf450da79061997d9f85c29c1)\n"
     ]
    },
    {
     "data": {
      "application/vnd.jupyter.widget-view+json": {
       "model_id": "6b0f514280ae4cc0847011e5956da0d8",
       "version_major": 2,
       "version_minor": 0
      },
      "text/plain": [
       "  0%|          | 0/3 [00:00<?, ?it/s]"
      ]
     },
     "metadata": {},
     "output_type": "display_data"
    },
    {
     "name": "stderr",
     "output_type": "stream",
     "text": [
      "Reusing dataset bio_rel_ex_dataset (/home/galtay/.cache/huggingface/datasets/bio_rel_ex_dataset/biorelex_bigbio_kb/1.0.0/eb69ec962b1355047ec4ec079b38f159b99ce497294d337f408c507a10be9320)\n"
     ]
    },
    {
     "data": {
      "application/vnd.jupyter.widget-view+json": {
       "model_id": "7ae78c33ce694a9aa0ffeaf11fe61b54",
       "version_major": 2,
       "version_minor": 0
      },
      "text/plain": [
       "  0%|          | 0/2 [00:00<?, ?it/s]"
      ]
     },
     "metadata": {},
     "output_type": "display_data"
    },
    {
     "name": "stderr",
     "output_type": "stream",
     "text": [
      "Reusing dataset bioscope_dataset (/home/galtay/.cache/huggingface/datasets/bioscope_dataset/bioscope_bigbio_kb/1.0.0/fe0fbe3d3661dc97a5599e10bbff64f83a80cd04380d90d16bc5fda9e5f74aef)\n"
     ]
    },
    {
     "data": {
      "application/vnd.jupyter.widget-view+json": {
       "model_id": "deb6d6ec38cc4fa3914eb9d3bb50ef5e",
       "version_major": 2,
       "version_minor": 0
      },
      "text/plain": [
       "  0%|          | 0/1 [00:00<?, ?it/s]"
      ]
     },
     "metadata": {},
     "output_type": "display_data"
    },
    {
     "name": "stderr",
     "output_type": "stream",
     "text": [
      "Reusing dataset bioscope_dataset (/home/galtay/.cache/huggingface/datasets/bioscope_dataset/bioscope_abstracts_bigbio_kb/1.0.0/fe0fbe3d3661dc97a5599e10bbff64f83a80cd04380d90d16bc5fda9e5f74aef)\n"
     ]
    },
    {
     "data": {
      "application/vnd.jupyter.widget-view+json": {
       "model_id": "229e2236a81f4e2fa9dbe1474c72aafa",
       "version_major": 2,
       "version_minor": 0
      },
      "text/plain": [
       "  0%|          | 0/1 [00:00<?, ?it/s]"
      ]
     },
     "metadata": {},
     "output_type": "display_data"
    },
    {
     "name": "stderr",
     "output_type": "stream",
     "text": [
      "Reusing dataset bioscope_dataset (/home/galtay/.cache/huggingface/datasets/bioscope_dataset/bioscope_papers_bigbio_kb/1.0.0/fe0fbe3d3661dc97a5599e10bbff64f83a80cd04380d90d16bc5fda9e5f74aef)\n"
     ]
    },
    {
     "data": {
      "application/vnd.jupyter.widget-view+json": {
       "model_id": "163504d33f0f40e9892158a79e14f01f",
       "version_major": 2,
       "version_minor": 0
      },
      "text/plain": [
       "  0%|          | 0/1 [00:00<?, ?it/s]"
      ]
     },
     "metadata": {},
     "output_type": "display_data"
    },
    {
     "name": "stderr",
     "output_type": "stream",
     "text": [
      "Reusing dataset bioscope_dataset (/home/galtay/.cache/huggingface/datasets/bioscope_dataset/bioscope_medical_texts_bigbio_kb/1.0.0/fe0fbe3d3661dc97a5599e10bbff64f83a80cd04380d90d16bc5fda9e5f74aef)\n"
     ]
    },
    {
     "data": {
      "application/vnd.jupyter.widget-view+json": {
       "model_id": "a885725a546f414cb3368c6de82cee08",
       "version_major": 2,
       "version_minor": 0
      },
      "text/plain": [
       "  0%|          | 0/1 [00:00<?, ?it/s]"
      ]
     },
     "metadata": {},
     "output_type": "display_data"
    },
    {
     "name": "stderr",
     "output_type": "stream",
     "text": [
      "Reusing dataset biosses_dataset (/home/galtay/.cache/huggingface/datasets/biosses_dataset/biosses_bigbio_pairs/1.0.0/89e91fa4056118a4c1683b47698dfef1746396bb0f0dafb15f85453fdefbcc98)\n"
     ]
    },
    {
     "data": {
      "application/vnd.jupyter.widget-view+json": {
       "model_id": "76c8784c7eab48a091838a544c0fbab3",
       "version_major": 2,
       "version_minor": 0
      },
      "text/plain": [
       "  0%|          | 0/3 [00:00<?, ?it/s]"
      ]
     },
     "metadata": {},
     "output_type": "display_data"
    },
    {
     "name": "stderr",
     "output_type": "stream",
     "text": [
      "Reusing dataset cadec_dataset (/home/galtay/.cache/huggingface/datasets/cadec_dataset/cadec_bigbio_kb/1.0.0/e4a2b9f54ca80c14071a43f8cc4479e5b738fbe9c4f553bbc999dfcc8dcb0dd9)\n"
     ]
    },
    {
     "data": {
      "application/vnd.jupyter.widget-view+json": {
       "model_id": "25fbab5d63484c68bd8b0fe80ed08cec",
       "version_major": 2,
       "version_minor": 0
      },
      "text/plain": [
       "  0%|          | 0/1 [00:00<?, ?it/s]"
      ]
     },
     "metadata": {},
     "output_type": "display_data"
    },
    {
     "name": "stderr",
     "output_type": "stream",
     "text": [
      "Reusing dataset cantemist_dataset (/home/galtay/.cache/huggingface/datasets/cantemist_dataset/cantemist_bigbio_kb/1.0.0/7b8b18017e8a11c7113a7252b9c5bb6cf6cc669ae9c3509bc24fd4d02d469362)\n"
     ]
    },
    {
     "data": {
      "application/vnd.jupyter.widget-view+json": {
       "model_id": "5da9455c7e144ca7a5827db74ac3f4b7",
       "version_major": 2,
       "version_minor": 0
      },
      "text/plain": [
       "  0%|          | 0/3 [00:00<?, ?it/s]"
      ]
     },
     "metadata": {},
     "output_type": "display_data"
    },
    {
     "name": "stderr",
     "output_type": "stream",
     "text": [
      "Reusing dataset cantemist_dataset (/home/galtay/.cache/huggingface/datasets/cantemist_dataset/cantemist_bigbio_text/1.0.0/7b8b18017e8a11c7113a7252b9c5bb6cf6cc669ae9c3509bc24fd4d02d469362)\n"
     ]
    },
    {
     "data": {
      "application/vnd.jupyter.widget-view+json": {
       "model_id": "ecf66d4375cc4bf8b217376750cac88e",
       "version_major": 2,
       "version_minor": 0
      },
      "text/plain": [
       "  0%|          | 0/3 [00:00<?, ?it/s]"
      ]
     },
     "metadata": {},
     "output_type": "display_data"
    },
    {
     "name": "stderr",
     "output_type": "stream",
     "text": [
      "Reusing dataset cell_finder_dataset (/home/galtay/.cache/huggingface/datasets/cell_finder_dataset/cellfinder_bigbio_kb/1.0.0/6e13003de485ac8fca3ff82f8dab2b2d01615ab47d3cb1d15ac3da1ceea6c0c4)\n"
     ]
    },
    {
     "data": {
      "application/vnd.jupyter.widget-view+json": {
       "model_id": "a8c18e82e7e04d12ac12a5a713779bfe",
       "version_major": 2,
       "version_minor": 0
      },
      "text/plain": [
       "  0%|          | 0/2 [00:00<?, ?it/s]"
      ]
     },
     "metadata": {},
     "output_type": "display_data"
    },
    {
     "name": "stderr",
     "output_type": "stream",
     "text": [
      "Reusing dataset cell_finder_dataset (/home/galtay/.cache/huggingface/datasets/cell_finder_dataset/cellfinder_splits_bigbio_kb/1.0.0/6e13003de485ac8fca3ff82f8dab2b2d01615ab47d3cb1d15ac3da1ceea6c0c4)\n"
     ]
    },
    {
     "data": {
      "application/vnd.jupyter.widget-view+json": {
       "model_id": "e16abd02030548258a61cbb09e833865",
       "version_major": 2,
       "version_minor": 0
      },
      "text/plain": [
       "  0%|          | 0/2 [00:00<?, ?it/s]"
      ]
     },
     "metadata": {},
     "output_type": "display_data"
    },
    {
     "name": "stderr",
     "output_type": "stream",
     "text": [
      "Reusing dataset chebi_nactem_datasset (/home/galtay/.cache/huggingface/datasets/chebi_nactem_datasset/chebi_nactem_abstr_ann1_bigbio_kb/1.0.0/12a07a3b91cb99c2e43666adb248d3acb9330d9ce3e907ade974b6e5b8ffe7df)\n"
     ]
    },
    {
     "data": {
      "application/vnd.jupyter.widget-view+json": {
       "model_id": "ab17705be3bb4e57ac8439fbc6b8c1aa",
       "version_major": 2,
       "version_minor": 0
      },
      "text/plain": [
       "  0%|          | 0/1 [00:00<?, ?it/s]"
      ]
     },
     "metadata": {},
     "output_type": "display_data"
    },
    {
     "name": "stderr",
     "output_type": "stream",
     "text": [
      "Reusing dataset chebi_nactem_datasset (/home/galtay/.cache/huggingface/datasets/chebi_nactem_datasset/chebi_nactem_abstr_ann2_bigbio_kb/1.0.0/12a07a3b91cb99c2e43666adb248d3acb9330d9ce3e907ade974b6e5b8ffe7df)\n"
     ]
    },
    {
     "data": {
      "application/vnd.jupyter.widget-view+json": {
       "model_id": "0d3ce99865a043a390e7609a28887205",
       "version_major": 2,
       "version_minor": 0
      },
      "text/plain": [
       "  0%|          | 0/1 [00:00<?, ?it/s]"
      ]
     },
     "metadata": {},
     "output_type": "display_data"
    },
    {
     "name": "stderr",
     "output_type": "stream",
     "text": [
      "Reusing dataset chebi_nactem_datasset (/home/galtay/.cache/huggingface/datasets/chebi_nactem_datasset/chebi_nactem_fullpaper_bigbio_kb/1.0.0/12a07a3b91cb99c2e43666adb248d3acb9330d9ce3e907ade974b6e5b8ffe7df)\n"
     ]
    },
    {
     "data": {
      "application/vnd.jupyter.widget-view+json": {
       "model_id": "bf2ba0e8f54b443f863cbbb0bb8a6195",
       "version_major": 2,
       "version_minor": 0
      },
      "text/plain": [
       "  0%|          | 0/1 [00:00<?, ?it/s]"
      ]
     },
     "metadata": {},
     "output_type": "display_data"
    },
    {
     "name": "stderr",
     "output_type": "stream",
     "text": [
      "Reusing dataset chemdner_dataset (/home/galtay/.cache/huggingface/datasets/chemdner_dataset/chemdner_bigbio_kb/1.0.0/f55818d2067367e05317b993e50675a4a9dedd1c8d8f5d49e33177f569afebd1)\n"
     ]
    },
    {
     "data": {
      "application/vnd.jupyter.widget-view+json": {
       "model_id": "4085a9deac2b4c289522deaedb47b76f",
       "version_major": 2,
       "version_minor": 0
      },
      "text/plain": [
       "  0%|          | 0/3 [00:00<?, ?it/s]"
      ]
     },
     "metadata": {},
     "output_type": "display_data"
    },
    {
     "name": "stderr",
     "output_type": "stream",
     "text": [
      "Reusing dataset chemdner_dataset (/home/galtay/.cache/huggingface/datasets/chemdner_dataset/chemdner_bigbio_text/1.0.0/f55818d2067367e05317b993e50675a4a9dedd1c8d8f5d49e33177f569afebd1)\n"
     ]
    },
    {
     "data": {
      "application/vnd.jupyter.widget-view+json": {
       "model_id": "0b00e6b1b7e14f1eb97e0d64b856b41d",
       "version_major": 2,
       "version_minor": 0
      },
      "text/plain": [
       "  0%|          | 0/3 [00:00<?, ?it/s]"
      ]
     },
     "metadata": {},
     "output_type": "display_data"
    },
    {
     "name": "stderr",
     "output_type": "stream",
     "text": [
      "Reusing dataset chemprot_dataset (/home/galtay/.cache/huggingface/datasets/chemprot_dataset/chemprot_bigbio_kb/1.0.0/d621093ca60927acf7784c181b4a4f1067f655c83ac18af82cd1723d99c4df2a)\n"
     ]
    },
    {
     "data": {
      "application/vnd.jupyter.widget-view+json": {
       "model_id": "c182b68c85b44b6ab631aef603fd232e",
       "version_major": 2,
       "version_minor": 0
      },
      "text/plain": [
       "  0%|          | 0/4 [00:00<?, ?it/s]"
      ]
     },
     "metadata": {},
     "output_type": "display_data"
    },
    {
     "name": "stderr",
     "output_type": "stream",
     "text": [
      "Reusing dataset chia_dataset (/home/galtay/.cache/huggingface/datasets/chia_dataset/chia_bigbio_kb/1.0.0/cad9b1810e0d3b47812b1b6ce3a087254e0728f061b04f51e8ab7b6b1ffce813)\n"
     ]
    },
    {
     "data": {
      "application/vnd.jupyter.widget-view+json": {
       "model_id": "28c04d31715d4a29a3426e05e2b28db7",
       "version_major": 2,
       "version_minor": 0
      },
      "text/plain": [
       "  0%|          | 0/1 [00:00<?, ?it/s]"
      ]
     },
     "metadata": {},
     "output_type": "display_data"
    },
    {
     "name": "stderr",
     "output_type": "stream",
     "text": [
      "Reusing dataset citation_gia_test_collection (/home/galtay/.cache/huggingface/datasets/citation_gia_test_collection/citation_gia_test_collection_bigbio_kb/1.0.0/d873bd3cd5030334b3bfe603fe9333f592b486277bceb13c5385a8b318e3e06c)\n"
     ]
    },
    {
     "data": {
      "application/vnd.jupyter.widget-view+json": {
       "model_id": "551f8f9ccf774011a456075162f6fbac",
       "version_major": 2,
       "version_minor": 0
      },
      "text/plain": [
       "  0%|          | 0/1 [00:00<?, ?it/s]"
      ]
     },
     "metadata": {},
     "output_type": "display_data"
    },
    {
     "name": "stderr",
     "output_type": "stream",
     "text": [
      "Reusing dataset codiesp_dataset (/home/galtay/.cache/huggingface/datasets/codiesp_dataset/codiesp_D_bigbio_text/1.0.0/1c3821f6ed08e10dc0260d174d27b7fcd54192c17e855cfdc3dedfa16aa8007e)\n"
     ]
    },
    {
     "data": {
      "application/vnd.jupyter.widget-view+json": {
       "model_id": "c0c5c90a228c4a329779cb449d30774b",
       "version_major": 2,
       "version_minor": 0
      },
      "text/plain": [
       "  0%|          | 0/3 [00:00<?, ?it/s]"
      ]
     },
     "metadata": {},
     "output_type": "display_data"
    },
    {
     "name": "stderr",
     "output_type": "stream",
     "text": [
      "Reusing dataset codiesp_dataset (/home/galtay/.cache/huggingface/datasets/codiesp_dataset/codiesp_P_bigbio_text/1.0.0/1c3821f6ed08e10dc0260d174d27b7fcd54192c17e855cfdc3dedfa16aa8007e)\n"
     ]
    },
    {
     "data": {
      "application/vnd.jupyter.widget-view+json": {
       "model_id": "262cbf5f71be4f0f845c707479f46bbc",
       "version_major": 2,
       "version_minor": 0
      },
      "text/plain": [
       "  0%|          | 0/3 [00:00<?, ?it/s]"
      ]
     },
     "metadata": {},
     "output_type": "display_data"
    },
    {
     "name": "stderr",
     "output_type": "stream",
     "text": [
      "Reusing dataset codiesp_dataset (/home/galtay/.cache/huggingface/datasets/codiesp_dataset/codiesp_X_bigbio_kb/1.0.0/1c3821f6ed08e10dc0260d174d27b7fcd54192c17e855cfdc3dedfa16aa8007e)\n"
     ]
    },
    {
     "data": {
      "application/vnd.jupyter.widget-view+json": {
       "model_id": "65fd588a4e26471796c7a7dce7329379",
       "version_major": 2,
       "version_minor": 0
      },
      "text/plain": [
       "  0%|          | 0/3 [00:00<?, ?it/s]"
      ]
     },
     "metadata": {},
     "output_type": "display_data"
    },
    {
     "name": "stderr",
     "output_type": "stream",
     "text": [
      "Reusing dataset codiesp_dataset (/home/galtay/.cache/huggingface/datasets/codiesp_dataset/codiesp_extra_mesh_bigbio_text/1.0.0/1c3821f6ed08e10dc0260d174d27b7fcd54192c17e855cfdc3dedfa16aa8007e)\n"
     ]
    },
    {
     "data": {
      "application/vnd.jupyter.widget-view+json": {
       "model_id": "5dfda39600f54183b5c308f29de5f835",
       "version_major": 2,
       "version_minor": 0
      },
      "text/plain": [
       "  0%|          | 0/1 [00:00<?, ?it/s]"
      ]
     },
     "metadata": {},
     "output_type": "display_data"
    },
    {
     "name": "stderr",
     "output_type": "stream",
     "text": [
      "Reusing dataset codiesp_dataset (/home/galtay/.cache/huggingface/datasets/codiesp_dataset/codiesp_extra_cie_bigbio_text/1.0.0/1c3821f6ed08e10dc0260d174d27b7fcd54192c17e855cfdc3dedfa16aa8007e)\n"
     ]
    },
    {
     "data": {
      "application/vnd.jupyter.widget-view+json": {
       "model_id": "4838b2f6b98b449393710457ce0c35f1",
       "version_major": 2,
       "version_minor": 0
      },
      "text/plain": [
       "  0%|          | 0/1 [00:00<?, ?it/s]"
      ]
     },
     "metadata": {},
     "output_type": "display_data"
    },
    {
     "name": "stderr",
     "output_type": "stream",
     "text": [
      "Reusing dataset cord_ner_dataset (/home/galtay/.cache/huggingface/datasets/cord_ner_dataset/cord_ner_bigbio_kb/1.0.0/f98a368b63f7f0c6c3ec0fab310162c1a022b7771967e8238d39fb87706f9d60)\n"
     ]
    },
    {
     "data": {
      "application/vnd.jupyter.widget-view+json": {
       "model_id": "5fd96d715c5248afb751d9c8d9c259e2",
       "version_major": 2,
       "version_minor": 0
      },
      "text/plain": [
       "  0%|          | 0/1 [00:00<?, ?it/s]"
      ]
     },
     "metadata": {},
     "output_type": "display_data"
    },
    {
     "name": "stderr",
     "output_type": "stream",
     "text": [
      "Reusing dataset ctebm_sp_dataset (/home/galtay/.cache/huggingface/datasets/ctebm_sp_dataset/ctebmsp_abstracts_bigbio_kb/1.0.0/82370182768ade343e04528716eca142a847754d645c683a727f9445aac75bf4)\n"
     ]
    },
    {
     "data": {
      "application/vnd.jupyter.widget-view+json": {
       "model_id": "218153ed92604fc58952d68e18babb97",
       "version_major": 2,
       "version_minor": 0
      },
      "text/plain": [
       "  0%|          | 0/3 [00:00<?, ?it/s]"
      ]
     },
     "metadata": {},
     "output_type": "display_data"
    },
    {
     "name": "stderr",
     "output_type": "stream",
     "text": [
      "Reusing dataset ctebm_sp_dataset (/home/galtay/.cache/huggingface/datasets/ctebm_sp_dataset/ctebmsp_eudract_bigbio_kb/1.0.0/82370182768ade343e04528716eca142a847754d645c683a727f9445aac75bf4)\n"
     ]
    },
    {
     "data": {
      "application/vnd.jupyter.widget-view+json": {
       "model_id": "6dafdc8a600b45df85f1d9a36df8e1d8",
       "version_major": 2,
       "version_minor": 0
      },
      "text/plain": [
       "  0%|          | 0/3 [00:00<?, ?it/s]"
      ]
     },
     "metadata": {},
     "output_type": "display_data"
    },
    {
     "name": "stderr",
     "output_type": "stream",
     "text": [
      "Reusing dataset ddi_corpus_dataset (/home/galtay/.cache/huggingface/datasets/ddi_corpus_dataset/ddi_corpus_bigbio_kb/1.0.0/ce2fe8ef8befc09a8e90da92d4abf2c8607ea036ebc06d7f1954a1b34106d151)\n"
     ]
    },
    {
     "data": {
      "application/vnd.jupyter.widget-view+json": {
       "model_id": "5938f495b0e24bcd9b2336a1255dfd45",
       "version_major": 2,
       "version_minor": 0
      },
      "text/plain": [
       "  0%|          | 0/2 [00:00<?, ?it/s]"
      ]
     },
     "metadata": {},
     "output_type": "display_data"
    },
    {
     "name": "stderr",
     "output_type": "stream",
     "text": [
      "Reusing dataset diann_iber_eval_dataset (/home/galtay/.cache/huggingface/datasets/diann_iber_eval_dataset/diann_iber_eval_bigbio_kb/1.0.0/070bbaba168cb76f41952674aa9e94557c22cbbe7e514d7d692fbff2de297e04)\n"
     ]
    },
    {
     "data": {
      "application/vnd.jupyter.widget-view+json": {
       "model_id": "8cad9935585b47fd8221b1f76ff50f54",
       "version_major": 2,
       "version_minor": 0
      },
      "text/plain": [
       "  0%|          | 0/2 [00:00<?, ?it/s]"
      ]
     },
     "metadata": {},
     "output_type": "display_data"
    },
    {
     "name": "stderr",
     "output_type": "stream",
     "text": [
      "Reusing dataset diann_iber_eval_dataset (/home/galtay/.cache/huggingface/datasets/diann_iber_eval_dataset/diann_iber_eval_en_bigbio_kb/1.0.0/070bbaba168cb76f41952674aa9e94557c22cbbe7e514d7d692fbff2de297e04)\n"
     ]
    },
    {
     "data": {
      "application/vnd.jupyter.widget-view+json": {
       "model_id": "5c2abed24aaf484d982be8c546d3be4e",
       "version_major": 2,
       "version_minor": 0
      },
      "text/plain": [
       "  0%|          | 0/2 [00:00<?, ?it/s]"
      ]
     },
     "metadata": {},
     "output_type": "display_data"
    },
    {
     "name": "stderr",
     "output_type": "stream",
     "text": [
      "Reusing dataset diann_iber_eval_dataset (/home/galtay/.cache/huggingface/datasets/diann_iber_eval_dataset/diann_iber_eval_es_bigbio_kb/1.0.0/070bbaba168cb76f41952674aa9e94557c22cbbe7e514d7d692fbff2de297e04)\n"
     ]
    },
    {
     "data": {
      "application/vnd.jupyter.widget-view+json": {
       "model_id": "2abe8b69c15f4d48915a9d3c4dc89765",
       "version_major": 2,
       "version_minor": 0
      },
      "text/plain": [
       "  0%|          | 0/2 [00:00<?, ?it/s]"
      ]
     },
     "metadata": {},
     "output_type": "display_data"
    },
    {
     "name": "stderr",
     "output_type": "stream",
     "text": [
      "Reusing dataset diann_iber_eval_dataset (/home/galtay/.cache/huggingface/datasets/diann_iber_eval_dataset/diann_iber_eval_bigbio_t2t/1.0.0/070bbaba168cb76f41952674aa9e94557c22cbbe7e514d7d692fbff2de297e04)\n"
     ]
    },
    {
     "data": {
      "application/vnd.jupyter.widget-view+json": {
       "model_id": "885463facbd74264a125db8047d5434f",
       "version_major": 2,
       "version_minor": 0
      },
      "text/plain": [
       "  0%|          | 0/2 [00:00<?, ?it/s]"
      ]
     },
     "metadata": {},
     "output_type": "display_data"
    },
    {
     "name": "stderr",
     "output_type": "stream",
     "text": [
      "Reusing dataset distemist_dataset (/home/galtay/.cache/huggingface/datasets/distemist_dataset/distemist_bigbio_kb/1.0.0/55f95e5183ef1f29f4078bc60cddab039991dc38e8af6dd66c0f4a76a68aba97)\n"
     ]
    },
    {
     "data": {
      "application/vnd.jupyter.widget-view+json": {
       "model_id": "5c4d155782ca4533abef54487fc92bed",
       "version_major": 2,
       "version_minor": 0
      },
      "text/plain": [
       "  0%|          | 0/1 [00:00<?, ?it/s]"
      ]
     },
     "metadata": {},
     "output_type": "display_data"
    },
    {
     "name": "stderr",
     "output_type": "stream",
     "text": [
      "Reusing dataset ebm_pico (/home/galtay/.cache/huggingface/datasets/ebm_pico/ebm_pico_bigbio_kb/1.0.0/224085a540def3600016d03f4f475c35e77bd5987be262503052e7728771ee9a)\n"
     ]
    },
    {
     "data": {
      "application/vnd.jupyter.widget-view+json": {
       "model_id": "49bc462faccc4b1db43e50d9bf899164",
       "version_major": 2,
       "version_minor": 0
      },
      "text/plain": [
       "  0%|          | 0/2 [00:00<?, ?it/s]"
      ]
     },
     "metadata": {},
     "output_type": "display_data"
    },
    {
     "name": "stderr",
     "output_type": "stream",
     "text": [
      "Reusing dataset ehr_rel_dataset (/home/galtay/.cache/huggingface/datasets/ehr_rel_dataset/ehr_rel_bigbio_pairs/1.0.0/3786552d5033645f58d695a6238e3fbaf2fe235b5de663b5ab1fb3a89a82f409)\n"
     ]
    },
    {
     "data": {
      "application/vnd.jupyter.widget-view+json": {
       "model_id": "5270d08c25264d7aa0c87cb3df924fb6",
       "version_major": 2,
       "version_minor": 0
      },
      "text/plain": [
       "  0%|          | 0/1 [00:00<?, ?it/s]"
      ]
     },
     "metadata": {},
     "output_type": "display_data"
    },
    {
     "name": "stderr",
     "output_type": "stream",
     "text": [
      "Reusing dataset euadr (/home/galtay/.cache/huggingface/datasets/euadr/euadr_bigbio_kb/1.0.0/a03e12e240d0884b555f721c5f88e554c06dfd5b74d12c569fa7c96586c721c6)\n"
     ]
    },
    {
     "data": {
      "application/vnd.jupyter.widget-view+json": {
       "model_id": "c4cef59b5bbc47c08781b60adc474115",
       "version_major": 2,
       "version_minor": 0
      },
      "text/plain": [
       "  0%|          | 0/1 [00:00<?, ?it/s]"
      ]
     },
     "metadata": {},
     "output_type": "display_data"
    },
    {
     "name": "stderr",
     "output_type": "stream",
     "text": [
      "Reusing dataset evidence_inference_dataset (/home/galtay/.cache/huggingface/datasets/evidence_inference_dataset/evidence-inference_bigbio_te/1.0.0/a22bca7bd8fcdd9236ef714f266bf2316e1c0fad8f4648eb52305adc3726cf95)\n"
     ]
    },
    {
     "data": {
      "application/vnd.jupyter.widget-view+json": {
       "model_id": "f624f247944141a6b5fd2c3323545977",
       "version_major": 2,
       "version_minor": 0
      },
      "text/plain": [
       "  0%|          | 0/3 [00:00<?, ?it/s]"
      ]
     },
     "metadata": {},
     "output_type": "display_data"
    },
    {
     "name": "stderr",
     "output_type": "stream",
     "text": [
      "Reusing dataset gad (/home/galtay/.cache/huggingface/datasets/gad/gad_fold0_bigbio_text/1.0.0/60f2fe4eb74428a8ae13f757ea2931f42afa7ecf18f2393109e2e052efa5500c)\n"
     ]
    },
    {
     "data": {
      "application/vnd.jupyter.widget-view+json": {
       "model_id": "7a1cd7e708e847419333c3f99e6e9d60",
       "version_major": 2,
       "version_minor": 0
      },
      "text/plain": [
       "  0%|          | 0/2 [00:00<?, ?it/s]"
      ]
     },
     "metadata": {},
     "output_type": "display_data"
    },
    {
     "name": "stderr",
     "output_type": "stream",
     "text": [
      "Reusing dataset gad (/home/galtay/.cache/huggingface/datasets/gad/gad_fold1_bigbio_text/1.0.0/60f2fe4eb74428a8ae13f757ea2931f42afa7ecf18f2393109e2e052efa5500c)\n"
     ]
    },
    {
     "data": {
      "application/vnd.jupyter.widget-view+json": {
       "model_id": "e5562e9afcb942389d33061a361824bd",
       "version_major": 2,
       "version_minor": 0
      },
      "text/plain": [
       "  0%|          | 0/2 [00:00<?, ?it/s]"
      ]
     },
     "metadata": {},
     "output_type": "display_data"
    },
    {
     "name": "stderr",
     "output_type": "stream",
     "text": [
      "Reusing dataset gad (/home/galtay/.cache/huggingface/datasets/gad/gad_fold2_bigbio_text/1.0.0/60f2fe4eb74428a8ae13f757ea2931f42afa7ecf18f2393109e2e052efa5500c)\n"
     ]
    },
    {
     "data": {
      "application/vnd.jupyter.widget-view+json": {
       "model_id": "e0a3b007ca134fa6a1db743fe5785b09",
       "version_major": 2,
       "version_minor": 0
      },
      "text/plain": [
       "  0%|          | 0/2 [00:00<?, ?it/s]"
      ]
     },
     "metadata": {},
     "output_type": "display_data"
    },
    {
     "name": "stderr",
     "output_type": "stream",
     "text": [
      "Reusing dataset gad (/home/galtay/.cache/huggingface/datasets/gad/gad_fold3_bigbio_text/1.0.0/60f2fe4eb74428a8ae13f757ea2931f42afa7ecf18f2393109e2e052efa5500c)\n"
     ]
    },
    {
     "data": {
      "application/vnd.jupyter.widget-view+json": {
       "model_id": "2453fbaa50b94df291c0018824d3cacd",
       "version_major": 2,
       "version_minor": 0
      },
      "text/plain": [
       "  0%|          | 0/2 [00:00<?, ?it/s]"
      ]
     },
     "metadata": {},
     "output_type": "display_data"
    },
    {
     "name": "stderr",
     "output_type": "stream",
     "text": [
      "Reusing dataset gad (/home/galtay/.cache/huggingface/datasets/gad/gad_fold4_bigbio_text/1.0.0/60f2fe4eb74428a8ae13f757ea2931f42afa7ecf18f2393109e2e052efa5500c)\n"
     ]
    },
    {
     "data": {
      "application/vnd.jupyter.widget-view+json": {
       "model_id": "4b59b1d1ff9040e7ab2ed992f7c0aa27",
       "version_major": 2,
       "version_minor": 0
      },
      "text/plain": [
       "  0%|          | 0/2 [00:00<?, ?it/s]"
      ]
     },
     "metadata": {},
     "output_type": "display_data"
    },
    {
     "name": "stderr",
     "output_type": "stream",
     "text": [
      "Reusing dataset gad (/home/galtay/.cache/huggingface/datasets/gad/gad_fold5_bigbio_text/1.0.0/60f2fe4eb74428a8ae13f757ea2931f42afa7ecf18f2393109e2e052efa5500c)\n"
     ]
    },
    {
     "data": {
      "application/vnd.jupyter.widget-view+json": {
       "model_id": "77fc85aca1b84d5783646d8d271d20d5",
       "version_major": 2,
       "version_minor": 0
      },
      "text/plain": [
       "  0%|          | 0/2 [00:00<?, ?it/s]"
      ]
     },
     "metadata": {},
     "output_type": "display_data"
    },
    {
     "name": "stderr",
     "output_type": "stream",
     "text": [
      "Reusing dataset gad (/home/galtay/.cache/huggingface/datasets/gad/gad_fold6_bigbio_text/1.0.0/60f2fe4eb74428a8ae13f757ea2931f42afa7ecf18f2393109e2e052efa5500c)\n"
     ]
    },
    {
     "data": {
      "application/vnd.jupyter.widget-view+json": {
       "model_id": "4ddcf3fbd2e04ba788213b13acc5b631",
       "version_major": 2,
       "version_minor": 0
      },
      "text/plain": [
       "  0%|          | 0/2 [00:00<?, ?it/s]"
      ]
     },
     "metadata": {},
     "output_type": "display_data"
    },
    {
     "name": "stderr",
     "output_type": "stream",
     "text": [
      "Reusing dataset gad (/home/galtay/.cache/huggingface/datasets/gad/gad_fold7_bigbio_text/1.0.0/60f2fe4eb74428a8ae13f757ea2931f42afa7ecf18f2393109e2e052efa5500c)\n"
     ]
    },
    {
     "data": {
      "application/vnd.jupyter.widget-view+json": {
       "model_id": "00f5179b48d24315acc5ec2d31e83f91",
       "version_major": 2,
       "version_minor": 0
      },
      "text/plain": [
       "  0%|          | 0/2 [00:00<?, ?it/s]"
      ]
     },
     "metadata": {},
     "output_type": "display_data"
    },
    {
     "name": "stderr",
     "output_type": "stream",
     "text": [
      "Reusing dataset gad (/home/galtay/.cache/huggingface/datasets/gad/gad_fold8_bigbio_text/1.0.0/60f2fe4eb74428a8ae13f757ea2931f42afa7ecf18f2393109e2e052efa5500c)\n"
     ]
    },
    {
     "data": {
      "application/vnd.jupyter.widget-view+json": {
       "model_id": "770d7a16143f4e04a70cd797ed485b2b",
       "version_major": 2,
       "version_minor": 0
      },
      "text/plain": [
       "  0%|          | 0/2 [00:00<?, ?it/s]"
      ]
     },
     "metadata": {},
     "output_type": "display_data"
    },
    {
     "name": "stderr",
     "output_type": "stream",
     "text": [
      "Reusing dataset gad (/home/galtay/.cache/huggingface/datasets/gad/gad_fold9_bigbio_text/1.0.0/60f2fe4eb74428a8ae13f757ea2931f42afa7ecf18f2393109e2e052efa5500c)\n"
     ]
    },
    {
     "data": {
      "application/vnd.jupyter.widget-view+json": {
       "model_id": "b42406fd31cb4cbeb690971aeb7ac064",
       "version_major": 2,
       "version_minor": 0
      },
      "text/plain": [
       "  0%|          | 0/2 [00:00<?, ?it/s]"
      ]
     },
     "metadata": {},
     "output_type": "display_data"
    },
    {
     "name": "stderr",
     "output_type": "stream",
     "text": [
      "Reusing dataset gad (/home/galtay/.cache/huggingface/datasets/gad/gad_blurb_bigbio_text/1.0.0/60f2fe4eb74428a8ae13f757ea2931f42afa7ecf18f2393109e2e052efa5500c)\n"
     ]
    },
    {
     "data": {
      "application/vnd.jupyter.widget-view+json": {
       "model_id": "dc647c7bceca4fa58cba2561e94d944b",
       "version_major": 2,
       "version_minor": 0
      },
      "text/plain": [
       "  0%|          | 0/3 [00:00<?, ?it/s]"
      ]
     },
     "metadata": {},
     "output_type": "display_data"
    },
    {
     "name": "stderr",
     "output_type": "stream",
     "text": [
      "Reusing dataset genetag_dataset (/home/galtay/.cache/huggingface/datasets/genetag_dataset/genetaggold_bigbio_kb/1.0.0/67951603bb8cc6dc366b0ca502894ee41d288a56d4f6de70471ee81b6de32039)\n"
     ]
    },
    {
     "data": {
      "application/vnd.jupyter.widget-view+json": {
       "model_id": "22935728fea3495080e444cccf36bffe",
       "version_major": 2,
       "version_minor": 0
      },
      "text/plain": [
       "  0%|          | 0/3 [00:00<?, ?it/s]"
      ]
     },
     "metadata": {},
     "output_type": "display_data"
    },
    {
     "name": "stderr",
     "output_type": "stream",
     "text": [
      "Reusing dataset genetag_dataset (/home/galtay/.cache/huggingface/datasets/genetag_dataset/genetagcorrect_bigbio_kb/1.0.0/67951603bb8cc6dc366b0ca502894ee41d288a56d4f6de70471ee81b6de32039)\n"
     ]
    },
    {
     "data": {
      "application/vnd.jupyter.widget-view+json": {
       "model_id": "c9826c40ba6b46d7980e7a240cd978cd",
       "version_major": 2,
       "version_minor": 0
      },
      "text/plain": [
       "  0%|          | 0/3 [00:00<?, ?it/s]"
      ]
     },
     "metadata": {},
     "output_type": "display_data"
    },
    {
     "name": "stderr",
     "output_type": "stream",
     "text": [
      "Reusing dataset genia_ptm_event_corpus_dataset (/home/galtay/.cache/huggingface/datasets/genia_ptm_event_corpus_dataset/genia_ptm_event_corpus_bigbio_kb/1.0.0/5c8be67cd6b83c548675129d163a42646420385a576969c86c1cab230dec989c)\n"
     ]
    },
    {
     "data": {
      "application/vnd.jupyter.widget-view+json": {
       "model_id": "e69cb03d1907419b890a90c81dcb90f9",
       "version_major": 2,
       "version_minor": 0
      },
      "text/plain": [
       "  0%|          | 0/1 [00:00<?, ?it/s]"
      ]
     },
     "metadata": {},
     "output_type": "display_data"
    },
    {
     "name": "stderr",
     "output_type": "stream",
     "text": [
      "Reusing dataset genia_relation_corpus_dataset (/home/galtay/.cache/huggingface/datasets/genia_relation_corpus_dataset/genia_relation_corpus_bigbio_kb/1.0.0/7fc1da5c37c5596b284b011d077fb7dcf7c99cd2f5b34c3907cfde694b39e08b)\n"
     ]
    },
    {
     "data": {
      "application/vnd.jupyter.widget-view+json": {
       "model_id": "de9e9bf8b0f14b59ab35e8c3d37ba570",
       "version_major": 2,
       "version_minor": 0
      },
      "text/plain": [
       "  0%|          | 0/3 [00:00<?, ?it/s]"
      ]
     },
     "metadata": {},
     "output_type": "display_data"
    },
    {
     "name": "stderr",
     "output_type": "stream",
     "text": [
      "Reusing dataset genia_term_corpus_dataset (/home/galtay/.cache/huggingface/datasets/genia_term_corpus_dataset/genia_term_corpus_bigbio_kb/1.0.0/00c9b0d6cfd7903ecd38e6612748dbc4c6249d0595b977f555a220cc5031f2e7)\n"
     ]
    },
    {
     "data": {
      "application/vnd.jupyter.widget-view+json": {
       "model_id": "bd2bd06da49645c69ce57d8e684fadb3",
       "version_major": 2,
       "version_minor": 0
      },
      "text/plain": [
       "  0%|          | 0/1 [00:00<?, ?it/s]"
      ]
     },
     "metadata": {},
     "output_type": "display_data"
    },
    {
     "name": "stderr",
     "output_type": "stream",
     "text": [
      "Reusing dataset geokhojv1_dataset (/home/galtay/.cache/huggingface/datasets/geokhojv1_dataset/geokhoj_v1_bigbio_text/1.0.0/231efbd35f9f5564157e0197a4599e28a0563c82334100e4968b89fafa959e11)\n"
     ]
    },
    {
     "data": {
      "application/vnd.jupyter.widget-view+json": {
       "model_id": "0c866ac21f1a453989c19a6c75d7bcd6",
       "version_major": 2,
       "version_minor": 0
      },
      "text/plain": [
       "  0%|          | 0/2 [00:00<?, ?it/s]"
      ]
     },
     "metadata": {},
     "output_type": "display_data"
    },
    {
     "name": "stderr",
     "output_type": "stream",
     "text": [
      "Reusing dataset gnormplus_dataset (/home/galtay/.cache/huggingface/datasets/gnormplus_dataset/gnormplus_bigbio_kb/1.0.0/1bb16f1b4abf9394b9180cac70edc575cc5e7d32c697f8b9f69ba2f643d2fc95)\n"
     ]
    },
    {
     "data": {
      "application/vnd.jupyter.widget-view+json": {
       "model_id": "c7ab4fedad254434a00f3d0cf88a7668",
       "version_major": 2,
       "version_minor": 0
      },
      "text/plain": [
       "  0%|          | 0/2 [00:00<?, ?it/s]"
      ]
     },
     "metadata": {},
     "output_type": "display_data"
    },
    {
     "name": "stderr",
     "output_type": "stream",
     "text": [
      "Reusing dataset hallmarks_of_cancer_dataset (/home/galtay/.cache/huggingface/datasets/hallmarks_of_cancer_dataset/hallmarks_of_cancer_bigbio_text/1.0.0/8b34c44f46003945f2ac4b0745ba705da96ae9bf9f5f626d59bce0fa92f52ba2)\n"
     ]
    },
    {
     "data": {
      "application/vnd.jupyter.widget-view+json": {
       "model_id": "de4942145a2d424a9c2a5b6a680fca06",
       "version_major": 2,
       "version_minor": 0
      },
      "text/plain": [
       "  0%|          | 0/3 [00:00<?, ?it/s]"
      ]
     },
     "metadata": {},
     "output_type": "display_data"
    },
    {
     "name": "stderr",
     "output_type": "stream",
     "text": [
      "Reusing dataset hprd50_dataset (/home/galtay/.cache/huggingface/datasets/hprd50_dataset/hprd50_bigbio_kb/1.0.0/8c03f0f6fc736b3842ff473a2d0cc4ef85dd178e76884c78721b29e7e2db6300)\n"
     ]
    },
    {
     "data": {
      "application/vnd.jupyter.widget-view+json": {
       "model_id": "24c56c3cea854ceeb5dc8d3ccfa8c0bf",
       "version_major": 2,
       "version_minor": 0
      },
      "text/plain": [
       "  0%|          | 0/2 [00:00<?, ?it/s]"
      ]
     },
     "metadata": {},
     "output_type": "display_data"
    },
    {
     "name": "stderr",
     "output_type": "stream",
     "text": [
      "Reusing dataset iepa_dataset (/home/galtay/.cache/huggingface/datasets/iepa_dataset/iepa_bigbio_kb/1.0.0/200b819f9b791ae233cc5ae2a58d039be47ac8755845c481ddf67d5283b20ebd)\n"
     ]
    },
    {
     "data": {
      "application/vnd.jupyter.widget-view+json": {
       "model_id": "f2a8b01cf2914b3f98ee24629605fae0",
       "version_major": 2,
       "version_minor": 0
      },
      "text/plain": [
       "  0%|          | 0/2 [00:00<?, ?it/s]"
      ]
     },
     "metadata": {},
     "output_type": "display_data"
    },
    {
     "name": "stderr",
     "output_type": "stream",
     "text": [
      "Reusing dataset jnlpba_dataset (/home/galtay/.cache/huggingface/datasets/jnlpba_dataset/jnlpba_bigbio_kb/1.0.0/53912b11c844e899a8940bb77ebd81d3a58748632a0b785f24d4aa5b829fa0a0)\n"
     ]
    },
    {
     "data": {
      "application/vnd.jupyter.widget-view+json": {
       "model_id": "0f08ac315cbb4f5ba61917e05646b19d",
       "version_major": 2,
       "version_minor": 0
      },
      "text/plain": [
       "  0%|          | 0/2 [00:00<?, ?it/s]"
      ]
     },
     "metadata": {},
     "output_type": "display_data"
    },
    {
     "name": "stderr",
     "output_type": "stream",
     "text": [
      "Reusing dataset linnaeus_dataset (/home/galtay/.cache/huggingface/datasets/linnaeus_dataset/linnaeus_bigbio_kb/1.0.0/f91b6061c1ec68a3b18eb1dd8af37953f56b217ed4c654072aaccdc630aeb0c5)\n"
     ]
    },
    {
     "data": {
      "application/vnd.jupyter.widget-view+json": {
       "model_id": "92d36e6431ab45509fba0898409d3c72",
       "version_major": 2,
       "version_minor": 0
      },
      "text/plain": [
       "  0%|          | 0/1 [00:00<?, ?it/s]"
      ]
     },
     "metadata": {},
     "output_type": "display_data"
    },
    {
     "name": "stderr",
     "output_type": "stream",
     "text": [
      "Reusing dataset linnaeus_dataset (/home/galtay/.cache/huggingface/datasets/linnaeus_dataset/linnaeus_filtered_bigbio_kb/1.0.0/f91b6061c1ec68a3b18eb1dd8af37953f56b217ed4c654072aaccdc630aeb0c5)\n"
     ]
    },
    {
     "data": {
      "application/vnd.jupyter.widget-view+json": {
       "model_id": "b6321581e481498182ba4c8414de03d6",
       "version_major": 2,
       "version_minor": 0
      },
      "text/plain": [
       "  0%|          | 0/1 [00:00<?, ?it/s]"
      ]
     },
     "metadata": {},
     "output_type": "display_data"
    },
    {
     "name": "stderr",
     "output_type": "stream",
     "text": [
      "Reusing dataset lll_dataset (/home/galtay/.cache/huggingface/datasets/lll_dataset/lll_bigbio_kb/1.0.0/a4d0660d0383a5441090dc5d57ee4a3c7cacde80e14b4dff5f3b9d00ce4760eb)\n"
     ]
    },
    {
     "data": {
      "application/vnd.jupyter.widget-view+json": {
       "model_id": "4099ccfcd99b48978d806acdba0c55d4",
       "version_major": 2,
       "version_minor": 0
      },
      "text/plain": [
       "  0%|          | 0/2 [00:00<?, ?it/s]"
      ]
     },
     "metadata": {},
     "output_type": "display_data"
    },
    {
     "name": "stderr",
     "output_type": "stream",
     "text": [
      "Reusing dataset mantra_gsc_dataset (/home/galtay/.cache/huggingface/datasets/mantra_gsc_dataset/mantra_gsc_es_emea_bigbio_kb/1.0.0/7e442f3531d6990d7ebcb6382ff75257856f0bcc3e8941f3dc3b474d6ea7ce79)\n"
     ]
    },
    {
     "data": {
      "application/vnd.jupyter.widget-view+json": {
       "model_id": "180842bd29324c4cac33e8536392a69b",
       "version_major": 2,
       "version_minor": 0
      },
      "text/plain": [
       "  0%|          | 0/1 [00:00<?, ?it/s]"
      ]
     },
     "metadata": {},
     "output_type": "display_data"
    },
    {
     "name": "stderr",
     "output_type": "stream",
     "text": [
      "Reusing dataset mantra_gsc_dataset (/home/galtay/.cache/huggingface/datasets/mantra_gsc_dataset/mantra_gsc_es_medline_bigbio_kb/1.0.0/7e442f3531d6990d7ebcb6382ff75257856f0bcc3e8941f3dc3b474d6ea7ce79)\n"
     ]
    },
    {
     "data": {
      "application/vnd.jupyter.widget-view+json": {
       "model_id": "57f06a513c744de2b99ca07c97024dac",
       "version_major": 2,
       "version_minor": 0
      },
      "text/plain": [
       "  0%|          | 0/1 [00:00<?, ?it/s]"
      ]
     },
     "metadata": {},
     "output_type": "display_data"
    },
    {
     "name": "stderr",
     "output_type": "stream",
     "text": [
      "Reusing dataset mantra_gsc_dataset (/home/galtay/.cache/huggingface/datasets/mantra_gsc_dataset/mantra_gsc_fr_emea_bigbio_kb/1.0.0/7e442f3531d6990d7ebcb6382ff75257856f0bcc3e8941f3dc3b474d6ea7ce79)\n"
     ]
    },
    {
     "data": {
      "application/vnd.jupyter.widget-view+json": {
       "model_id": "e262efc80e914dbb95ecf30a5b3d534e",
       "version_major": 2,
       "version_minor": 0
      },
      "text/plain": [
       "  0%|          | 0/1 [00:00<?, ?it/s]"
      ]
     },
     "metadata": {},
     "output_type": "display_data"
    },
    {
     "name": "stderr",
     "output_type": "stream",
     "text": [
      "Reusing dataset mantra_gsc_dataset (/home/galtay/.cache/huggingface/datasets/mantra_gsc_dataset/mantra_gsc_fr_medline_bigbio_kb/1.0.0/7e442f3531d6990d7ebcb6382ff75257856f0bcc3e8941f3dc3b474d6ea7ce79)\n"
     ]
    },
    {
     "data": {
      "application/vnd.jupyter.widget-view+json": {
       "model_id": "b4f872858e7d4b9fabad6bc81ec29d9e",
       "version_major": 2,
       "version_minor": 0
      },
      "text/plain": [
       "  0%|          | 0/1 [00:00<?, ?it/s]"
      ]
     },
     "metadata": {},
     "output_type": "display_data"
    },
    {
     "name": "stderr",
     "output_type": "stream",
     "text": [
      "Reusing dataset mantra_gsc_dataset (/home/galtay/.cache/huggingface/datasets/mantra_gsc_dataset/mantra_gsc_fr_patents_bigbio_kb/1.0.0/7e442f3531d6990d7ebcb6382ff75257856f0bcc3e8941f3dc3b474d6ea7ce79)\n"
     ]
    },
    {
     "data": {
      "application/vnd.jupyter.widget-view+json": {
       "model_id": "ddd577881c8a4441ae825137137b1c0d",
       "version_major": 2,
       "version_minor": 0
      },
      "text/plain": [
       "  0%|          | 0/1 [00:00<?, ?it/s]"
      ]
     },
     "metadata": {},
     "output_type": "display_data"
    },
    {
     "name": "stderr",
     "output_type": "stream",
     "text": [
      "Reusing dataset mantra_gsc_dataset (/home/galtay/.cache/huggingface/datasets/mantra_gsc_dataset/mantra_gsc_de_emea_bigbio_kb/1.0.0/7e442f3531d6990d7ebcb6382ff75257856f0bcc3e8941f3dc3b474d6ea7ce79)\n"
     ]
    },
    {
     "data": {
      "application/vnd.jupyter.widget-view+json": {
       "model_id": "a7ace58f948744edbdcc5725fcf96c9c",
       "version_major": 2,
       "version_minor": 0
      },
      "text/plain": [
       "  0%|          | 0/1 [00:00<?, ?it/s]"
      ]
     },
     "metadata": {},
     "output_type": "display_data"
    },
    {
     "name": "stderr",
     "output_type": "stream",
     "text": [
      "Reusing dataset mantra_gsc_dataset (/home/galtay/.cache/huggingface/datasets/mantra_gsc_dataset/mantra_gsc_de_medline_bigbio_kb/1.0.0/7e442f3531d6990d7ebcb6382ff75257856f0bcc3e8941f3dc3b474d6ea7ce79)\n"
     ]
    },
    {
     "data": {
      "application/vnd.jupyter.widget-view+json": {
       "model_id": "b3887cf327bb46a78c793c4e3d294c9a",
       "version_major": 2,
       "version_minor": 0
      },
      "text/plain": [
       "  0%|          | 0/1 [00:00<?, ?it/s]"
      ]
     },
     "metadata": {},
     "output_type": "display_data"
    },
    {
     "name": "stderr",
     "output_type": "stream",
     "text": [
      "Reusing dataset mantra_gsc_dataset (/home/galtay/.cache/huggingface/datasets/mantra_gsc_dataset/mantra_gsc_de_patents_bigbio_kb/1.0.0/7e442f3531d6990d7ebcb6382ff75257856f0bcc3e8941f3dc3b474d6ea7ce79)\n"
     ]
    },
    {
     "data": {
      "application/vnd.jupyter.widget-view+json": {
       "model_id": "5dda4b3bfd0748499c7c8181bfa8b2aa",
       "version_major": 2,
       "version_minor": 0
      },
      "text/plain": [
       "  0%|          | 0/1 [00:00<?, ?it/s]"
      ]
     },
     "metadata": {},
     "output_type": "display_data"
    },
    {
     "name": "stderr",
     "output_type": "stream",
     "text": [
      "Reusing dataset mantra_gsc_dataset (/home/galtay/.cache/huggingface/datasets/mantra_gsc_dataset/mantra_gsc_nl_emea_bigbio_kb/1.0.0/7e442f3531d6990d7ebcb6382ff75257856f0bcc3e8941f3dc3b474d6ea7ce79)\n"
     ]
    },
    {
     "data": {
      "application/vnd.jupyter.widget-view+json": {
       "model_id": "ac1d65e800664dbda2aff1c98aae06f8",
       "version_major": 2,
       "version_minor": 0
      },
      "text/plain": [
       "  0%|          | 0/1 [00:00<?, ?it/s]"
      ]
     },
     "metadata": {},
     "output_type": "display_data"
    },
    {
     "name": "stderr",
     "output_type": "stream",
     "text": [
      "Reusing dataset mantra_gsc_dataset (/home/galtay/.cache/huggingface/datasets/mantra_gsc_dataset/mantra_gsc_nl_medline_bigbio_kb/1.0.0/7e442f3531d6990d7ebcb6382ff75257856f0bcc3e8941f3dc3b474d6ea7ce79)\n"
     ]
    },
    {
     "data": {
      "application/vnd.jupyter.widget-view+json": {
       "model_id": "d33212cf0f1141d58b07a44e7eb27108",
       "version_major": 2,
       "version_minor": 0
      },
      "text/plain": [
       "  0%|          | 0/1 [00:00<?, ?it/s]"
      ]
     },
     "metadata": {},
     "output_type": "display_data"
    },
    {
     "name": "stderr",
     "output_type": "stream",
     "text": [
      "Reusing dataset mantra_gsc_dataset (/home/galtay/.cache/huggingface/datasets/mantra_gsc_dataset/mantra_gsc_en_emea_bigbio_kb/1.0.0/7e442f3531d6990d7ebcb6382ff75257856f0bcc3e8941f3dc3b474d6ea7ce79)\n"
     ]
    },
    {
     "data": {
      "application/vnd.jupyter.widget-view+json": {
       "model_id": "af425913d7024932917eccc8c7470faf",
       "version_major": 2,
       "version_minor": 0
      },
      "text/plain": [
       "  0%|          | 0/1 [00:00<?, ?it/s]"
      ]
     },
     "metadata": {},
     "output_type": "display_data"
    },
    {
     "name": "stderr",
     "output_type": "stream",
     "text": [
      "Reusing dataset mantra_gsc_dataset (/home/galtay/.cache/huggingface/datasets/mantra_gsc_dataset/mantra_gsc_en_medline_bigbio_kb/1.0.0/7e442f3531d6990d7ebcb6382ff75257856f0bcc3e8941f3dc3b474d6ea7ce79)\n"
     ]
    },
    {
     "data": {
      "application/vnd.jupyter.widget-view+json": {
       "model_id": "a66b836e26ea4c77aa111390481380e4",
       "version_major": 2,
       "version_minor": 0
      },
      "text/plain": [
       "  0%|          | 0/1 [00:00<?, ?it/s]"
      ]
     },
     "metadata": {},
     "output_type": "display_data"
    },
    {
     "name": "stderr",
     "output_type": "stream",
     "text": [
      "Reusing dataset mantra_gsc_dataset (/home/galtay/.cache/huggingface/datasets/mantra_gsc_dataset/mantra_gsc_en_patents_bigbio_kb/1.0.0/7e442f3531d6990d7ebcb6382ff75257856f0bcc3e8941f3dc3b474d6ea7ce79)\n"
     ]
    },
    {
     "data": {
      "application/vnd.jupyter.widget-view+json": {
       "model_id": "05f429db9555497e9e95bb69e1b986f2",
       "version_major": 2,
       "version_minor": 0
      },
      "text/plain": [
       "  0%|          | 0/1 [00:00<?, ?it/s]"
      ]
     },
     "metadata": {},
     "output_type": "display_data"
    },
    {
     "name": "stderr",
     "output_type": "stream",
     "text": [
      "Reusing dataset mayosrs_dataset (/home/galtay/.cache/huggingface/datasets/mayosrs_dataset/mayosrs_bigbio_pairs/1.0.0/2ae3973a6d9a4288005affdfff508a8e01fd90b40cb858a8389871ed2f0375b1)\n"
     ]
    },
    {
     "data": {
      "application/vnd.jupyter.widget-view+json": {
       "model_id": "858529d3476a4efc928333f19fd3296a",
       "version_major": 2,
       "version_minor": 0
      },
      "text/plain": [
       "  0%|          | 0/1 [00:00<?, ?it/s]"
      ]
     },
     "metadata": {},
     "output_type": "display_data"
    },
    {
     "name": "stderr",
     "output_type": "stream",
     "text": [
      "Reusing dataset med_qa_dataset (/home/galtay/.cache/huggingface/datasets/med_qa_dataset/med_qa_en_bigbio_qa/1.0.0/8d47fd5e34d1f7b1b04bfe89c9d7e10ca47020b1b847f362e685da00438b4b49)\n"
     ]
    },
    {
     "data": {
      "application/vnd.jupyter.widget-view+json": {
       "model_id": "b0f43a40e30448ec8f26b17d29e7af82",
       "version_major": 2,
       "version_minor": 0
      },
      "text/plain": [
       "  0%|          | 0/3 [00:00<?, ?it/s]"
      ]
     },
     "metadata": {},
     "output_type": "display_data"
    },
    {
     "name": "stderr",
     "output_type": "stream",
     "text": [
      "Reusing dataset med_qa_dataset (/home/galtay/.cache/huggingface/datasets/med_qa_dataset/med_qa_zh_bigbio_qa/1.0.0/8d47fd5e34d1f7b1b04bfe89c9d7e10ca47020b1b847f362e685da00438b4b49)\n"
     ]
    },
    {
     "data": {
      "application/vnd.jupyter.widget-view+json": {
       "model_id": "838a1a1a95a34852809eae2b5b727820",
       "version_major": 2,
       "version_minor": 0
      },
      "text/plain": [
       "  0%|          | 0/3 [00:00<?, ?it/s]"
      ]
     },
     "metadata": {},
     "output_type": "display_data"
    },
    {
     "name": "stderr",
     "output_type": "stream",
     "text": [
      "Reusing dataset med_qa_dataset (/home/galtay/.cache/huggingface/datasets/med_qa_dataset/med_qa_tw_bigbio_qa/1.0.0/8d47fd5e34d1f7b1b04bfe89c9d7e10ca47020b1b847f362e685da00438b4b49)\n"
     ]
    },
    {
     "data": {
      "application/vnd.jupyter.widget-view+json": {
       "model_id": "6c721acde8f74cfe9af5bbe9a69cb5ed",
       "version_major": 2,
       "version_minor": 0
      },
      "text/plain": [
       "  0%|          | 0/3 [00:00<?, ?it/s]"
      ]
     },
     "metadata": {},
     "output_type": "display_data"
    },
    {
     "name": "stderr",
     "output_type": "stream",
     "text": [
      "Reusing dataset med_qa_dataset (/home/galtay/.cache/huggingface/datasets/med_qa_dataset/med_qa_tw_en_bigbio_qa/1.0.0/8d47fd5e34d1f7b1b04bfe89c9d7e10ca47020b1b847f362e685da00438b4b49)\n"
     ]
    },
    {
     "data": {
      "application/vnd.jupyter.widget-view+json": {
       "model_id": "fee371fea38f41d6b1ce5cbd7d835079",
       "version_major": 2,
       "version_minor": 0
      },
      "text/plain": [
       "  0%|          | 0/3 [00:00<?, ?it/s]"
      ]
     },
     "metadata": {},
     "output_type": "display_data"
    },
    {
     "name": "stderr",
     "output_type": "stream",
     "text": [
      "Reusing dataset med_qa_dataset (/home/galtay/.cache/huggingface/datasets/med_qa_dataset/med_qa_tw_zh_bigbio_qa/1.0.0/8d47fd5e34d1f7b1b04bfe89c9d7e10ca47020b1b847f362e685da00438b4b49)\n"
     ]
    },
    {
     "data": {
      "application/vnd.jupyter.widget-view+json": {
       "model_id": "7e8e845bc5cb4b31bfa898a213d8eaed",
       "version_major": 2,
       "version_minor": 0
      },
      "text/plain": [
       "  0%|          | 0/3 [00:00<?, ?it/s]"
      ]
     },
     "metadata": {},
     "output_type": "display_data"
    },
    {
     "name": "stderr",
     "output_type": "stream",
     "text": [
      "Reusing dataset med_dialog (/home/galtay/.cache/huggingface/datasets/med_dialog/meddialog_en_bigbio_text/1.0.0/baeea92e10915a8c6393ed8d5d355209142807a2ff1e9fa92fd5aeee65f6c502)\n"
     ]
    },
    {
     "data": {
      "application/vnd.jupyter.widget-view+json": {
       "model_id": "ab9d11057edd4a92b7e007e1e9b7bc0e",
       "version_major": 2,
       "version_minor": 0
      },
      "text/plain": [
       "  0%|          | 0/3 [00:00<?, ?it/s]"
      ]
     },
     "metadata": {},
     "output_type": "display_data"
    },
    {
     "name": "stderr",
     "output_type": "stream",
     "text": [
      "Reusing dataset meddocan_dataset (/home/galtay/.cache/huggingface/datasets/meddocan_dataset/meddocan_bigbio_kb/1.0.0/964604ff5d3ab34c05b0b205c0890f58c759c23b0dccf89db6e32c9aaa57e8f6)\n"
     ]
    },
    {
     "data": {
      "application/vnd.jupyter.widget-view+json": {
       "model_id": "54a133a2f428474f9f9f616f0e512bed",
       "version_major": 2,
       "version_minor": 0
      },
      "text/plain": [
       "  0%|          | 0/3 [00:00<?, ?it/s]"
      ]
     },
     "metadata": {},
     "output_type": "display_data"
    },
    {
     "name": "stderr",
     "output_type": "stream",
     "text": [
      "Reusing dataset med_hop_dataset (/home/galtay/.cache/huggingface/datasets/med_hop_dataset/medhop_bigbio_qa/1.0.0/802061253658b81d588ed3c5c5b3b78d3a5f48e2b3a9298ba7cfacb021db47a5)\n"
     ]
    },
    {
     "data": {
      "application/vnd.jupyter.widget-view+json": {
       "model_id": "6cb19fc2664f4715864fde0340b48a90",
       "version_major": 2,
       "version_minor": 0
      },
      "text/plain": [
       "  0%|          | 0/2 [00:00<?, ?it/s]"
      ]
     },
     "metadata": {},
     "output_type": "display_data"
    },
    {
     "name": "stderr",
     "output_type": "stream",
     "text": [
      "Reusing dataset mediqa_qa_dataset (/home/galtay/.cache/huggingface/datasets/mediqa_qa_dataset/mediqa_qa_bigbio_qa/1.0.0/2aca6bfd63148f3b3e18e50db7b23e918326310e52ae2e7a9dce256ca5bb225d)\n"
     ]
    },
    {
     "data": {
      "application/vnd.jupyter.widget-view+json": {
       "model_id": "939a8bd61b9c4a62913ce7a7c3053874",
       "version_major": 2,
       "version_minor": 0
      },
      "text/plain": [
       "  0%|          | 0/4 [00:00<?, ?it/s]"
      ]
     },
     "metadata": {},
     "output_type": "display_data"
    },
    {
     "name": "stderr",
     "output_type": "stream",
     "text": [
      "Reusing dataset mediqa_rqe_dataset (/home/galtay/.cache/huggingface/datasets/mediqa_rqe_dataset/mediqa_rqe_bigbio_te/1.0.0/26f3791910196b2018ed51926e87310584efd2d6bc1d1b6c4ae80297d4f0c30f)\n"
     ]
    },
    {
     "data": {
      "application/vnd.jupyter.widget-view+json": {
       "model_id": "bd68f0c83a674538bdf5de3c6d0f5c1e",
       "version_major": 2,
       "version_minor": 0
      },
      "text/plain": [
       "  0%|          | 0/3 [00:00<?, ?it/s]"
      ]
     },
     "metadata": {},
     "output_type": "display_data"
    },
    {
     "name": "stderr",
     "output_type": "stream",
     "text": [
      "Reusing dataset med_mentions_dataset (/home/galtay/.cache/huggingface/datasets/med_mentions_dataset/medmentions_full_bigbio_kb/1.0.0/b5c8691186d4701f9b18eddbe36d178ccf7e55761dcc6140c57f4410754511ac)\n"
     ]
    },
    {
     "data": {
      "application/vnd.jupyter.widget-view+json": {
       "model_id": "cbeae18c567e4d24988e30af5e96de0b",
       "version_major": 2,
       "version_minor": 0
      },
      "text/plain": [
       "  0%|          | 0/3 [00:00<?, ?it/s]"
      ]
     },
     "metadata": {},
     "output_type": "display_data"
    },
    {
     "name": "stderr",
     "output_type": "stream",
     "text": [
      "Reusing dataset med_mentions_dataset (/home/galtay/.cache/huggingface/datasets/med_mentions_dataset/medmentions_st21pv_bigbio_kb/1.0.0/b5c8691186d4701f9b18eddbe36d178ccf7e55761dcc6140c57f4410754511ac)\n"
     ]
    },
    {
     "data": {
      "application/vnd.jupyter.widget-view+json": {
       "model_id": "b81d3b581deb4230aa69bef3f5788a8c",
       "version_major": 2,
       "version_minor": 0
      },
      "text/plain": [
       "  0%|          | 0/3 [00:00<?, ?it/s]"
      ]
     },
     "metadata": {},
     "output_type": "display_data"
    },
    {
     "name": "stderr",
     "output_type": "stream",
     "text": [
      "Reusing dataset me_q_sum_dataset (/home/galtay/.cache/huggingface/datasets/me_q_sum_dataset/meqsum_bigbio_t2t/1.0.0/0cd33941c5241e70b16d6db94299ba2572b21847cace2b768aeb551a3886c869)\n"
     ]
    },
    {
     "data": {
      "application/vnd.jupyter.widget-view+json": {
       "model_id": "2a305af2e17c4129a7b8e1add19cafc3",
       "version_major": 2,
       "version_minor": 0
      },
      "text/plain": [
       "  0%|          | 0/1 [00:00<?, ?it/s]"
      ]
     },
     "metadata": {},
     "output_type": "display_data"
    },
    {
     "name": "stderr",
     "output_type": "stream",
     "text": [
      "Reusing dataset minimayosrs_dataset (/home/galtay/.cache/huggingface/datasets/minimayosrs_dataset/minimayosrs_bigbio_pairs/1.0.0/564b19cfba7fb458733e551a96c2bb02f90d57f44228a3a9001d87ad9eaa31cb)\n"
     ]
    },
    {
     "data": {
      "application/vnd.jupyter.widget-view+json": {
       "model_id": "4c040cbcff64493082b54f49bb1bcb04",
       "version_major": 2,
       "version_minor": 0
      },
      "text/plain": [
       "  0%|          | 0/1 [00:00<?, ?it/s]"
      ]
     },
     "metadata": {},
     "output_type": "display_data"
    },
    {
     "name": "stderr",
     "output_type": "stream",
     "text": [
      "Reusing dataset mi_rna_dataset (/home/galtay/.cache/huggingface/datasets/mi_rna_dataset/mirna_bigbio_kb/1.0.0/1235ed5dcf1fad04baee19c6254866b2daaf8358c11d6477834e5e12c98b4657)\n"
     ]
    },
    {
     "data": {
      "application/vnd.jupyter.widget-view+json": {
       "model_id": "ffd6cdeb3022473091463cfbff50b043",
       "version_major": 2,
       "version_minor": 0
      },
      "text/plain": [
       "  0%|          | 0/2 [00:00<?, ?it/s]"
      ]
     },
     "metadata": {},
     "output_type": "display_data"
    },
    {
     "name": "stderr",
     "output_type": "stream",
     "text": [
      "Reusing dataset mlee (/home/galtay/.cache/huggingface/datasets/mlee/mlee_bigbio_kb/1.0.0/d42fcd6d0f5b31a49bc3c1cdb9302a7fcadcda06523c560367d5360189d0be48)\n"
     ]
    },
    {
     "data": {
      "application/vnd.jupyter.widget-view+json": {
       "model_id": "24a5bc9ab9a4433f952f50adc2fa650d",
       "version_major": 2,
       "version_minor": 0
      },
      "text/plain": [
       "  0%|          | 0/3 [00:00<?, ?it/s]"
      ]
     },
     "metadata": {},
     "output_type": "display_data"
    },
    {
     "name": "stderr",
     "output_type": "stream",
     "text": [
      "Reusing dataset mqp_dataset (/home/galtay/.cache/huggingface/datasets/mqp_dataset/mqp_bigbio_pairs/1.0.0/17893bd8246c1f4d7108e693a1b9f37ce5d64f78b952b356003d4c58558be93c)\n"
     ]
    },
    {
     "data": {
      "application/vnd.jupyter.widget-view+json": {
       "model_id": "8cf44426b6eb4045bafd044bfe865f36",
       "version_major": 2,
       "version_minor": 0
      },
      "text/plain": [
       "  0%|          | 0/1 [00:00<?, ?it/s]"
      ]
     },
     "metadata": {},
     "output_type": "display_data"
    },
    {
     "name": "stderr",
     "output_type": "stream",
     "text": [
      "Reusing dataset much_more_dataset (/home/galtay/.cache/huggingface/datasets/much_more_dataset/muchmore_bigbio_kb/1.0.0/a11b927d0f9b3e5a0730f1a49adbdba5b244c77d9d190e5b1ce0b60c32e0ea6f)\n"
     ]
    },
    {
     "data": {
      "application/vnd.jupyter.widget-view+json": {
       "model_id": "4e7161abc5b945d1b31586aff038a422",
       "version_major": 2,
       "version_minor": 0
      },
      "text/plain": [
       "  0%|          | 0/1 [00:00<?, ?it/s]"
      ]
     },
     "metadata": {},
     "output_type": "display_data"
    },
    {
     "name": "stderr",
     "output_type": "stream",
     "text": [
      "Reusing dataset much_more_dataset (/home/galtay/.cache/huggingface/datasets/much_more_dataset/muchmore_en_bigbio_kb/1.0.0/a11b927d0f9b3e5a0730f1a49adbdba5b244c77d9d190e5b1ce0b60c32e0ea6f)\n"
     ]
    },
    {
     "data": {
      "application/vnd.jupyter.widget-view+json": {
       "model_id": "be61a89d7e0045daba809c36138eb7e5",
       "version_major": 2,
       "version_minor": 0
      },
      "text/plain": [
       "  0%|          | 0/1 [00:00<?, ?it/s]"
      ]
     },
     "metadata": {},
     "output_type": "display_data"
    },
    {
     "name": "stderr",
     "output_type": "stream",
     "text": [
      "Reusing dataset much_more_dataset (/home/galtay/.cache/huggingface/datasets/much_more_dataset/muchmore_de_bigbio_kb/1.0.0/a11b927d0f9b3e5a0730f1a49adbdba5b244c77d9d190e5b1ce0b60c32e0ea6f)\n"
     ]
    },
    {
     "data": {
      "application/vnd.jupyter.widget-view+json": {
       "model_id": "365043619e9f4c06928ab5d4fab0d466",
       "version_major": 2,
       "version_minor": 0
      },
      "text/plain": [
       "  0%|          | 0/1 [00:00<?, ?it/s]"
      ]
     },
     "metadata": {},
     "output_type": "display_data"
    },
    {
     "name": "stderr",
     "output_type": "stream",
     "text": [
      "Reusing dataset much_more_dataset (/home/galtay/.cache/huggingface/datasets/much_more_dataset/muchmore_bigbio_t2t/1.0.0/a11b927d0f9b3e5a0730f1a49adbdba5b244c77d9d190e5b1ce0b60c32e0ea6f)\n"
     ]
    },
    {
     "data": {
      "application/vnd.jupyter.widget-view+json": {
       "model_id": "867abcb0adbd4104a0539d46b4e983ad",
       "version_major": 2,
       "version_minor": 0
      },
      "text/plain": [
       "  0%|          | 0/1 [00:00<?, ?it/s]"
      ]
     },
     "metadata": {},
     "output_type": "display_data"
    },
    {
     "name": "stderr",
     "output_type": "stream",
     "text": [
      "Reusing dataset multi_x_science (/home/galtay/.cache/huggingface/datasets/multi_x_science/multi_xscience_bigbio_t2t/1.0.0/5372d2f04ab0c807f7cc339c10b1a9941d5243df8ae09f015222c2f4a5efcde8)\n"
     ]
    },
    {
     "data": {
      "application/vnd.jupyter.widget-view+json": {
       "model_id": "ff10e634b5e343d08badda68b0821499",
       "version_major": 2,
       "version_minor": 0
      },
      "text/plain": [
       "  0%|          | 0/3 [00:00<?, ?it/s]"
      ]
     },
     "metadata": {},
     "output_type": "display_data"
    },
    {
     "name": "stderr",
     "output_type": "stream",
     "text": [
      "Reusing dataset mutation_finder_dataset (/home/galtay/.cache/huggingface/datasets/mutation_finder_dataset/mutation_finder_bigbio_kb/1.0.0/a11a87d71b8a82109163d6abc4fbc7b46a2c89663b621eec89571e19823d9451)\n"
     ]
    },
    {
     "data": {
      "application/vnd.jupyter.widget-view+json": {
       "model_id": "2639a0d870d84eada230bfc3f519a6d0",
       "version_major": 2,
       "version_minor": 0
      },
      "text/plain": [
       "  0%|          | 0/2 [00:00<?, ?it/s]"
      ]
     },
     "metadata": {},
     "output_type": "display_data"
    },
    {
     "name": "stderr",
     "output_type": "stream",
     "text": [
      "Reusing dataset ncbi_disease_dataset (/home/galtay/.cache/huggingface/datasets/ncbi_disease_dataset/ncbi_disease_bigbio_kb/1.0.0/10a393201e55b403e5d107701b719368f54f1bf3d3438a1233f99be0badeb034)\n"
     ]
    },
    {
     "data": {
      "application/vnd.jupyter.widget-view+json": {
       "model_id": "0fc43d29a9094d1bb547f64d22df4629",
       "version_major": 2,
       "version_minor": 0
      },
      "text/plain": [
       "  0%|          | 0/3 [00:00<?, ?it/s]"
      ]
     },
     "metadata": {},
     "output_type": "display_data"
    },
    {
     "name": "stderr",
     "output_type": "stream",
     "text": [
      "Reusing dataset nlm_gene_dataset (/home/galtay/.cache/huggingface/datasets/nlm_gene_dataset/nlm_gene_bigbio_kb/1.0.0/4291402c7589961b34294745522bffe7e289d8f6c11d99a66d93362c0d30187d)\n"
     ]
    },
    {
     "data": {
      "application/vnd.jupyter.widget-view+json": {
       "model_id": "e3321399c5684b49ab61df5dbae6a7e1",
       "version_major": 2,
       "version_minor": 0
      },
      "text/plain": [
       "  0%|          | 0/2 [00:00<?, ?it/s]"
      ]
     },
     "metadata": {},
     "output_type": "display_data"
    },
    {
     "name": "stderr",
     "output_type": "stream",
     "text": [
      "Reusing dataset nlm_chem_dataset (/home/galtay/.cache/huggingface/datasets/nlm_chem_dataset/nlmchem_bigbio_kb/1.0.0/d91131823c66b7dd1162027991ea47c342e478209b37cf261c5f122d30409594)\n"
     ]
    },
    {
     "data": {
      "application/vnd.jupyter.widget-view+json": {
       "model_id": "d3e6259ff05b423a8466c1d43a606050",
       "version_major": 2,
       "version_minor": 0
      },
      "text/plain": [
       "  0%|          | 0/3 [00:00<?, ?it/s]"
      ]
     },
     "metadata": {},
     "output_type": "display_data"
    },
    {
     "name": "stderr",
     "output_type": "stream",
     "text": [
      "Reusing dataset nlm_chem_dataset (/home/galtay/.cache/huggingface/datasets/nlm_chem_dataset/nlmchem_bigbio_text/1.0.0/d91131823c66b7dd1162027991ea47c342e478209b37cf261c5f122d30409594)\n"
     ]
    },
    {
     "data": {
      "application/vnd.jupyter.widget-view+json": {
       "model_id": "16fa8f27533e4704b2781c0875615bcf",
       "version_major": 2,
       "version_minor": 0
      },
      "text/plain": [
       "  0%|          | 0/3 [00:00<?, ?it/s]"
      ]
     },
     "metadata": {},
     "output_type": "display_data"
    },
    {
     "name": "stderr",
     "output_type": "stream",
     "text": [
      "Reusing dataset osiris (/home/galtay/.cache/huggingface/datasets/osiris/osiris_bigbio_kb/1.0.0/5aae14241c67fbe761843bedc3ab1123302773163574bf23bdd1c81fbb145485)\n"
     ]
    },
    {
     "data": {
      "application/vnd.jupyter.widget-view+json": {
       "model_id": "842baeee66214bb7b4ffc1d1f6068049",
       "version_major": 2,
       "version_minor": 0
      },
      "text/plain": [
       "  0%|          | 0/1 [00:00<?, ?it/s]"
      ]
     },
     "metadata": {},
     "output_type": "display_data"
    },
    {
     "name": "stderr",
     "output_type": "stream",
     "text": [
      "Reusing dataset paramed_dataset (/home/galtay/.cache/huggingface/datasets/paramed_dataset/paramed_bigbio_t2t/1.0.0/c7c545f9e448eedad7e528cc495ae31a47228ccfd052c74207040943b58cfab7)\n"
     ]
    },
    {
     "data": {
      "application/vnd.jupyter.widget-view+json": {
       "model_id": "82777e94600f4e00af013eaf2fb6360c",
       "version_major": 2,
       "version_minor": 0
      },
      "text/plain": [
       "  0%|          | 0/3 [00:00<?, ?it/s]"
      ]
     },
     "metadata": {},
     "output_type": "display_data"
    },
    {
     "name": "stderr",
     "output_type": "stream",
     "text": [
      "Reusing dataset pdr_dataset (/home/galtay/.cache/huggingface/datasets/pdr_dataset/pdr_bigbio_kb/1.0.0/9ec253d2bc6fcb4e915732a73be847d608383dca336ad90464ffbeab22f4f935)\n"
     ]
    },
    {
     "data": {
      "application/vnd.jupyter.widget-view+json": {
       "model_id": "157eb2fc31cd42d3b62d26b3206009d4",
       "version_major": 2,
       "version_minor": 0
      },
      "text/plain": [
       "  0%|          | 0/1 [00:00<?, ?it/s]"
      ]
     },
     "metadata": {},
     "output_type": "display_data"
    },
    {
     "name": "stderr",
     "output_type": "stream",
     "text": [
      "Reusing dataset pharmaconer_dataset (/home/galtay/.cache/huggingface/datasets/pharmaconer_dataset/pharmaconer_bigbio_kb/1.0.0/0bfb0ab001bb8e93f01292bccfc411ea2ddfc50622975f82bf33353959f6c1e5)\n"
     ]
    },
    {
     "data": {
      "application/vnd.jupyter.widget-view+json": {
       "model_id": "06e5f97c175d4c34a77138958f55360b",
       "version_major": 2,
       "version_minor": 0
      },
      "text/plain": [
       "  0%|          | 0/3 [00:00<?, ?it/s]"
      ]
     },
     "metadata": {},
     "output_type": "display_data"
    },
    {
     "name": "stderr",
     "output_type": "stream",
     "text": [
      "Reusing dataset pharmaconer_dataset (/home/galtay/.cache/huggingface/datasets/pharmaconer_dataset/pharmaconer_bigbio_text/1.0.0/0bfb0ab001bb8e93f01292bccfc411ea2ddfc50622975f82bf33353959f6c1e5)\n"
     ]
    },
    {
     "data": {
      "application/vnd.jupyter.widget-view+json": {
       "model_id": "6bac3c25a762446fbc3184e63b8805cc",
       "version_major": 2,
       "version_minor": 0
      },
      "text/plain": [
       "  0%|          | 0/3 [00:00<?, ?it/s]"
      ]
     },
     "metadata": {},
     "output_type": "display_data"
    },
    {
     "name": "stderr",
     "output_type": "stream",
     "text": [
      "Reusing dataset pho_ner_dataset (/home/galtay/.cache/huggingface/datasets/pho_ner_dataset/pho_ner_bigbio_kb/1.0.0/b63c03a21ab8fd3aea54418ad680f3e1479d90e3f74faee93603c75aeb440f09)\n"
     ]
    },
    {
     "data": {
      "application/vnd.jupyter.widget-view+json": {
       "model_id": "1e8b312387ed4869938a407320b3d4c2",
       "version_major": 2,
       "version_minor": 0
      },
      "text/plain": [
       "  0%|          | 0/3 [00:00<?, ?it/s]"
      ]
     },
     "metadata": {},
     "output_type": "display_data"
    },
    {
     "name": "stderr",
     "output_type": "stream",
     "text": [
      "Reusing dataset pho_ner_dataset (/home/galtay/.cache/huggingface/datasets/pho_ner_dataset/pho_ner_syllable_bigbio_kb/1.0.0/b63c03a21ab8fd3aea54418ad680f3e1479d90e3f74faee93603c75aeb440f09)\n"
     ]
    },
    {
     "data": {
      "application/vnd.jupyter.widget-view+json": {
       "model_id": "893123d517944637956e31425f60047b",
       "version_major": 2,
       "version_minor": 0
      },
      "text/plain": [
       "  0%|          | 0/3 [00:00<?, ?it/s]"
      ]
     },
     "metadata": {},
     "output_type": "display_data"
    },
    {
     "name": "stderr",
     "output_type": "stream",
     "text": [
      "Reusing dataset pico_extraction_dataset (/home/galtay/.cache/huggingface/datasets/pico_extraction_dataset/pico_extraction_bigbio_kb/1.0.0/e44a7c77a2a3cd9b6f4a2ed8e0af76d74ba9259106a26e2ae98b15cbfd1d16b6)\n"
     ]
    },
    {
     "data": {
      "application/vnd.jupyter.widget-view+json": {
       "model_id": "c0979e9879d1474887d8688b625e122d",
       "version_major": 2,
       "version_minor": 0
      },
      "text/plain": [
       "  0%|          | 0/1 [00:00<?, ?it/s]"
      ]
     },
     "metadata": {},
     "output_type": "display_data"
    },
    {
     "name": "stderr",
     "output_type": "stream",
     "text": [
      "Reusing dataset pmc_patients_dataset (/home/galtay/.cache/huggingface/datasets/pmc_patients_dataset/pmc_patients_bigbio_pairs/1.0.0/8b53a07c8b6b88d49fcf0909dfe46a61e9b778ba681151eb9b4ed53f97f6fe90)\n"
     ]
    },
    {
     "data": {
      "application/vnd.jupyter.widget-view+json": {
       "model_id": "65e19db565084793a802b5cbe5a0d4f2",
       "version_major": 2,
       "version_minor": 0
      },
      "text/plain": [
       "  0%|          | 0/3 [00:00<?, ?it/s]"
      ]
     },
     "metadata": {},
     "output_type": "display_data"
    },
    {
     "name": "stderr",
     "output_type": "stream",
     "text": [
      "Reusing dataset progene_dataset (/home/galtay/.cache/huggingface/datasets/progene_dataset/progene_bigbio_kb/1.0.0/f47dd117a24026c11f24285a8dc6921f68746d3379affca5f0022512c1cad0e0)\n"
     ]
    },
    {
     "data": {
      "application/vnd.jupyter.widget-view+json": {
       "model_id": "89ac47ff77964d2ea8cdbd92f7437ae0",
       "version_major": 2,
       "version_minor": 0
      },
      "text/plain": [
       "  0%|          | 0/30 [00:00<?, ?it/s]"
      ]
     },
     "metadata": {},
     "output_type": "display_data"
    },
    {
     "name": "stderr",
     "output_type": "stream",
     "text": [
      "Reusing dataset pubhealth_dataset (/home/galtay/.cache/huggingface/datasets/pubhealth_dataset/pubhealth_bigbio_pairs/1.0.0/4abda944fddf7b2b825a65adcc815fd98dc3008623301268fa69795f6b2a2b9b)\n"
     ]
    },
    {
     "data": {
      "application/vnd.jupyter.widget-view+json": {
       "model_id": "da3f5b113ad941fd962f98c18e705265",
       "version_major": 2,
       "version_minor": 0
      },
      "text/plain": [
       "  0%|          | 0/3 [00:00<?, ?it/s]"
      ]
     },
     "metadata": {},
     "output_type": "display_data"
    },
    {
     "name": "stderr",
     "output_type": "stream",
     "text": [
      "Reusing dataset pubmed_qa_dataset (/home/galtay/.cache/huggingface/datasets/pubmed_qa_dataset/pubmed_qa_artificial_bigbio_qa/1.0.0/43353ba5c6e691785b41bd24638e416d6f120111a0f2fd33d250ffe337c415d0)\n"
     ]
    },
    {
     "data": {
      "application/vnd.jupyter.widget-view+json": {
       "model_id": "84df6d0ab94f44d093c797cb9c45aba9",
       "version_major": 2,
       "version_minor": 0
      },
      "text/plain": [
       "  0%|          | 0/2 [00:00<?, ?it/s]"
      ]
     },
     "metadata": {},
     "output_type": "display_data"
    },
    {
     "name": "stderr",
     "output_type": "stream",
     "text": [
      "Reusing dataset pubmed_qa_dataset (/home/galtay/.cache/huggingface/datasets/pubmed_qa_dataset/pubmed_qa_unlabeled_bigbio_qa/1.0.0/43353ba5c6e691785b41bd24638e416d6f120111a0f2fd33d250ffe337c415d0)\n"
     ]
    },
    {
     "data": {
      "application/vnd.jupyter.widget-view+json": {
       "model_id": "051112dcb1f7484091686a8c34c1d3d3",
       "version_major": 2,
       "version_minor": 0
      },
      "text/plain": [
       "  0%|          | 0/1 [00:00<?, ?it/s]"
      ]
     },
     "metadata": {},
     "output_type": "display_data"
    },
    {
     "name": "stderr",
     "output_type": "stream",
     "text": [
      "Reusing dataset pubmed_qa_dataset (/home/galtay/.cache/huggingface/datasets/pubmed_qa_dataset/pubmed_qa_labeled_fold0_bigbio_qa/1.0.0/43353ba5c6e691785b41bd24638e416d6f120111a0f2fd33d250ffe337c415d0)\n"
     ]
    },
    {
     "data": {
      "application/vnd.jupyter.widget-view+json": {
       "model_id": "adebcccb6f924a83894ff50f7077ac56",
       "version_major": 2,
       "version_minor": 0
      },
      "text/plain": [
       "  0%|          | 0/3 [00:00<?, ?it/s]"
      ]
     },
     "metadata": {},
     "output_type": "display_data"
    },
    {
     "name": "stderr",
     "output_type": "stream",
     "text": [
      "Reusing dataset pubmed_qa_dataset (/home/galtay/.cache/huggingface/datasets/pubmed_qa_dataset/pubmed_qa_labeled_fold1_bigbio_qa/1.0.0/43353ba5c6e691785b41bd24638e416d6f120111a0f2fd33d250ffe337c415d0)\n"
     ]
    },
    {
     "data": {
      "application/vnd.jupyter.widget-view+json": {
       "model_id": "ca94f6fef79b422b87763660f5713a11",
       "version_major": 2,
       "version_minor": 0
      },
      "text/plain": [
       "  0%|          | 0/3 [00:00<?, ?it/s]"
      ]
     },
     "metadata": {},
     "output_type": "display_data"
    },
    {
     "name": "stderr",
     "output_type": "stream",
     "text": [
      "Reusing dataset pubmed_qa_dataset (/home/galtay/.cache/huggingface/datasets/pubmed_qa_dataset/pubmed_qa_labeled_fold2_bigbio_qa/1.0.0/43353ba5c6e691785b41bd24638e416d6f120111a0f2fd33d250ffe337c415d0)\n"
     ]
    },
    {
     "data": {
      "application/vnd.jupyter.widget-view+json": {
       "model_id": "86286648427749c0bab0d4d64dd912bf",
       "version_major": 2,
       "version_minor": 0
      },
      "text/plain": [
       "  0%|          | 0/3 [00:00<?, ?it/s]"
      ]
     },
     "metadata": {},
     "output_type": "display_data"
    },
    {
     "name": "stderr",
     "output_type": "stream",
     "text": [
      "Reusing dataset pubmed_qa_dataset (/home/galtay/.cache/huggingface/datasets/pubmed_qa_dataset/pubmed_qa_labeled_fold3_bigbio_qa/1.0.0/43353ba5c6e691785b41bd24638e416d6f120111a0f2fd33d250ffe337c415d0)\n"
     ]
    },
    {
     "data": {
      "application/vnd.jupyter.widget-view+json": {
       "model_id": "3ca013c871ca43c5beb8554f7edc872d",
       "version_major": 2,
       "version_minor": 0
      },
      "text/plain": [
       "  0%|          | 0/3 [00:00<?, ?it/s]"
      ]
     },
     "metadata": {},
     "output_type": "display_data"
    },
    {
     "name": "stderr",
     "output_type": "stream",
     "text": [
      "Reusing dataset pubmed_qa_dataset (/home/galtay/.cache/huggingface/datasets/pubmed_qa_dataset/pubmed_qa_labeled_fold4_bigbio_qa/1.0.0/43353ba5c6e691785b41bd24638e416d6f120111a0f2fd33d250ffe337c415d0)\n"
     ]
    },
    {
     "data": {
      "application/vnd.jupyter.widget-view+json": {
       "model_id": "e669867c474b4dae8d9f2376ea8b7039",
       "version_major": 2,
       "version_minor": 0
      },
      "text/plain": [
       "  0%|          | 0/3 [00:00<?, ?it/s]"
      ]
     },
     "metadata": {},
     "output_type": "display_data"
    },
    {
     "name": "stderr",
     "output_type": "stream",
     "text": [
      "Reusing dataset pubmed_qa_dataset (/home/galtay/.cache/huggingface/datasets/pubmed_qa_dataset/pubmed_qa_labeled_fold5_bigbio_qa/1.0.0/43353ba5c6e691785b41bd24638e416d6f120111a0f2fd33d250ffe337c415d0)\n"
     ]
    },
    {
     "data": {
      "application/vnd.jupyter.widget-view+json": {
       "model_id": "65e07038a1014dfc8e0a47808eabba89",
       "version_major": 2,
       "version_minor": 0
      },
      "text/plain": [
       "  0%|          | 0/3 [00:00<?, ?it/s]"
      ]
     },
     "metadata": {},
     "output_type": "display_data"
    },
    {
     "name": "stderr",
     "output_type": "stream",
     "text": [
      "Reusing dataset pubmed_qa_dataset (/home/galtay/.cache/huggingface/datasets/pubmed_qa_dataset/pubmed_qa_labeled_fold6_bigbio_qa/1.0.0/43353ba5c6e691785b41bd24638e416d6f120111a0f2fd33d250ffe337c415d0)\n"
     ]
    },
    {
     "data": {
      "application/vnd.jupyter.widget-view+json": {
       "model_id": "2d94c08ba37149e8b51f64b93e069679",
       "version_major": 2,
       "version_minor": 0
      },
      "text/plain": [
       "  0%|          | 0/3 [00:00<?, ?it/s]"
      ]
     },
     "metadata": {},
     "output_type": "display_data"
    },
    {
     "name": "stderr",
     "output_type": "stream",
     "text": [
      "Reusing dataset pubmed_qa_dataset (/home/galtay/.cache/huggingface/datasets/pubmed_qa_dataset/pubmed_qa_labeled_fold7_bigbio_qa/1.0.0/43353ba5c6e691785b41bd24638e416d6f120111a0f2fd33d250ffe337c415d0)\n"
     ]
    },
    {
     "data": {
      "application/vnd.jupyter.widget-view+json": {
       "model_id": "00752d67b1d84a809537087b7f967f97",
       "version_major": 2,
       "version_minor": 0
      },
      "text/plain": [
       "  0%|          | 0/3 [00:00<?, ?it/s]"
      ]
     },
     "metadata": {},
     "output_type": "display_data"
    },
    {
     "name": "stderr",
     "output_type": "stream",
     "text": [
      "Reusing dataset pubmed_qa_dataset (/home/galtay/.cache/huggingface/datasets/pubmed_qa_dataset/pubmed_qa_labeled_fold8_bigbio_qa/1.0.0/43353ba5c6e691785b41bd24638e416d6f120111a0f2fd33d250ffe337c415d0)\n"
     ]
    },
    {
     "data": {
      "application/vnd.jupyter.widget-view+json": {
       "model_id": "50571eb3a430412f9ec838d10fd9604a",
       "version_major": 2,
       "version_minor": 0
      },
      "text/plain": [
       "  0%|          | 0/3 [00:00<?, ?it/s]"
      ]
     },
     "metadata": {},
     "output_type": "display_data"
    },
    {
     "name": "stderr",
     "output_type": "stream",
     "text": [
      "Reusing dataset pubmed_qa_dataset (/home/galtay/.cache/huggingface/datasets/pubmed_qa_dataset/pubmed_qa_labeled_fold9_bigbio_qa/1.0.0/43353ba5c6e691785b41bd24638e416d6f120111a0f2fd33d250ffe337c415d0)\n"
     ]
    },
    {
     "data": {
      "application/vnd.jupyter.widget-view+json": {
       "model_id": "fc744acc681048558579e31f82f33d1f",
       "version_major": 2,
       "version_minor": 0
      },
      "text/plain": [
       "  0%|          | 0/3 [00:00<?, ?it/s]"
      ]
     },
     "metadata": {},
     "output_type": "display_data"
    },
    {
     "name": "stderr",
     "output_type": "stream",
     "text": [
      "Reusing dataset pubtator_central_dataset (/home/galtay/.cache/huggingface/datasets/pubtator_central_dataset/pubtator_central_sample_bigbio_kb/1.0.0/1942b2ed6ca53071c1dbcb604ed9b0a1e26c2a0b84839c6d7bbed1b82776b2c0)\n"
     ]
    },
    {
     "data": {
      "application/vnd.jupyter.widget-view+json": {
       "model_id": "dc32761fbaa14c429194644401492064",
       "version_major": 2,
       "version_minor": 0
      },
      "text/plain": [
       "  0%|          | 0/1 [00:00<?, ?it/s]"
      ]
     },
     "metadata": {},
     "output_type": "display_data"
    },
    {
     "name": "stderr",
     "output_type": "stream",
     "text": [
      "Reusing dataset quaero (/home/galtay/.cache/huggingface/datasets/quaero/quaero_emea_bigbio_kb/1.0.0/774678ab312901ed68bd16ef32004f241b028aeab7713109b788cc031774fd9c)\n"
     ]
    },
    {
     "data": {
      "application/vnd.jupyter.widget-view+json": {
       "model_id": "e92bfcfa0d4c4270bf72fb6995c9efef",
       "version_major": 2,
       "version_minor": 0
      },
      "text/plain": [
       "  0%|          | 0/3 [00:00<?, ?it/s]"
      ]
     },
     "metadata": {},
     "output_type": "display_data"
    },
    {
     "name": "stderr",
     "output_type": "stream",
     "text": [
      "Reusing dataset quaero (/home/galtay/.cache/huggingface/datasets/quaero/quaero_medline_bigbio_kb/1.0.0/774678ab312901ed68bd16ef32004f241b028aeab7713109b788cc031774fd9c)\n"
     ]
    },
    {
     "data": {
      "application/vnd.jupyter.widget-view+json": {
       "model_id": "b5db7b730edb43b59c49771a357b76b7",
       "version_major": 2,
       "version_minor": 0
      },
      "text/plain": [
       "  0%|          | 0/3 [00:00<?, ?it/s]"
      ]
     },
     "metadata": {},
     "output_type": "display_data"
    },
    {
     "name": "stderr",
     "output_type": "stream",
     "text": [
      "Reusing dataset scai_chemical_dataset (/home/galtay/.cache/huggingface/datasets/scai_chemical_dataset/scai_chemical_bigbio_kb/1.0.0/ad206c78b1592b11002e702f356e76b053510aa5a7c99884636443bcc500fc00)\n"
     ]
    },
    {
     "data": {
      "application/vnd.jupyter.widget-view+json": {
       "model_id": "9679b9c9a3e742bd8cd728b5d28ad5b6",
       "version_major": 2,
       "version_minor": 0
      },
      "text/plain": [
       "  0%|          | 0/1 [00:00<?, ?it/s]"
      ]
     },
     "metadata": {},
     "output_type": "display_data"
    },
    {
     "name": "stderr",
     "output_type": "stream",
     "text": [
      "Reusing dataset scai_disease_dataset (/home/galtay/.cache/huggingface/datasets/scai_disease_dataset/scai_disease_bigbio_kb/1.0.0/2f31b34d3ebd26b72d0f8cc07c83d4730ed6a24dc117589975e22fb742180d1c)\n"
     ]
    },
    {
     "data": {
      "application/vnd.jupyter.widget-view+json": {
       "model_id": "cddf75a65085450b96ade627bc42afa6",
       "version_major": 2,
       "version_minor": 0
      },
      "text/plain": [
       "  0%|          | 0/1 [00:00<?, ?it/s]"
      ]
     },
     "metadata": {},
     "output_type": "display_data"
    },
    {
     "name": "stderr",
     "output_type": "stream",
     "text": [
      "Reusing dataset scicite_dataset (/home/galtay/.cache/huggingface/datasets/scicite_dataset/scicite_bigbio_text/1.0.0/68442c96e497d1b72c0437590d489ddd30adc5e325feee9057fc43f2d65a20d7)\n"
     ]
    },
    {
     "data": {
      "application/vnd.jupyter.widget-view+json": {
       "model_id": "579f3aa5e4524331aea7e82d9d03c4a4",
       "version_major": 2,
       "version_minor": 0
      },
      "text/plain": [
       "  0%|          | 0/3 [00:00<?, ?it/s]"
      ]
     },
     "metadata": {},
     "output_type": "display_data"
    },
    {
     "name": "stderr",
     "output_type": "stream",
     "text": [
      "Reusing dataset scielo_dataset (/home/galtay/.cache/huggingface/datasets/scielo_dataset/scielo_en_es_bigbio_t2t/1.0.0/ee3c81633c3b223c9bab99bb498dafa8d4f00aeb78313a123bcdf597ce4269a8)\n"
     ]
    },
    {
     "data": {
      "application/vnd.jupyter.widget-view+json": {
       "model_id": "32afa152e6f8465d8b551604d7433b3d",
       "version_major": 2,
       "version_minor": 0
      },
      "text/plain": [
       "  0%|          | 0/1 [00:00<?, ?it/s]"
      ]
     },
     "metadata": {},
     "output_type": "display_data"
    },
    {
     "name": "stderr",
     "output_type": "stream",
     "text": [
      "Reusing dataset scielo_dataset (/home/galtay/.cache/huggingface/datasets/scielo_dataset/scielo_en_pt_bigbio_t2t/1.0.0/ee3c81633c3b223c9bab99bb498dafa8d4f00aeb78313a123bcdf597ce4269a8)\n"
     ]
    },
    {
     "data": {
      "application/vnd.jupyter.widget-view+json": {
       "model_id": "6152e5e84e2e40e48c711e80d70fbf8d",
       "version_major": 2,
       "version_minor": 0
      },
      "text/plain": [
       "  0%|          | 0/1 [00:00<?, ?it/s]"
      ]
     },
     "metadata": {},
     "output_type": "display_data"
    },
    {
     "name": "stderr",
     "output_type": "stream",
     "text": [
      "Reusing dataset sci_fact (/home/galtay/.cache/huggingface/datasets/sci_fact/scifact_rationale_bigbio_te/1.0.0/32a72fe1020e258ce659a565479106d3fe85e80bce650f0b292bd32f6d692e8c)\n"
     ]
    },
    {
     "data": {
      "application/vnd.jupyter.widget-view+json": {
       "model_id": "4b77b18fd8b842e285b140d303495995",
       "version_major": 2,
       "version_minor": 0
      },
      "text/plain": [
       "  0%|          | 0/3 [00:00<?, ?it/s]"
      ]
     },
     "metadata": {},
     "output_type": "display_data"
    },
    {
     "name": "stderr",
     "output_type": "stream",
     "text": [
      "Reusing dataset sci_fact (/home/galtay/.cache/huggingface/datasets/sci_fact/scifact_labelprediction_bigbio_te/1.0.0/32a72fe1020e258ce659a565479106d3fe85e80bce650f0b292bd32f6d692e8c)\n"
     ]
    },
    {
     "data": {
      "application/vnd.jupyter.widget-view+json": {
       "model_id": "cfe0aaa36623439f806135cd24d9f86a",
       "version_major": 2,
       "version_minor": 0
      },
      "text/plain": [
       "  0%|          | 0/3 [00:00<?, ?it/s]"
      ]
     },
     "metadata": {},
     "output_type": "display_data"
    },
    {
     "name": "stderr",
     "output_type": "stream",
     "text": [
      "Reusing dataset sci_q (/home/galtay/.cache/huggingface/datasets/sci_q/sciq_bigbio_qa/1.0.0/9842ca282ee6b4beb0130a8bf5b2fd45d42e0d691834ab9009a1f7c7e92a624c)\n"
     ]
    },
    {
     "data": {
      "application/vnd.jupyter.widget-view+json": {
       "model_id": "cc677c56acb7452aaf7d538f0ae1dca2",
       "version_major": 2,
       "version_minor": 0
      },
      "text/plain": [
       "  0%|          | 0/3 [00:00<?, ?it/s]"
      ]
     },
     "metadata": {},
     "output_type": "display_data"
    },
    {
     "name": "stderr",
     "output_type": "stream",
     "text": [
      "Reusing dataset sci_tail_dataset (/home/galtay/.cache/huggingface/datasets/sci_tail_dataset/scitail_bigbio_te/1.0.0/ecf42397d8ebbc639750e1c62dbc6a945dc3111418e93b26174831ed786b2a42)\n"
     ]
    },
    {
     "data": {
      "application/vnd.jupyter.widget-view+json": {
       "model_id": "e64bad0f32ae4a049f7e2e74a402f59a",
       "version_major": 2,
       "version_minor": 0
      },
      "text/plain": [
       "  0%|          | 0/3 [00:00<?, ?it/s]"
      ]
     },
     "metadata": {},
     "output_type": "display_data"
    },
    {
     "name": "stderr",
     "output_type": "stream",
     "text": [
      "Reusing dataset seth_corpus_dataset (/home/galtay/.cache/huggingface/datasets/seth_corpus_dataset/seth_corpus_bigbio_kb/1.0.0/8408379b021d9337b98455928ed2fc0be00ff3a1a3127a788623674d002f1415)\n"
     ]
    },
    {
     "data": {
      "application/vnd.jupyter.widget-view+json": {
       "model_id": "78c8f45eee894db3b7617db18914acae",
       "version_major": 2,
       "version_minor": 0
      },
      "text/plain": [
       "  0%|          | 0/1 [00:00<?, ?it/s]"
      ]
     },
     "metadata": {},
     "output_type": "display_data"
    },
    {
     "name": "stderr",
     "output_type": "stream",
     "text": [
      "Reusing dataset spl_adr200_db_dataset (/home/galtay/.cache/huggingface/datasets/spl_adr200_db_dataset/spl_adr_200db_train_bigbio_kb/1.0.0/4164d73dc5914f20d6b43071459bd5749c121f911a676af4313a8f50586019c1)\n"
     ]
    },
    {
     "data": {
      "application/vnd.jupyter.widget-view+json": {
       "model_id": "278f93419e124277a1996aba94bfe982",
       "version_major": 2,
       "version_minor": 0
      },
      "text/plain": [
       "  0%|          | 0/1 [00:00<?, ?it/s]"
      ]
     },
     "metadata": {},
     "output_type": "display_data"
    },
    {
     "name": "stderr",
     "output_type": "stream",
     "text": [
      "Reusing dataset spl_adr200_db_dataset (/home/galtay/.cache/huggingface/datasets/spl_adr200_db_dataset/spl_adr_200db_unannotated_bigbio_kb/1.0.0/4164d73dc5914f20d6b43071459bd5749c121f911a676af4313a8f50586019c1)\n"
     ]
    },
    {
     "data": {
      "application/vnd.jupyter.widget-view+json": {
       "model_id": "066e833d42d143109c1c653ed085392f",
       "version_major": 2,
       "version_minor": 0
      },
      "text/plain": [
       "  0%|          | 0/1 [00:00<?, ?it/s]"
      ]
     },
     "metadata": {},
     "output_type": "display_data"
    },
    {
     "name": "stderr",
     "output_type": "stream",
     "text": [
      "Reusing dataset swedish_medical_ner_dataset (/home/galtay/.cache/huggingface/datasets/swedish_medical_ner_dataset/swedish_medical_ner_wiki_bigbio_kb/1.0.0/168be35daa935974181f57f545421e14dd43de7d371e354f0a2bc27c1a498106)\n"
     ]
    },
    {
     "data": {
      "application/vnd.jupyter.widget-view+json": {
       "model_id": "da01c38743a649119729325faa5c2c7f",
       "version_major": 2,
       "version_minor": 0
      },
      "text/plain": [
       "  0%|          | 0/1 [00:00<?, ?it/s]"
      ]
     },
     "metadata": {},
     "output_type": "display_data"
    },
    {
     "name": "stderr",
     "output_type": "stream",
     "text": [
      "Reusing dataset swedish_medical_ner_dataset (/home/galtay/.cache/huggingface/datasets/swedish_medical_ner_dataset/swedish_medical_ner_lt_bigbio_kb/1.0.0/168be35daa935974181f57f545421e14dd43de7d371e354f0a2bc27c1a498106)\n"
     ]
    },
    {
     "data": {
      "application/vnd.jupyter.widget-view+json": {
       "model_id": "e314186674404c6fad58cb242d8f8879",
       "version_major": 2,
       "version_minor": 0
      },
      "text/plain": [
       "  0%|          | 0/1 [00:00<?, ?it/s]"
      ]
     },
     "metadata": {},
     "output_type": "display_data"
    },
    {
     "name": "stderr",
     "output_type": "stream",
     "text": [
      "Reusing dataset swedish_medical_ner_dataset (/home/galtay/.cache/huggingface/datasets/swedish_medical_ner_dataset/swedish_medical_ner_1177_bigbio_kb/1.0.0/168be35daa935974181f57f545421e14dd43de7d371e354f0a2bc27c1a498106)\n"
     ]
    },
    {
     "data": {
      "application/vnd.jupyter.widget-view+json": {
       "model_id": "ee550e3032a2405d84cb2c3d95357995",
       "version_major": 2,
       "version_minor": 0
      },
      "text/plain": [
       "  0%|          | 0/1 [00:00<?, ?it/s]"
      ]
     },
     "metadata": {},
     "output_type": "display_data"
    },
    {
     "name": "stderr",
     "output_type": "stream",
     "text": [
      "Reusing dataset thomas2011_dataset (/home/galtay/.cache/huggingface/datasets/thomas2011_dataset/thomas2011_bigbio_kb/1.0.0/5e9c1ec6acf01c45154fa2b498e340f5742516b0265308ce89955fc05f331beb)\n"
     ]
    },
    {
     "data": {
      "application/vnd.jupyter.widget-view+json": {
       "model_id": "814dc567c26d4f498b2c817bf151a3a8",
       "version_major": 2,
       "version_minor": 0
      },
      "text/plain": [
       "  0%|          | 0/1 [00:00<?, ?it/s]"
      ]
     },
     "metadata": {},
     "output_type": "display_data"
    },
    {
     "name": "stderr",
     "output_type": "stream",
     "text": [
      "Reusing dataset tmvar_v1_dataset (/home/galtay/.cache/huggingface/datasets/tmvar_v1_dataset/tmvar_v1_bigbio_kb/1.0.0/860549c471eb256552ae9ded879cbf1079cde78a799a13b8af59e0d0d0cfff90)\n"
     ]
    },
    {
     "data": {
      "application/vnd.jupyter.widget-view+json": {
       "model_id": "0b855032515e46b582a2c1280c2fb4aa",
       "version_major": 2,
       "version_minor": 0
      },
      "text/plain": [
       "  0%|          | 0/2 [00:00<?, ?it/s]"
      ]
     },
     "metadata": {},
     "output_type": "display_data"
    },
    {
     "name": "stderr",
     "output_type": "stream",
     "text": [
      "Reusing dataset tmvar_v2_dataset (/home/galtay/.cache/huggingface/datasets/tmvar_v2_dataset/tmvar_v2_bigbio_kb/1.0.0/9dc11c7a56cbef69cd37f9444821ee1e7a63fb041ae696d54872fa4e5f19e215)\n"
     ]
    },
    {
     "data": {
      "application/vnd.jupyter.widget-view+json": {
       "model_id": "5de80964ed3248e2afc3bf5fe65e71b3",
       "version_major": 2,
       "version_minor": 0
      },
      "text/plain": [
       "  0%|          | 0/1 [00:00<?, ?it/s]"
      ]
     },
     "metadata": {},
     "output_type": "display_data"
    },
    {
     "name": "stderr",
     "output_type": "stream",
     "text": [
      "Reusing dataset tmvar_v3_dataset (/home/galtay/.cache/huggingface/datasets/tmvar_v3_dataset/tmvar_v3_bigbio_kb/1.0.0/0a53a482bab48f4c7f34298ee9fb39ccecf048bee3b0116b76df630b0f075532)\n"
     ]
    },
    {
     "data": {
      "application/vnd.jupyter.widget-view+json": {
       "model_id": "8d18748819bc482fa2c7a8089a1b9821",
       "version_major": 2,
       "version_minor": 0
      },
      "text/plain": [
       "  0%|          | 0/1 [00:00<?, ?it/s]"
      ]
     },
     "metadata": {},
     "output_type": "display_data"
    },
    {
     "name": "stderr",
     "output_type": "stream",
     "text": [
      "Reusing dataset tw_adrl (/home/galtay/.cache/huggingface/datasets/tw_adrl/twadrl_bigbio_kb/1.0.0/50f1c12d9fcc52da1820d0083e6c1f32a47b8639b44f8b37abcde00740b16364)\n"
     ]
    },
    {
     "data": {
      "application/vnd.jupyter.widget-view+json": {
       "model_id": "60283338028a423f9bf42bd47f081a5c",
       "version_major": 2,
       "version_minor": 0
      },
      "text/plain": [
       "  0%|          | 0/30 [00:00<?, ?it/s]"
      ]
     },
     "metadata": {},
     "output_type": "display_data"
    },
    {
     "name": "stderr",
     "output_type": "stream",
     "text": [
      "Reusing dataset umnsrs_dataset (/home/galtay/.cache/huggingface/datasets/umnsrs_dataset/umnsrs_similarity_mod_bigbio_pairs/1.0.0/8c7002a472ad988e442babd6c70bd30d98eede363282d56922ace6db655cbf3a)\n"
     ]
    },
    {
     "data": {
      "application/vnd.jupyter.widget-view+json": {
       "model_id": "6a5cc9b94bbf46569318884309216900",
       "version_major": 2,
       "version_minor": 0
      },
      "text/plain": [
       "  0%|          | 0/1 [00:00<?, ?it/s]"
      ]
     },
     "metadata": {},
     "output_type": "display_data"
    },
    {
     "name": "stderr",
     "output_type": "stream",
     "text": [
      "Reusing dataset umnsrs_dataset (/home/galtay/.cache/huggingface/datasets/umnsrs_dataset/umnsrs_similarity_bigbio_pairs/1.0.0/8c7002a472ad988e442babd6c70bd30d98eede363282d56922ace6db655cbf3a)\n"
     ]
    },
    {
     "data": {
      "application/vnd.jupyter.widget-view+json": {
       "model_id": "5b10732ed1a543b18889572ce9569185",
       "version_major": 2,
       "version_minor": 0
      },
      "text/plain": [
       "  0%|          | 0/1 [00:00<?, ?it/s]"
      ]
     },
     "metadata": {},
     "output_type": "display_data"
    },
    {
     "name": "stderr",
     "output_type": "stream",
     "text": [
      "Reusing dataset umnsrs_dataset (/home/galtay/.cache/huggingface/datasets/umnsrs_dataset/umnsrs_relatedness_mod_bigbio_pairs/1.0.0/8c7002a472ad988e442babd6c70bd30d98eede363282d56922ace6db655cbf3a)\n"
     ]
    },
    {
     "data": {
      "application/vnd.jupyter.widget-view+json": {
       "model_id": "c72a69ad99ce4075b3ff16a85a2c65be",
       "version_major": 2,
       "version_minor": 0
      },
      "text/plain": [
       "  0%|          | 0/1 [00:00<?, ?it/s]"
      ]
     },
     "metadata": {},
     "output_type": "display_data"
    },
    {
     "name": "stderr",
     "output_type": "stream",
     "text": [
      "Reusing dataset umnsrs_dataset (/home/galtay/.cache/huggingface/datasets/umnsrs_dataset/umnsrs_relatedness_bigbio_pairs/1.0.0/8c7002a472ad988e442babd6c70bd30d98eede363282d56922ace6db655cbf3a)\n"
     ]
    },
    {
     "data": {
      "application/vnd.jupyter.widget-view+json": {
       "model_id": "eb00a93e2fe24e26a6b3e00806772ca0",
       "version_major": 2,
       "version_minor": 0
      },
      "text/plain": [
       "  0%|          | 0/1 [00:00<?, ?it/s]"
      ]
     },
     "metadata": {},
     "output_type": "display_data"
    },
    {
     "name": "stderr",
     "output_type": "stream",
     "text": [
      "Reusing dataset verspoor2013_dataset (/home/galtay/.cache/huggingface/datasets/verspoor2013_dataset/verspoor_2013_bigbio_kb/1.0.0/7494b1d9332951566d7e01281b0e7ced1634721918510ce9fb40795490119ee0)\n"
     ]
    },
    {
     "data": {
      "application/vnd.jupyter.widget-view+json": {
       "model_id": "c1d7b43db7bf42a2a0f445ba886229cc",
       "version_major": 2,
       "version_minor": 0
      },
      "text/plain": [
       "  0%|          | 0/1 [00:00<?, ?it/s]"
      ]
     },
     "metadata": {},
     "output_type": "display_data"
    }
   ],
   "source": [
    "bb_public_datasets = {\n",
    "    helper.config.name: helper.load_dataset()\n",
    "    for helper in bb_public_helpers\n",
    "    if helper.dataset_name != 'bioasq_2021_mesinesp' # hosting is spotty\n",
    "}"
   ]
  },
  {
   "cell_type": "markdown",
   "id": "b1a52519",
   "metadata": {},
   "source": [
    "# Dataset Metadata\n",
    "\n",
    "Each BigBioConfigHelper provides a get_metadata method that will calculate schema specific metadata for configs implementing a BigBIO schema. For example,"
   ]
  },
  {
   "cell_type": "code",
   "execution_count": 12,
   "id": "37ac86b5",
   "metadata": {},
   "outputs": [
    {
     "name": "stderr",
     "output_type": "stream",
     "text": [
      "Reusing dataset bc5cdr_dataset (/home/galtay/.cache/huggingface/datasets/bc5cdr_dataset/bc5cdr_bigbio_kb/1.0.0/f01f16ea9b65ead985bedadf7335195c32297c8f1b09417fc607b102a6757d6f)\n"
     ]
    },
    {
     "data": {
      "application/vnd.jupyter.widget-view+json": {
       "model_id": "25a30b3db2754bda8e5048a1bfcd4454",
       "version_major": 2,
       "version_minor": 0
      },
      "text/plain": [
       "  0%|          | 0/3 [00:00<?, ?it/s]"
      ]
     },
     "metadata": {},
     "output_type": "display_data"
    },
    {
     "data": {
      "text/plain": [
       "{'train': BigBioKbMetadata(samples_count=500, passages_count=1000, passages_char_count=652177, passages_type_counter={'title': 500, 'abstract': 500}, entities_count=9570, entities_normalized_count=9599, entities_type_counter={'Chemical': 5207, 'Disease': 4363}, entities_db_name_counter={'MESH': 9599}, entities_unique_db_ids_count=1328, events_count=0, events_type_counter={}, events_arguments_count=0, events_arguments_role_counter={}, coreferences_count=0, relations_count=15072, relations_type_counter={'CID': 15072}, relations_db_name_counter={}, relations_unique_db_ids_count=0),\n",
       " 'test': BigBioKbMetadata(samples_count=500, passages_count=1000, passages_char_count=676751, passages_type_counter={'title': 500, 'abstract': 500}, entities_count=9928, entities_normalized_count=9919, entities_type_counter={'Chemical': 5394, 'Disease': 4534}, entities_db_name_counter={'MESH': 9919}, entities_unique_db_ids_count=1315, events_count=0, events_type_counter={}, events_arguments_count=0, events_arguments_role_counter={}, coreferences_count=0, relations_count=16250, relations_type_counter={'CID': 16250}, relations_db_name_counter={}, relations_unique_db_ids_count=0),\n",
       " 'validation': BigBioKbMetadata(samples_count=500, passages_count=1000, passages_char_count=646528, passages_type_counter={'title': 500, 'abstract': 500}, entities_count=9773, entities_normalized_count=9817, entities_type_counter={'Chemical': 5352, 'Disease': 4421}, entities_db_name_counter={'MESH': 9817}, entities_unique_db_ids_count=1264, events_count=0, events_type_counter={}, events_arguments_count=0, events_arguments_role_counter={}, coreferences_count=0, relations_count=16491, relations_type_counter={'CID': 16491}, relations_db_name_counter={}, relations_unique_db_ids_count=0)}"
      ]
     },
     "execution_count": 12,
     "metadata": {},
     "output_type": "execute_result"
    }
   ],
   "source": [
    "conhelps.for_config_name('bc5cdr_bigbio_kb').get_metadata()"
   ]
  },
  {
   "cell_type": "code",
   "execution_count": null,
   "id": "c7d84e4d",
   "metadata": {},
   "outputs": [],
   "source": []
  }
 ],
 "metadata": {
  "kernelspec": {
   "display_name": "Python 3 (ipykernel)",
   "language": "python",
   "name": "python3"
  },
  "language_info": {
   "codemirror_mode": {
    "name": "ipython",
    "version": 3
   },
   "file_extension": ".py",
   "mimetype": "text/x-python",
   "name": "python",
   "nbconvert_exporter": "python",
   "pygments_lexer": "ipython3",
   "version": "3.10.4"
  }
 },
 "nbformat": 4,
 "nbformat_minor": 5
}
